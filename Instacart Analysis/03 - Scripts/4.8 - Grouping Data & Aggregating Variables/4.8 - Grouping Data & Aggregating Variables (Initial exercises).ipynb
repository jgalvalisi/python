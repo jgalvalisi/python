{
 "cells": [
  {
   "cell_type": "markdown",
   "id": "5ac21e39",
   "metadata": {},
   "source": [
    "# 4.8 - Grouping Data & Aggregating Variables"
   ]
  },
  {
   "cell_type": "markdown",
   "id": "af1fdd44",
   "metadata": {},
   "source": [
    "### This script contains the following points:\n",
    "\n",
    "* 01 - Importing Libraries\n",
    "* 02 - Importing Data\n",
    "* 03 - Creating a Subset of 1 Million\n",
    "* 04 - Aggregating Data with agg()\n",
    "* 05 - Aggregating Data with transform()\n",
    "* 06 - Deriving Columns with loc()\n",
    "* 07 - Exporting Data"
   ]
  },
  {
   "cell_type": "markdown",
   "id": "eb79b621",
   "metadata": {},
   "source": [
    "---"
   ]
  },
  {
   "cell_type": "markdown",
   "id": "fa5edb55",
   "metadata": {},
   "source": [
    "## 01 - Importing Libraries"
   ]
  },
  {
   "cell_type": "code",
   "execution_count": null,
   "id": "17ecba3e",
   "metadata": {},
   "outputs": [],
   "source": [
    "# Import libraries\n",
    "\n",
    "import pandas as pd\n",
    "import numpy as np\n",
    "import os"
   ]
  },
  {
   "cell_type": "markdown",
   "id": "a81d1f69",
   "metadata": {},
   "source": [
    "---"
   ]
  },
  {
   "cell_type": "markdown",
   "id": "d8984130",
   "metadata": {},
   "source": [
    "## 02 - Importing Data"
   ]
  },
  {
   "cell_type": "code",
   "execution_count": null,
   "id": "375f8e7a",
   "metadata": {},
   "outputs": [],
   "source": [
    "# Define path\n",
    "\n",
    "path = r'/Users/juanigalvalisi/01-07-2022 - Instacart Basket Analysis/'"
   ]
  },
  {
   "cell_type": "code",
   "execution_count": null,
   "id": "00a539be",
   "metadata": {},
   "outputs": [],
   "source": [
    "# Import .PKL\n",
    "\n",
    "ords_prods_merge = pd.read_pickle(os.path.join(path, '02 - Data', 'Prepared Data', 'orders_products_merged_v2.pkl'))"
   ]
  },
  {
   "cell_type": "markdown",
   "id": "180f6ac1",
   "metadata": {},
   "source": [
    "---"
   ]
  },
  {
   "cell_type": "markdown",
   "id": "68e1e190",
   "metadata": {},
   "source": [
    "## 03 - Creating a Subset of 1 million"
   ]
  },
  {
   "cell_type": "code",
   "execution_count": null,
   "id": "3de3ca3b",
   "metadata": {},
   "outputs": [],
   "source": [
    "# Create a subset\n",
    "\n",
    "df = ords_prods_merge[:1000000]"
   ]
  },
  {
   "cell_type": "code",
   "execution_count": null,
   "id": "6d530ae9",
   "metadata": {},
   "outputs": [],
   "source": [
    "# Check output\n",
    "\n",
    "df.shape"
   ]
  },
  {
   "cell_type": "code",
   "execution_count": null,
   "id": "65c569d0",
   "metadata": {},
   "outputs": [],
   "source": [
    "df.head(10)"
   ]
  },
  {
   "cell_type": "markdown",
   "id": "495e0ee1",
   "metadata": {},
   "source": [
    "---"
   ]
  },
  {
   "cell_type": "markdown",
   "id": "1fb83508",
   "metadata": {},
   "source": [
    "## 04 - Grouping Data with Pandas"
   ]
  },
  {
   "cell_type": "code",
   "execution_count": null,
   "id": "265eb11c",
   "metadata": {},
   "outputs": [],
   "source": [
    "# 1) Split the data into groups based on the given criteria\n",
    "\n",
    "df.groupby('product_name')"
   ]
  },
  {
   "cell_type": "markdown",
   "id": "cc05c6d0",
   "metadata": {},
   "source": [
    "---"
   ]
  },
  {
   "cell_type": "markdown",
   "id": "26faeba4",
   "metadata": {},
   "source": [
    "## 05 - Aggregating Data with agg()"
   ]
  },
  {
   "cell_type": "code",
   "execution_count": null,
   "id": "677bef04",
   "metadata": {},
   "outputs": [],
   "source": [
    "# 2) Apply a function to each group separately\n",
    "# Apply the agg() function to each group to obtain the mean values for the “order_number” column\n",
    "\n",
    "df.groupby('department_id').agg({'order_number': ['mean']})"
   ]
  },
  {
   "cell_type": "code",
   "execution_count": null,
   "id": "e3c921d0",
   "metadata": {
    "scrolled": true
   },
   "outputs": [],
   "source": [
    "# Aggregations that can be conducted without use of the agg()\n",
    "# A) .mean() + SQUARE BRACKETS\n",
    "\n",
    "df.groupby('department_id')['order_number'].mean()"
   ]
  },
  {
   "cell_type": "code",
   "execution_count": null,
   "id": "aabe38bd",
   "metadata": {},
   "outputs": [],
   "source": [
    "# B).mean() + DOT NOTATION\n",
    "\n",
    "df.groupby('department_id').order_number.mean()"
   ]
  },
  {
   "cell_type": "code",
   "execution_count": null,
   "id": "c1cf4c38",
   "metadata": {},
   "outputs": [],
   "source": [
    "# Performing Multiple Aggregations\n",
    "\n",
    "df.groupby('department_id').agg({'order_number': ['mean', 'min', 'max']})"
   ]
  },
  {
   "cell_type": "code",
   "execution_count": null,
   "id": "1e781cef",
   "metadata": {},
   "outputs": [],
   "source": [
    "# 3) Combine the results into a dataframe or alternative data\n",
    "# structure or create a new column in the current dataframe."
   ]
  },
  {
   "cell_type": "markdown",
   "id": "e400a15b",
   "metadata": {},
   "source": [
    "---"
   ]
  },
  {
   "cell_type": "markdown",
   "id": "d3d62e5b",
   "metadata": {},
   "source": [
    "## 06 - Aggregating Data with transform()"
   ]
  },
  {
   "cell_type": "code",
   "execution_count": null,
   "id": "03fdbcbf",
   "metadata": {},
   "outputs": [],
   "source": [
    "# Create a new column, “max_order,” into which you’ll place the results of your aggregation.\n",
    "\n",
    "ords_prods_merge['max_order'] = ords_prods_merge.groupby(['user_id'])['order_number'].transform(np.max)"
   ]
  },
  {
   "cell_type": "code",
   "execution_count": null,
   "id": "e7a7da72",
   "metadata": {
    "scrolled": true
   },
   "outputs": [],
   "source": [
    "# Check the output\n",
    "\n",
    "ords_prods_merge.head(15)"
   ]
  },
  {
   "cell_type": "code",
   "execution_count": null,
   "id": "516585c4",
   "metadata": {
    "scrolled": true
   },
   "outputs": [],
   "source": [
    "# Check the output but wihtout maximum of rows\n",
    "\n",
    "pd.options.display.max_rows = None\n",
    "ords_prods_merge.head(100)"
   ]
  },
  {
   "cell_type": "markdown",
   "id": "55dd7037",
   "metadata": {},
   "source": [
    "---"
   ]
  },
  {
   "cell_type": "markdown",
   "id": "c04f1e46",
   "metadata": {},
   "source": [
    "## 07 - Deriving Columns with loc()\n",
    "\n"
   ]
  },
  {
   "cell_type": "code",
   "execution_count": null,
   "id": "ca4f18dc",
   "metadata": {},
   "outputs": [],
   "source": [
    "# Create a flag that assigns a “loyalty” label to a user ID based on its corresponding max order value\n",
    "\n",
    "ords_prods_merge.loc[ords_prods_merge['max_order'] > 40, 'loyalty_flag'] = 'Loyal customer'"
   ]
  },
  {
   "cell_type": "code",
   "execution_count": null,
   "id": "431a17e5",
   "metadata": {},
   "outputs": [],
   "source": [
    "ords_prods_merge.loc[(ords_prods_merge['max_order'] <= 40) & (ords_prods_merge['max_order'] > 10), 'loyalty_flag'] = 'Regular customer'"
   ]
  },
  {
   "cell_type": "code",
   "execution_count": null,
   "id": "4a71fbd3",
   "metadata": {},
   "outputs": [],
   "source": [
    "ords_prods_merge.loc[ords_prods_merge['max_order'] <= 10, 'loyalty_flag'] = 'New customer'"
   ]
  },
  {
   "cell_type": "code",
   "execution_count": null,
   "id": "265edfcc",
   "metadata": {},
   "outputs": [],
   "source": [
    "# Check the frequency of the new column 'loyalty_flag'\n",
    "\n",
    "ords_prods_merge['loyalty_flag'].value_counts(dropna = False)"
   ]
  },
  {
   "cell_type": "code",
   "execution_count": null,
   "id": "65d29c76",
   "metadata": {},
   "outputs": [],
   "source": [
    "# Check the output of this specific column\n",
    "\n",
    "ords_prods_merge['loyalty_flag']"
   ]
  },
  {
   "cell_type": "code",
   "execution_count": null,
   "id": "ef09dbf1",
   "metadata": {
    "scrolled": true
   },
   "outputs": [],
   "source": [
    "# Check the output of multiple columns at the same time\n",
    "\n",
    "ords_prods_merge[['user_id', 'loyalty_flag', 'order_number']].head(10)"
   ]
  },
  {
   "cell_type": "markdown",
   "id": "0e992e6a",
   "metadata": {},
   "source": [
    "---"
   ]
  },
  {
   "cell_type": "markdown",
   "id": "b0b96b01",
   "metadata": {},
   "source": [
    "## 07 - Exporting Data\n",
    "\n"
   ]
  },
  {
   "cell_type": "code",
   "execution_count": null,
   "id": "865ca82e",
   "metadata": {},
   "outputs": [],
   "source": [
    "# Export ords_prods_merge as .pkl\n",
    "\n",
    "ords_prods_merge.to_pickle(os.path.join(path, '02 - Data', 'Prepared Data', 'orders_products_merged_v3.pkl'))"
   ]
  }
 ],
 "metadata": {
  "kernelspec": {
   "display_name": "Python 3 (ipykernel)",
   "language": "python",
   "name": "python3"
  },
  "language_info": {
   "codemirror_mode": {
    "name": "ipython",
    "version": 3
   },
   "file_extension": ".py",
   "mimetype": "text/x-python",
   "name": "python",
   "nbconvert_exporter": "python",
   "pygments_lexer": "ipython3",
   "version": "3.9.7"
  }
 },
 "nbformat": 4,
 "nbformat_minor": 5
}
