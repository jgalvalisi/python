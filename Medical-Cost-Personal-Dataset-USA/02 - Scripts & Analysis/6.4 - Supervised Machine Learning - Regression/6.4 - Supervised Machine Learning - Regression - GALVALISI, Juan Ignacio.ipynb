{
 "cells": [
  {
   "cell_type": "markdown",
   "id": "d8cdd773",
   "metadata": {},
   "source": [
    "# 6.4 - Supervised Machine Learning - Regression"
   ]
  },
  {
   "cell_type": "markdown",
   "id": "09afae9c",
   "metadata": {},
   "source": [
    "### This script contains the following points:\n",
    "\n",
    "* 1 - Import Data & Libraries\n",
    "* 2 - Data Wrangling\n",
    "    * I) Data Consistency\n",
    "    * II) Duplicates\n",
    "    * III) Extreme Values\n",
    "* 3 - Hypotheses:\n",
    "     * A) As a person ages, he/she will have to pay for more expensive insurance.Data Preparation for Regression Analysis\n",
    "         * I) Data Preparation for Regression Analysis\n",
    "         * II) Regression Analysis\n",
    "         * III) Modification of the Model\n",
    "     * B) The higher the body mass index level, the higher the cost per person.\n",
    "         * I) Data Preparation for Regression Analysis\n",
    "         * II) Regression Analysis\n",
    "* 4 - Final Conclusions\n",
    "* 5 - Exporting Data"
   ]
  },
  {
   "cell_type": "markdown",
   "id": "c86c1adc",
   "metadata": {},
   "source": [
    "---"
   ]
  },
  {
   "cell_type": "markdown",
   "id": "6f14ad0b",
   "metadata": {},
   "source": [
    "## 1. Import Data & Libraries"
   ]
  },
  {
   "cell_type": "code",
   "execution_count": 2,
   "id": "766af7bb",
   "metadata": {},
   "outputs": [],
   "source": [
    "# Import libraries\n",
    "\n",
    "import pandas as pd\n",
    "import numpy as np\n",
    "import seaborn as sns\n",
    "import matplotlib\n",
    "import matplotlib.pyplot as plt\n",
    "import os\n",
    "import sklearn\n",
    "from sklearn.model_selection import train_test_split \n",
    "from sklearn.linear_model import LinearRegression\n",
    "from sklearn.metrics import mean_squared_error, r2_score"
   ]
  },
  {
   "cell_type": "code",
   "execution_count": 3,
   "id": "13014913",
   "metadata": {},
   "outputs": [],
   "source": [
    "# This command propts matplotlib visuals to appear in the notebook \n",
    "\n",
    "%matplotlib inline"
   ]
  },
  {
   "cell_type": "code",
   "execution_count": 4,
   "id": "b379d2e3",
   "metadata": {},
   "outputs": [],
   "source": [
    "# Define path\n",
    "\n",
    "path = r'/Users/juanigalvalisi/Desktop/Data Analyst/Achievement 6/'"
   ]
  },
  {
   "cell_type": "code",
   "execution_count": 5,
   "id": "887b2885",
   "metadata": {},
   "outputs": [],
   "source": [
    "# Import .PKL\n",
    "\n",
    "df_medical_costs = pd.read_pickle(os.path.join(path, 'medical_cost_categories.pkl'))"
   ]
  },
  {
   "cell_type": "code",
   "execution_count": 6,
   "id": "003ee280",
   "metadata": {},
   "outputs": [
    {
     "data": {
      "text/html": [
       "<div>\n",
       "<style scoped>\n",
       "    .dataframe tbody tr th:only-of-type {\n",
       "        vertical-align: middle;\n",
       "    }\n",
       "\n",
       "    .dataframe tbody tr th {\n",
       "        vertical-align: top;\n",
       "    }\n",
       "\n",
       "    .dataframe thead th {\n",
       "        text-align: right;\n",
       "    }\n",
       "</style>\n",
       "<table border=\"1\" class=\"dataframe\">\n",
       "  <thead>\n",
       "    <tr style=\"text-align: right;\">\n",
       "      <th></th>\n",
       "      <th>Age</th>\n",
       "      <th>Sex</th>\n",
       "      <th>Body_mass_index</th>\n",
       "      <th>Children</th>\n",
       "      <th>Smoker</th>\n",
       "      <th>Region</th>\n",
       "      <th>Charges</th>\n",
       "      <th>Age_range</th>\n",
       "      <th>Cost_category</th>\n",
       "    </tr>\n",
       "  </thead>\n",
       "  <tbody>\n",
       "    <tr>\n",
       "      <th>0</th>\n",
       "      <td>19</td>\n",
       "      <td>female</td>\n",
       "      <td>27.900</td>\n",
       "      <td>0</td>\n",
       "      <td>yes</td>\n",
       "      <td>southwest</td>\n",
       "      <td>16884.92400</td>\n",
       "      <td>Young</td>\n",
       "      <td>Middle cost</td>\n",
       "    </tr>\n",
       "    <tr>\n",
       "      <th>1</th>\n",
       "      <td>18</td>\n",
       "      <td>male</td>\n",
       "      <td>33.770</td>\n",
       "      <td>1</td>\n",
       "      <td>no</td>\n",
       "      <td>southeast</td>\n",
       "      <td>1725.55230</td>\n",
       "      <td>Young</td>\n",
       "      <td>Low cost</td>\n",
       "    </tr>\n",
       "    <tr>\n",
       "      <th>2</th>\n",
       "      <td>28</td>\n",
       "      <td>male</td>\n",
       "      <td>33.000</td>\n",
       "      <td>3</td>\n",
       "      <td>no</td>\n",
       "      <td>southeast</td>\n",
       "      <td>4449.46200</td>\n",
       "      <td>Young</td>\n",
       "      <td>Low cost</td>\n",
       "    </tr>\n",
       "    <tr>\n",
       "      <th>3</th>\n",
       "      <td>33</td>\n",
       "      <td>male</td>\n",
       "      <td>22.705</td>\n",
       "      <td>0</td>\n",
       "      <td>no</td>\n",
       "      <td>northwest</td>\n",
       "      <td>21984.47061</td>\n",
       "      <td>Adult</td>\n",
       "      <td>Middle cost</td>\n",
       "    </tr>\n",
       "    <tr>\n",
       "      <th>4</th>\n",
       "      <td>32</td>\n",
       "      <td>male</td>\n",
       "      <td>28.880</td>\n",
       "      <td>0</td>\n",
       "      <td>no</td>\n",
       "      <td>northwest</td>\n",
       "      <td>3866.85520</td>\n",
       "      <td>Adult</td>\n",
       "      <td>Low cost</td>\n",
       "    </tr>\n",
       "  </tbody>\n",
       "</table>\n",
       "</div>"
      ],
      "text/plain": [
       "   Age     Sex  Body_mass_index  Children Smoker     Region      Charges  \\\n",
       "0   19  female           27.900         0    yes  southwest  16884.92400   \n",
       "1   18    male           33.770         1     no  southeast   1725.55230   \n",
       "2   28    male           33.000         3     no  southeast   4449.46200   \n",
       "3   33    male           22.705         0     no  northwest  21984.47061   \n",
       "4   32    male           28.880         0     no  northwest   3866.85520   \n",
       "\n",
       "  Age_range Cost_category  \n",
       "0     Young   Middle cost  \n",
       "1     Young      Low cost  \n",
       "2     Young      Low cost  \n",
       "3     Adult   Middle cost  \n",
       "4     Adult      Low cost  "
      ]
     },
     "execution_count": 6,
     "metadata": {},
     "output_type": "execute_result"
    }
   ],
   "source": [
    "# Check the output of df_medical_costs\n",
    "\n",
    "df_medical_costs.head()"
   ]
  },
  {
   "cell_type": "code",
   "execution_count": 7,
   "id": "40b1f099",
   "metadata": {},
   "outputs": [
    {
     "data": {
      "text/plain": [
       "(1337, 9)"
      ]
     },
     "execution_count": 7,
     "metadata": {},
     "output_type": "execute_result"
    }
   ],
   "source": [
    "# Check the output of df_medical_costs\n",
    "\n",
    "df_medical_costs.shape"
   ]
  },
  {
   "cell_type": "code",
   "execution_count": 8,
   "id": "61443a75",
   "metadata": {},
   "outputs": [
    {
     "name": "stdout",
     "output_type": "stream",
     "text": [
      "<class 'pandas.core.frame.DataFrame'>\n",
      "Int64Index: 1337 entries, 0 to 1337\n",
      "Data columns (total 9 columns):\n",
      " #   Column           Non-Null Count  Dtype  \n",
      "---  ------           --------------  -----  \n",
      " 0   Age              1337 non-null   int64  \n",
      " 1   Sex              1337 non-null   object \n",
      " 2   Body_mass_index  1337 non-null   float64\n",
      " 3   Children         1337 non-null   int64  \n",
      " 4   Smoker           1337 non-null   object \n",
      " 5   Region           1337 non-null   object \n",
      " 6   Charges          1337 non-null   float64\n",
      " 7   Age_range        1337 non-null   object \n",
      " 8   Cost_category    1337 non-null   object \n",
      "dtypes: float64(2), int64(2), object(5)\n",
      "memory usage: 104.5+ KB\n"
     ]
    }
   ],
   "source": [
    "# Check the output of df_medical_costs\n",
    "\n",
    "df_medical_costs.info()"
   ]
  },
  {
   "cell_type": "markdown",
   "id": "dd509e50",
   "metadata": {},
   "source": [
    "---"
   ]
  },
  {
   "cell_type": "markdown",
   "id": "6a4e9adc",
   "metadata": {},
   "source": [
    "## 2. Data Wrangling & Cleaning"
   ]
  },
  {
   "cell_type": "markdown",
   "id": "cb42ac72",
   "metadata": {},
   "source": [
    "### I) Data Consistency"
   ]
  },
  {
   "cell_type": "code",
   "execution_count": 9,
   "id": "0d985eac",
   "metadata": {},
   "outputs": [
    {
     "data": {
      "text/plain": [
       "Age                0\n",
       "Sex                0\n",
       "Body_mass_index    0\n",
       "Children           0\n",
       "Smoker             0\n",
       "Region             0\n",
       "Charges            0\n",
       "Age_range          0\n",
       "Cost_category      0\n",
       "dtype: int64"
      ]
     },
     "execution_count": 9,
     "metadata": {},
     "output_type": "execute_result"
    }
   ],
   "source": [
    "# Check for missing values\n",
    "\n",
    "df_medical_costs.isnull().sum()"
   ]
  },
  {
   "cell_type": "markdown",
   "id": "dc76ef5a",
   "metadata": {},
   "source": [
    "### II) Duplicates"
   ]
  },
  {
   "cell_type": "code",
   "execution_count": 11,
   "id": "f175de44",
   "metadata": {},
   "outputs": [],
   "source": [
    "dups = df_medical_costs.duplicated()"
   ]
  },
  {
   "cell_type": "code",
   "execution_count": 12,
   "id": "f4193978",
   "metadata": {},
   "outputs": [
    {
     "data": {
      "text/plain": [
       "(1337,)"
      ]
     },
     "execution_count": 12,
     "metadata": {},
     "output_type": "execute_result"
    }
   ],
   "source": [
    "dups.shape # no dups"
   ]
  },
  {
   "cell_type": "markdown",
   "id": "9b6cea68",
   "metadata": {},
   "source": [
    "### III) Extreme Values"
   ]
  },
  {
   "cell_type": "code",
   "execution_count": 13,
   "id": "44e85c2a",
   "metadata": {},
   "outputs": [
    {
     "data": {
      "text/plain": [
       "<AxesSubplot:xlabel='Charges', ylabel='Count'>"
      ]
     },
     "execution_count": 13,
     "metadata": {},
     "output_type": "execute_result"
    },
    {
     "data": {
      "image/png": "[encoded data removed]",
      "text/plain": [
       "<Figure size 432x288 with 1 Axes>"
      ]
     },
     "metadata": {
      "needs_background": "light"
     },
     "output_type": "display_data"
    }
   ],
   "source": [
    "sns.histplot(df_medical_costs['Charges'], bins=20, kde = True) # shows extreme values for 'Charges'"
   ]
  },
  {
   "cell_type": "code",
   "execution_count": 14,
   "id": "6e6c160f",
   "metadata": {},
   "outputs": [
    {
     "data": {
      "text/plain": [
       "<AxesSubplot:xlabel='Body_mass_index', ylabel='Count'>"
      ]
     },
     "execution_count": 14,
     "metadata": {},
     "output_type": "execute_result"
    },
    {
     "data": {
      "image/png": "[encoded data removed]",
      "text/plain": [
       "<Figure size 432x288 with 1 Axes>"
      ]
     },
     "metadata": {
      "needs_background": "light"
     },
     "output_type": "display_data"
    }
   ],
   "source": [
    "sns.histplot(df_medical_costs['Body_mass_index'], bins=20, kde = True) # shows extreme values for 'Body mass index'"
   ]
  },
  {
   "cell_type": "code",
   "execution_count": 15,
   "id": "05254f9c",
   "metadata": {},
   "outputs": [
    {
     "data": {
      "text/plain": [
       "<AxesSubplot:xlabel='Children', ylabel='Count'>"
      ]
     },
     "execution_count": 15,
     "metadata": {},
     "output_type": "execute_result"
    },
    {
     "data": {
      "image/png": "[encoded data removed]",
      "text/plain": [
       "<Figure size 432x288 with 1 Axes>"
      ]
     },
     "metadata": {
      "needs_background": "light"
     },
     "output_type": "display_data"
    }
   ],
   "source": [
    "sns.histplot(df_medical_costs['Children'], bins=20, kde = True) # shows extreme values for 'Children'"
   ]
  },
  {
   "cell_type": "markdown",
   "id": "ed97a99f",
   "metadata": {},
   "source": [
    "---"
   ]
  },
  {
   "cell_type": "markdown",
   "id": "968df935",
   "metadata": {},
   "source": [
    "## 3. Hypotheses"
   ]
  },
  {
   "cell_type": "markdown",
   "id": "32b47fd3",
   "metadata": {},
   "source": [
    "* A) As a person ages, he/she will have to pay for more expensive insurance.\n",
    "* B) The higher the body mass index level, the higher the cost per person."
   ]
  },
  {
   "cell_type": "markdown",
   "id": "02c6f47a",
   "metadata": {},
   "source": [
    "## 3. A) As a person ages, he/she will have to pay for more expensive insurance."
   ]
  },
  {
   "cell_type": "markdown",
   "id": "22d46e10",
   "metadata": {},
   "source": [
    "### I) Data Preparation for Regression Analysis"
   ]
  },
  {
   "cell_type": "markdown",
   "id": "6dcea653",
   "metadata": {},
   "source": [
    "#### Age vs. Charges"
   ]
  },
  {
   "cell_type": "code",
   "execution_count": 16,
   "id": "7efe4535",
   "metadata": {},
   "outputs": [
    {
     "data": {
      "image/png": "[encoded data removed]",
      "text/plain": [
       "<Figure size 432x288 with 1 Axes>"
      ]
     },
     "metadata": {
      "needs_background": "light"
     },
     "output_type": "display_data"
    }
   ],
   "source": [
    "# Scatterplot to investigate how Age and Charges variables plot against each other.\n",
    "\n",
    "df_medical_costs.plot(x = 'Age', y='Charges',style='o')\n",
    "plt.title('Age vs. Charges')\n",
    "plt.xlabel('Age')\n",
    "plt.ylabel('Charges')\n",
    "plt.show()"
   ]
  },
  {
   "cell_type": "code",
   "execution_count": 17,
   "id": "b95344c2",
   "metadata": {},
   "outputs": [],
   "source": [
    "# Reshape the variables into NumPy arrays and put them into separate objects.\n",
    "\n",
    "X = df_medical_costs['Age'].values.reshape(-1,1)\n",
    "y = df_medical_costs['Charges'].values.reshape(-1,1)"
   ]
  },
  {
   "cell_type": "code",
   "execution_count": 18,
   "id": "0476f4d1",
   "metadata": {},
   "outputs": [
    {
     "data": {
      "text/plain": [
       "array([[19],\n",
       "       [18],\n",
       "       [28],\n",
       "       ...,\n",
       "       [18],\n",
       "       [21],\n",
       "       [61]])"
      ]
     },
     "execution_count": 18,
     "metadata": {},
     "output_type": "execute_result"
    }
   ],
   "source": [
    "X"
   ]
  },
  {
   "cell_type": "code",
   "execution_count": 19,
   "id": "30b34c03",
   "metadata": {},
   "outputs": [
    {
     "data": {
      "text/plain": [
       "array([[16884.924 ],\n",
       "       [ 1725.5523],\n",
       "       [ 4449.462 ],\n",
       "       ...,\n",
       "       [ 1629.8335],\n",
       "       [ 2007.945 ],\n",
       "       [29141.3603]])"
      ]
     },
     "execution_count": 19,
     "metadata": {},
     "output_type": "execute_result"
    }
   ],
   "source": [
    "y"
   ]
  },
  {
   "cell_type": "code",
   "execution_count": 20,
   "id": "89e96f7c",
   "metadata": {},
   "outputs": [],
   "source": [
    "# Split data into a training set and a test set.\n",
    "\n",
    "X_train, X_test, y_train, y_test = train_test_split(X, y, test_size=0.3, random_state=0)"
   ]
  },
  {
   "cell_type": "markdown",
   "id": "c54ab2cd",
   "metadata": {},
   "source": [
    "### II) Regression Analysis"
   ]
  },
  {
   "cell_type": "code",
   "execution_count": 21,
   "id": "d3b82505",
   "metadata": {},
   "outputs": [],
   "source": [
    "# Create a regression object.\n",
    "\n",
    "regression = LinearRegression()  # Regression object, which will be fit onto the training set."
   ]
  },
  {
   "cell_type": "code",
   "execution_count": 22,
   "id": "cc7723f7",
   "metadata": {},
   "outputs": [
    {
     "data": {
      "text/plain": [
       "LinearRegression()"
      ]
     },
     "execution_count": 22,
     "metadata": {},
     "output_type": "execute_result"
    }
   ],
   "source": [
    "# Fit the regression object onto the training set.\n",
    "\n",
    "regression.fit(X_train, y_train)"
   ]
  },
  {
   "cell_type": "code",
   "execution_count": 23,
   "id": "0b486664",
   "metadata": {},
   "outputs": [],
   "source": [
    "# Predict the values of y using X.\n",
    "\n",
    "y_predicted = regression.predict(X_test)"
   ]
  },
  {
   "cell_type": "code",
   "execution_count": 24,
   "id": "38020264",
   "metadata": {},
   "outputs": [
    {
     "data": {
      "image/png": "[encoded data removed]",
      "text/plain": [
       "<Figure size 432x288 with 1 Axes>"
      ]
     },
     "metadata": {
      "needs_background": "light"
     },
     "output_type": "display_data"
    }
   ],
   "source": [
    "# Create a plot that shows the regression line from the model on the test set.\n",
    "\n",
    "plot_test = plt\n",
    "plot_test.scatter(X_test, y_test, color='gray', s = 15)\n",
    "plot_test.plot(X_test, y_predicted, color='red', linewidth =3)\n",
    "plot_test.title('Age vs. Charges (Test set)')\n",
    "plot_test.xlabel('Age')\n",
    "plot_test.ylabel('Charges')\n",
    "plot_test.show()"
   ]
  },
  {
   "cell_type": "code",
   "execution_count": 25,
   "id": "b89cbcf0",
   "metadata": {},
   "outputs": [],
   "source": [
    "# Create objects that contain the model summary statistics.\n",
    "\n",
    "rmse = mean_squared_error(y_test, y_predicted) # This is the mean squared error\n",
    "r2 = r2_score(y_test, y_predicted) # This is the R2 score. "
   ]
  },
  {
   "cell_type": "code",
   "execution_count": 26,
   "id": "78a1f6c8",
   "metadata": {},
   "outputs": [
    {
     "name": "stdout",
     "output_type": "stream",
     "text": [
      "Slope: [[233.02389044]]\n",
      "Mean squared error:  146173303.34737504\n",
      "R2 score:  0.10739068301367427\n"
     ]
    }
   ],
   "source": [
    "# Print the model summary statistics. This is where you evaluate the performance of the model.\n",
    "\n",
    "print('Slope:' , regression.coef_)\n",
    "print('Mean squared error: ', rmse)\n",
    "print('R2 score: ', r2)"
   ]
  },
  {
   "cell_type": "code",
   "execution_count": 27,
   "id": "f848777e",
   "metadata": {},
   "outputs": [
    {
     "data": {
      "text/html": [
       "<div>\n",
       "<style scoped>\n",
       "    .dataframe tbody tr th:only-of-type {\n",
       "        vertical-align: middle;\n",
       "    }\n",
       "\n",
       "    .dataframe tbody tr th {\n",
       "        vertical-align: top;\n",
       "    }\n",
       "\n",
       "    .dataframe thead th {\n",
       "        text-align: right;\n",
       "    }\n",
       "</style>\n",
       "<table border=\"1\" class=\"dataframe\">\n",
       "  <thead>\n",
       "    <tr style=\"text-align: right;\">\n",
       "      <th></th>\n",
       "      <th>Actual</th>\n",
       "      <th>Predicted</th>\n",
       "    </tr>\n",
       "  </thead>\n",
       "  <tbody>\n",
       "    <tr>\n",
       "      <th>0</th>\n",
       "      <td>1633.96180</td>\n",
       "      <td>8086.242979</td>\n",
       "    </tr>\n",
       "    <tr>\n",
       "      <th>1</th>\n",
       "      <td>8547.69130</td>\n",
       "      <td>14843.935802</td>\n",
       "    </tr>\n",
       "    <tr>\n",
       "      <th>2</th>\n",
       "      <td>9290.13950</td>\n",
       "      <td>15309.983583</td>\n",
       "    </tr>\n",
       "    <tr>\n",
       "      <th>3</th>\n",
       "      <td>32548.34050</td>\n",
       "      <td>8319.266870</td>\n",
       "    </tr>\n",
       "    <tr>\n",
       "      <th>4</th>\n",
       "      <td>9644.25250</td>\n",
       "      <td>15776.031364</td>\n",
       "    </tr>\n",
       "    <tr>\n",
       "      <th>5</th>\n",
       "      <td>2680.94930</td>\n",
       "      <td>9950.434103</td>\n",
       "    </tr>\n",
       "    <tr>\n",
       "      <th>6</th>\n",
       "      <td>2198.18985</td>\n",
       "      <td>8086.242979</td>\n",
       "    </tr>\n",
       "    <tr>\n",
       "      <th>7</th>\n",
       "      <td>1241.56500</td>\n",
       "      <td>8319.266870</td>\n",
       "    </tr>\n",
       "    <tr>\n",
       "      <th>8</th>\n",
       "      <td>2710.82855</td>\n",
       "      <td>8319.266870</td>\n",
       "    </tr>\n",
       "    <tr>\n",
       "      <th>9</th>\n",
       "      <td>12235.83920</td>\n",
       "      <td>17407.198597</td>\n",
       "    </tr>\n",
       "    <tr>\n",
       "      <th>10</th>\n",
       "      <td>8280.62270</td>\n",
       "      <td>15076.959693</td>\n",
       "    </tr>\n",
       "    <tr>\n",
       "      <th>11</th>\n",
       "      <td>17043.34140</td>\n",
       "      <td>9950.434103</td>\n",
       "    </tr>\n",
       "    <tr>\n",
       "      <th>12</th>\n",
       "      <td>13974.45555</td>\n",
       "      <td>18572.318049</td>\n",
       "    </tr>\n",
       "    <tr>\n",
       "      <th>13</th>\n",
       "      <td>8219.20390</td>\n",
       "      <td>14144.864131</td>\n",
       "    </tr>\n",
       "    <tr>\n",
       "      <th>14</th>\n",
       "      <td>5472.44900</td>\n",
       "      <td>12280.673007</td>\n",
       "    </tr>\n",
       "    <tr>\n",
       "      <th>15</th>\n",
       "      <td>2438.05520</td>\n",
       "      <td>9251.362432</td>\n",
       "    </tr>\n",
       "    <tr>\n",
       "      <th>16</th>\n",
       "      <td>5267.81815</td>\n",
       "      <td>12280.673007</td>\n",
       "    </tr>\n",
       "    <tr>\n",
       "      <th>17</th>\n",
       "      <td>3490.54910</td>\n",
       "      <td>9950.434103</td>\n",
       "    </tr>\n",
       "    <tr>\n",
       "      <th>18</th>\n",
       "      <td>6640.54485</td>\n",
       "      <td>12746.720788</td>\n",
       "    </tr>\n",
       "    <tr>\n",
       "      <th>19</th>\n",
       "      <td>14692.66935</td>\n",
       "      <td>18805.341939</td>\n",
       "    </tr>\n",
       "    <tr>\n",
       "      <th>20</th>\n",
       "      <td>1622.18850</td>\n",
       "      <td>8086.242979</td>\n",
       "    </tr>\n",
       "    <tr>\n",
       "      <th>21</th>\n",
       "      <td>13224.69300</td>\n",
       "      <td>17873.246378</td>\n",
       "    </tr>\n",
       "    <tr>\n",
       "      <th>22</th>\n",
       "      <td>1256.29900</td>\n",
       "      <td>8319.266870</td>\n",
       "    </tr>\n",
       "    <tr>\n",
       "      <th>23</th>\n",
       "      <td>2643.26850</td>\n",
       "      <td>9018.338541</td>\n",
       "    </tr>\n",
       "    <tr>\n",
       "      <th>24</th>\n",
       "      <td>1674.63230</td>\n",
       "      <td>9018.338541</td>\n",
       "    </tr>\n",
       "    <tr>\n",
       "      <th>25</th>\n",
       "      <td>4667.60765</td>\n",
       "      <td>11348.577446</td>\n",
       "    </tr>\n",
       "    <tr>\n",
       "      <th>26</th>\n",
       "      <td>3732.62510</td>\n",
       "      <td>10416.481884</td>\n",
       "    </tr>\n",
       "    <tr>\n",
       "      <th>27</th>\n",
       "      <td>11552.90400</td>\n",
       "      <td>15309.983583</td>\n",
       "    </tr>\n",
       "    <tr>\n",
       "      <th>28</th>\n",
       "      <td>3756.62160</td>\n",
       "      <td>11115.553555</td>\n",
       "    </tr>\n",
       "    <tr>\n",
       "      <th>29</th>\n",
       "      <td>37465.34375</td>\n",
       "      <td>8552.290760</td>\n",
       "    </tr>\n",
       "  </tbody>\n",
       "</table>\n",
       "</div>"
      ],
      "text/plain": [
       "         Actual     Predicted\n",
       "0    1633.96180   8086.242979\n",
       "1    8547.69130  14843.935802\n",
       "2    9290.13950  15309.983583\n",
       "3   32548.34050   8319.266870\n",
       "4    9644.25250  15776.031364\n",
       "5    2680.94930   9950.434103\n",
       "6    2198.18985   8086.242979\n",
       "7    1241.56500   8319.266870\n",
       "8    2710.82855   8319.266870\n",
       "9   12235.83920  17407.198597\n",
       "10   8280.62270  15076.959693\n",
       "11  17043.34140   9950.434103\n",
       "12  13974.45555  18572.318049\n",
       "13   8219.20390  14144.864131\n",
       "14   5472.44900  12280.673007\n",
       "15   2438.05520   9251.362432\n",
       "16   5267.81815  12280.673007\n",
       "17   3490.54910   9950.434103\n",
       "18   6640.54485  12746.720788\n",
       "19  14692.66935  18805.341939\n",
       "20   1622.18850   8086.242979\n",
       "21  13224.69300  17873.246378\n",
       "22   1256.29900   8319.266870\n",
       "23   2643.26850   9018.338541\n",
       "24   1674.63230   9018.338541\n",
       "25   4667.60765  11348.577446\n",
       "26   3732.62510  10416.481884\n",
       "27  11552.90400  15309.983583\n",
       "28   3756.62160  11115.553555\n",
       "29  37465.34375   8552.290760"
      ]
     },
     "execution_count": 27,
     "metadata": {},
     "output_type": "execute_result"
    }
   ],
   "source": [
    "# Create a dataframe comparing the actual and predicted values of y.\n",
    "\n",
    "data = pd.DataFrame({'Actual': y_test.flatten(), 'Predicted': y_predicted.flatten()})\n",
    "data.head(30)"
   ]
  },
  {
   "cell_type": "markdown",
   "id": "2697ba63",
   "metadata": {},
   "source": [
    "### III) Partial Interpretation"
   ]
  },
  {
   "cell_type": "markdown",
   "id": "50c9baca",
   "metadata": {},
   "source": [
    "The line does not fit the data properly. It is clear that the data points are far from the trend line, which indicates that it seems there are not a linear relationship between both variables. In detail, the Mean squared error is huge regarding the data we have and the R2 score is only 0,10, which indicates that this relationship has a poor fit. It seems that we are not able to say that as a person ages, he/she will have to pay for more expensive insurance."
   ]
  },
  {
   "cell_type": "markdown",
   "id": "65ea2a29",
   "metadata": {},
   "source": [
    "### IV) Compare how the regression fits the training set"
   ]
  },
  {
   "cell_type": "code",
   "execution_count": 28,
   "id": "25b27b24",
   "metadata": {},
   "outputs": [],
   "source": [
    "# Predict.\n",
    "\n",
    "y_predicted_train = regression.predict(X_train) # This is predicting X_train!"
   ]
  },
  {
   "cell_type": "code",
   "execution_count": 29,
   "id": "9126cc9a",
   "metadata": {},
   "outputs": [],
   "source": [
    "rmse = mean_squared_error(y_train, y_predicted_train)\n",
    "r2 = r2_score(y_train, y_predicted_train)"
   ]
  },
  {
   "cell_type": "code",
   "execution_count": 30,
   "id": "851d580c",
   "metadata": {},
   "outputs": [
    {
     "name": "stdout",
     "output_type": "stream",
     "text": [
      "Slope: [[233.02389044]]\n",
      "Mean squared error:  128318059.75747488\n",
      "R2 score:  0.07682646420531714\n"
     ]
    }
   ],
   "source": [
    "print('Slope:' , regression.coef_)\n",
    "print('Mean squared error: ', rmse)\n",
    "print('R2 score: ', r2)"
   ]
  },
  {
   "cell_type": "code",
   "execution_count": 31,
   "id": "39426732",
   "metadata": {},
   "outputs": [
    {
     "data": {
      "image/png": "[encoded data removed]",
      "text/plain": [
       "<Figure size 432x288 with 1 Axes>"
      ]
     },
     "metadata": {
      "needs_background": "light"
     },
     "output_type": "display_data"
    }
   ],
   "source": [
    "# Visualizing the training set results.\n",
    "\n",
    "plot_test = plt\n",
    "plot_test.scatter(X_train, y_train, color='green', s = 15)\n",
    "plot_test.plot(X_train, y_predicted_train, color='red', linewidth =3)\n",
    "plot_test.title('Age vs. Charges (Train set)')\n",
    "plot_test.xlabel('Age')\n",
    "plot_test.ylabel('Charges')\n",
    "plot_test.show()"
   ]
  },
  {
   "cell_type": "markdown",
   "id": "99324bdf",
   "metadata": {},
   "source": [
    "#### Compare the predicted y values with the actual y values in a dataframe.\n",
    "\n",
    "The models' outcome on the training set is similar to that of the one we have in the test set. This confirms what we supposed earlier: the model is not applicable. One possible option to see if a person ages he/she will have to pay for more expensive insurance is to separate directly the elderly population to see if they are more likely to pay more."
   ]
  },
  {
   "cell_type": "markdown",
   "id": "97f019d2",
   "metadata": {},
   "source": [
    "### III) Modification of the Model"
   ]
  },
  {
   "cell_type": "markdown",
   "id": "c83bf649",
   "metadata": {},
   "source": [
    "#### I) Create a new data set"
   ]
  },
  {
   "cell_type": "code",
   "execution_count": 32,
   "id": "09575716",
   "metadata": {},
   "outputs": [],
   "source": [
    "# Modification of the model based on people 50 years and above\n",
    "\n",
    "df_medical_costs_2 = df_medical_costs[df_medical_costs['Age']>=50]"
   ]
  },
  {
   "cell_type": "code",
   "execution_count": 33,
   "id": "3d35e4ae",
   "metadata": {},
   "outputs": [
    {
     "data": {
      "text/plain": [
       "(385, 9)"
      ]
     },
     "execution_count": 33,
     "metadata": {},
     "output_type": "execute_result"
    }
   ],
   "source": [
    "df_medical_costs_2.shape"
   ]
  },
  {
   "cell_type": "code",
   "execution_count": 34,
   "id": "20d4d4c3",
   "metadata": {},
   "outputs": [
    {
     "data": {
      "image/png": "[encoded data removed]",
      "text/plain": [
       "<Figure size 432x288 with 1 Axes>"
      ]
     },
     "metadata": {
      "needs_background": "light"
     },
     "output_type": "display_data"
    }
   ],
   "source": [
    "# Scatterplot to investigate how Age and Charges variables plot against each other.\n",
    "\n",
    "df_medical_costs_2.plot(x = 'Age', y='Charges',style='o')\n",
    "plt.title('Age vs. Charges')\n",
    "plt.xlabel('Age')\n",
    "plt.ylabel('Charges')\n",
    "plt.show()"
   ]
  },
  {
   "cell_type": "code",
   "execution_count": 35,
   "id": "ab37b9a5",
   "metadata": {},
   "outputs": [],
   "source": [
    "# Reshape the variables into NumPy arrays and put them into separate objects.\n",
    "\n",
    "X = df_medical_costs_2['Age'].values.reshape(-1,1)\n",
    "y = df_medical_costs_2['Charges'].values.reshape(-1,1)"
   ]
  },
  {
   "cell_type": "code",
   "execution_count": 36,
   "id": "5a740e01",
   "metadata": {},
   "outputs": [
    {
     "data": {
      "text/plain": [
       "array([[60],\n",
       "       [62],\n",
       "       [56],\n",
       "       [52],\n",
       "       [56],\n",
       "       [60],\n",
       "       [59],\n",
       "       [63],\n",
       "       [55],\n",
       "       [63],\n",
       "       [62],\n",
       "       [60],\n",
       "       [55],\n",
       "       [60],\n",
       "       [58],\n",
       "       [58],\n",
       "       [53],\n",
       "       [64],\n",
       "       [61],\n",
       "       [53],\n",
       "       [58],\n",
       "       [57],\n",
       "       [57],\n",
       "       [56],\n",
       "       [55],\n",
       "       [53],\n",
       "       [59],\n",
       "       [64],\n",
       "       [54],\n",
       "       [55],\n",
       "       [56],\n",
       "       [61],\n",
       "       [63],\n",
       "       [54],\n",
       "       [55],\n",
       "       [52],\n",
       "       [60],\n",
       "       [58],\n",
       "       [52],\n",
       "       [59],\n",
       "       [61],\n",
       "       [53],\n",
       "       [54],\n",
       "       [51],\n",
       "       [53],\n",
       "       [50],\n",
       "       [54],\n",
       "       [63],\n",
       "       [63],\n",
       "       [54],\n",
       "       [58],\n",
       "       [61],\n",
       "       [56],\n",
       "       [51],\n",
       "       [64],\n",
       "       [60],\n",
       "       [59],\n",
       "       [63],\n",
       "       [53],\n",
       "       [53],\n",
       "       [55],\n",
       "       [58],\n",
       "       [59],\n",
       "       [59],\n",
       "       [55],\n",
       "       [63],\n",
       "       [54],\n",
       "       [60],\n",
       "       [63],\n",
       "       [54],\n",
       "       [50],\n",
       "       [55],\n",
       "       [56],\n",
       "       [51],\n",
       "       [58],\n",
       "       [52],\n",
       "       [53],\n",
       "       [59],\n",
       "       [50],\n",
       "       [50],\n",
       "       [59],\n",
       "       [51],\n",
       "       [54],\n",
       "       [55],\n",
       "       [52],\n",
       "       [63],\n",
       "       [59],\n",
       "       [52],\n",
       "       [53],\n",
       "       [56],\n",
       "       [57],\n",
       "       [58],\n",
       "       [50],\n",
       "       [52],\n",
       "       [50],\n",
       "       [54],\n",
       "       [57],\n",
       "       [64],\n",
       "       [52],\n",
       "       [61],\n",
       "       [52],\n",
       "       [61],\n",
       "       [56],\n",
       "       [64],\n",
       "       [60],\n",
       "       [62],\n",
       "       [50],\n",
       "       [62],\n",
       "       [60],\n",
       "       [63],\n",
       "       [57],\n",
       "       [50],\n",
       "       [56],\n",
       "       [61],\n",
       "       [57],\n",
       "       [64],\n",
       "       [62],\n",
       "       [55],\n",
       "       [55],\n",
       "       [58],\n",
       "       [50],\n",
       "       [64],\n",
       "       [51],\n",
       "       [64],\n",
       "       [52],\n",
       "       [52],\n",
       "       [64],\n",
       "       [63],\n",
       "       [64],\n",
       "       [61],\n",
       "       [60],\n",
       "       [60],\n",
       "       [52],\n",
       "       [59],\n",
       "       [56],\n",
       "       [60],\n",
       "       [56],\n",
       "       [59],\n",
       "       [55],\n",
       "       [57],\n",
       "       [56],\n",
       "       [62],\n",
       "       [56],\n",
       "       [60],\n",
       "       [56],\n",
       "       [54],\n",
       "       [61],\n",
       "       [63],\n",
       "       [51],\n",
       "       [54],\n",
       "       [53],\n",
       "       [61],\n",
       "       [61],\n",
       "       [62],\n",
       "       [51],\n",
       "       [57],\n",
       "       [56],\n",
       "       [51],\n",
       "       [58],\n",
       "       [50],\n",
       "       [51],\n",
       "       [51],\n",
       "       [57],\n",
       "       [62],\n",
       "       [59],\n",
       "       [64],\n",
       "       [53],\n",
       "       [63],\n",
       "       [54],\n",
       "       [54],\n",
       "       [54],\n",
       "       [63],\n",
       "       [62],\n",
       "       [52],\n",
       "       [54],\n",
       "       [50],\n",
       "       [62],\n",
       "       [57],\n",
       "       [58],\n",
       "       [52],\n",
       "       [59],\n",
       "       [61],\n",
       "       [58],\n",
       "       [52],\n",
       "       [51],\n",
       "       [56],\n",
       "       [64],\n",
       "       [51],\n",
       "       [59],\n",
       "       [56],\n",
       "       [55],\n",
       "       [59],\n",
       "       [58],\n",
       "       [53],\n",
       "       [51],\n",
       "       [64],\n",
       "       [56],\n",
       "       [61],\n",
       "       [58],\n",
       "       [53],\n",
       "       [59],\n",
       "       [52],\n",
       "       [57],\n",
       "       [57],\n",
       "       [64],\n",
       "       [62],\n",
       "       [55],\n",
       "       [60],\n",
       "       [56],\n",
       "       [53],\n",
       "       [53],\n",
       "       [53],\n",
       "       [56],\n",
       "       [50],\n",
       "       [53],\n",
       "       [51],\n",
       "       [50],\n",
       "       [60],\n",
       "       [60],\n",
       "       [51],\n",
       "       [58],\n",
       "       [51],\n",
       "       [53],\n",
       "       [62],\n",
       "       [50],\n",
       "       [53],\n",
       "       [59],\n",
       "       [53],\n",
       "       [50],\n",
       "       [50],\n",
       "       [64],\n",
       "       [58],\n",
       "       [57],\n",
       "       [64],\n",
       "       [61],\n",
       "       [53],\n",
       "       [51],\n",
       "       [53],\n",
       "       [51],\n",
       "       [50],\n",
       "       [60],\n",
       "       [62],\n",
       "       [53],\n",
       "       [58],\n",
       "       [64],\n",
       "       [54],\n",
       "       [60],\n",
       "       [64],\n",
       "       [56],\n",
       "       [63],\n",
       "       [58],\n",
       "       [56],\n",
       "       [59],\n",
       "       [59],\n",
       "       [57],\n",
       "       [53],\n",
       "       [60],\n",
       "       [51],\n",
       "       [55],\n",
       "       [61],\n",
       "       [53],\n",
       "       [57],\n",
       "       [55],\n",
       "       [51],\n",
       "       [57],\n",
       "       [61],\n",
       "       [50],\n",
       "       [51],\n",
       "       [57],\n",
       "       [57],\n",
       "       [64],\n",
       "       [54],\n",
       "       [62],\n",
       "       [61],\n",
       "       [60],\n",
       "       [60],\n",
       "       [63],\n",
       "       [59],\n",
       "       [61],\n",
       "       [62],\n",
       "       [62],\n",
       "       [50],\n",
       "       [57],\n",
       "       [62],\n",
       "       [59],\n",
       "       [53],\n",
       "       [50],\n",
       "       [62],\n",
       "       [56],\n",
       "       [57],\n",
       "       [51],\n",
       "       [54],\n",
       "       [63],\n",
       "       [52],\n",
       "       [51],\n",
       "       [50],\n",
       "       [54],\n",
       "       [50],\n",
       "       [63],\n",
       "       [51],\n",
       "       [61],\n",
       "       [59],\n",
       "       [54],\n",
       "       [51],\n",
       "       [54],\n",
       "       [55],\n",
       "       [61],\n",
       "       [54],\n",
       "       [55],\n",
       "       [64],\n",
       "       [55],\n",
       "       [57],\n",
       "       [59],\n",
       "       [63],\n",
       "       [54],\n",
       "       [63],\n",
       "       [54],\n",
       "       [60],\n",
       "       [63],\n",
       "       [62],\n",
       "       [55],\n",
       "       [57],\n",
       "       [52],\n",
       "       [56],\n",
       "       [55],\n",
       "       [50],\n",
       "       [51],\n",
       "       [52],\n",
       "       [53],\n",
       "       [58],\n",
       "       [54],\n",
       "       [50],\n",
       "       [54],\n",
       "       [55],\n",
       "       [53],\n",
       "       [63],\n",
       "       [55],\n",
       "       [57],\n",
       "       [52],\n",
       "       [50],\n",
       "       [50],\n",
       "       [52],\n",
       "       [50],\n",
       "       [52],\n",
       "       [60],\n",
       "       [55],\n",
       "       [58],\n",
       "       [57],\n",
       "       [56],\n",
       "       [52],\n",
       "       [62],\n",
       "       [58],\n",
       "       [51],\n",
       "       [59],\n",
       "       [59],\n",
       "       [52],\n",
       "       [50],\n",
       "       [56],\n",
       "       [58],\n",
       "       [52],\n",
       "       [54],\n",
       "       [58],\n",
       "       [63],\n",
       "       [58],\n",
       "       [52],\n",
       "       [64],\n",
       "       [51],\n",
       "       [54],\n",
       "       [55],\n",
       "       [52],\n",
       "       [64],\n",
       "       [55],\n",
       "       [57],\n",
       "       [61],\n",
       "       [58],\n",
       "       [62],\n",
       "       [62],\n",
       "       [62],\n",
       "       [61],\n",
       "       [51],\n",
       "       [52],\n",
       "       [57],\n",
       "       [52],\n",
       "       [50],\n",
       "       [61]])"
      ]
     },
     "execution_count": 36,
     "metadata": {},
     "output_type": "execute_result"
    }
   ],
   "source": [
    "X"
   ]
  },
  {
   "cell_type": "code",
   "execution_count": 37,
   "id": "f29eccee",
   "metadata": {},
   "outputs": [
    {
     "data": {
      "text/plain": [
       "array([[28923.13692],\n",
       "       [27808.7251 ],\n",
       "       [11090.7178 ],\n",
       "       [10797.3362 ],\n",
       "       [10602.385  ],\n",
       "       [13228.84695],\n",
       "       [14001.1338 ],\n",
       "       [14451.83515],\n",
       "       [12268.63225],\n",
       "       [13770.0979 ],\n",
       "       [15612.19335],\n",
       "       [48173.361  ],\n",
       "       [20630.28351],\n",
       "       [12629.8967 ],\n",
       "       [47496.49445],\n",
       "       [13607.36875],\n",
       "       [23244.7902 ],\n",
       "       [30166.61817],\n",
       "       [14235.072  ],\n",
       "       [11741.726  ],\n",
       "       [11946.6259 ],\n",
       "       [11356.6609 ],\n",
       "       [43578.9394 ],\n",
       "       [11073.176  ],\n",
       "       [11082.5772 ],\n",
       "       [10942.13205],\n",
       "       [30184.9367 ],\n",
       "       [47291.055  ],\n",
       "       [12105.32   ],\n",
       "       [10226.2842 ],\n",
       "       [22412.6485 ],\n",
       "       [30942.1918 ],\n",
       "       [47055.5321 ],\n",
       "       [10825.2537 ],\n",
       "       [11881.358  ],\n",
       "       [11488.31695],\n",
       "       [30259.99556],\n",
       "       [11381.3254 ],\n",
       "       [ 9634.538  ],\n",
       "       [12815.44495],\n",
       "       [13616.3586 ],\n",
       "       [11163.568  ],\n",
       "       [27322.73386],\n",
       "       [ 9877.6077 ],\n",
       "       [10959.6947 ],\n",
       "       [19749.38338],\n",
       "       [10450.552  ],\n",
       "       [13405.3903 ],\n",
       "       [48824.45   ],\n",
       "       [10436.096  ],\n",
       "       [11735.87905],\n",
       "       [12557.6053 ],\n",
       "       [12044.342  ],\n",
       "       [ 9644.2525 ],\n",
       "       [14901.5167 ],\n",
       "       [13012.20865],\n",
       "       [11743.299  ],\n",
       "       [13880.949  ],\n",
       "       [10355.641  ],\n",
       "       [10564.8845 ],\n",
       "       [11987.1682 ],\n",
       "       [24227.33724],\n",
       "       [14001.2867 ],\n",
       "       [12333.828  ],\n",
       "       [35160.13457],\n",
       "       [29523.1656 ],\n",
       "       [24476.47851],\n",
       "       [12648.7034 ],\n",
       "       [47305.305  ],\n",
       "       [44260.7499 ],\n",
       "       [41097.16175],\n",
       "       [13047.33235],\n",
       "       [43921.1837 ],\n",
       "       [11520.09985],\n",
       "       [11837.16   ],\n",
       "       [24869.8368 ],\n",
       "       [20462.99766],\n",
       "       [14590.63205],\n",
       "       [42856.838  ],\n",
       "       [ 9617.66245],\n",
       "       [12928.7911 ],\n",
       "       [ 9855.1314 ],\n",
       "       [48549.17835],\n",
       "       [11879.10405],\n",
       "       [ 9625.92   ],\n",
       "       [14256.1928 ],\n",
       "       [47896.79135],\n",
       "       [25992.82104],\n",
       "       [24873.3849 ],\n",
       "       [12265.5069 ],\n",
       "       [12646.207  ],\n",
       "       [11944.59435],\n",
       "       [ 8444.474  ],\n",
       "       [ 9722.7695 ],\n",
       "       [ 8835.26495],\n",
       "       [10435.06525],\n",
       "       [11566.30055],\n",
       "       [47928.03   ],\n",
       "       [ 9144.565  ],\n",
       "       [48517.56315],\n",
       "       [24393.6224 ],\n",
       "       [13429.0354 ],\n",
       "       [11658.37915],\n",
       "       [13822.803  ],\n",
       "       [12142.5786 ],\n",
       "       [13937.6665 ],\n",
       "       [41919.097  ],\n",
       "       [13352.0998 ],\n",
       "       [13217.0945 ],\n",
       "       [13981.85035],\n",
       "       [11830.6072 ],\n",
       "       [ 8932.084  ],\n",
       "       [13430.265  ],\n",
       "       [13415.0381 ],\n",
       "       [12029.2867 ],\n",
       "       [16455.70785],\n",
       "       [27000.98473],\n",
       "       [42303.69215],\n",
       "       [20781.48892],\n",
       "       [11856.4115 ],\n",
       "       [30284.64294],\n",
       "       [14988.432  ],\n",
       "       [ 9264.797  ],\n",
       "       [14692.66935],\n",
       "       [11396.9002 ],\n",
       "       [ 9140.951  ],\n",
       "       [14418.2804 ],\n",
       "       [28950.4692 ],\n",
       "       [46889.2612 ],\n",
       "       [46599.1084 ],\n",
       "       [12638.195  ],\n",
       "       [13919.8229 ],\n",
       "       [12592.5345 ],\n",
       "       [28287.89766],\n",
       "       [26109.32905],\n",
       "       [12730.9996 ],\n",
       "       [11454.0215 ],\n",
       "       [21797.0004 ],\n",
       "       [11881.9696 ],\n",
       "       [11840.77505],\n",
       "       [10601.412  ],\n",
       "       [15230.32405],\n",
       "       [11165.41765],\n",
       "       [13224.693  ],\n",
       "       [12643.3778 ],\n",
       "       [25382.297  ],\n",
       "       [28868.6639 ],\n",
       "       [15555.18875],\n",
       "       [ 9880.068  ],\n",
       "       [12475.3513 ],\n",
       "       [10461.9794 ],\n",
       "       [24513.09126],\n",
       "       [12574.049  ],\n",
       "       [13470.86   ],\n",
       "       [22218.1149 ],\n",
       "       [11455.28   ],\n",
       "       [11763.0009 ],\n",
       "       [ 9361.3268 ],\n",
       "       [11362.755  ],\n",
       "       [25656.57526],\n",
       "       [ 9866.30485],\n",
       "       [ 9861.025  ],\n",
       "       [48675.5177 ],\n",
       "       [14043.4767 ],\n",
       "       [12925.886  ],\n",
       "       [13831.1152 ],\n",
       "       [27346.04207],\n",
       "       [13887.204  ],\n",
       "       [63770.42801],\n",
       "       [10231.4999 ],\n",
       "       [11538.421  ],\n",
       "       [13390.559  ],\n",
       "       [12957.118  ],\n",
       "       [11187.6567 ],\n",
       "       [10923.9332 ],\n",
       "       [ 9058.7303 ],\n",
       "       [31620.00106],\n",
       "       [13224.05705],\n",
       "       [12222.8983 ],\n",
       "       [ 9724.53   ],\n",
       "       [12913.9924 ],\n",
       "       [13635.6379 ],\n",
       "       [11842.442  ],\n",
       "       [33471.97189],\n",
       "       [ 9174.13565],\n",
       "       [11070.535  ],\n",
       "       [16085.1275 ],\n",
       "       [ 9283.562  ],\n",
       "       [25678.77845],\n",
       "       [11658.11505],\n",
       "       [10713.644  ],\n",
       "       [12129.61415],\n",
       "       [11365.952  ],\n",
       "       [10085.846  ],\n",
       "       [ 9391.346  ],\n",
       "       [14410.9321 ],\n",
       "       [12949.1554 ],\n",
       "       [13143.86485],\n",
       "       [12430.95335],\n",
       "       [10579.711  ],\n",
       "       [12244.531  ],\n",
       "       [24667.419  ],\n",
       "       [14394.39815],\n",
       "       [22192.43711],\n",
       "       [27037.9141 ],\n",
       "       [45710.20785],\n",
       "       [12485.8009 ],\n",
       "       [46130.5265 ],\n",
       "       [12363.547  ],\n",
       "       [ 9863.4718 ],\n",
       "       [11244.3769 ],\n",
       "       [29186.48236],\n",
       "       [10976.24575],\n",
       "       [ 9541.69555],\n",
       "       [ 9504.3103 ],\n",
       "       [44400.4064 ],\n",
       "       [10107.2206 ],\n",
       "       [12146.971  ],\n",
       "       [13112.6048 ],\n",
       "       [10848.1343 ],\n",
       "       [12231.6136 ],\n",
       "       [ 9875.6804 ],\n",
       "       [11264.541  ],\n",
       "       [12979.358  ],\n",
       "       [10106.13425],\n",
       "       [10065.413  ],\n",
       "       [14007.222  ],\n",
       "       [43254.41795],\n",
       "       [ 8827.2099 ],\n",
       "       [ 9910.35985],\n",
       "       [14210.53595],\n",
       "       [11833.7823 ],\n",
       "       [11842.62375],\n",
       "       [14319.031  ],\n",
       "       [27941.28758],\n",
       "       [11150.78   ],\n",
       "       [10560.4917 ],\n",
       "       [ 9869.8102 ],\n",
       "       [ 9386.1613 ],\n",
       "       [24520.264  ],\n",
       "       [12741.16745],\n",
       "       [13457.9608 ],\n",
       "       [21195.818  ],\n",
       "       [11848.141  ],\n",
       "       [14313.8463 ],\n",
       "       [11013.7119 ],\n",
       "       [12523.6048 ],\n",
       "       [16069.08475],\n",
       "       [43813.8661 ],\n",
       "       [13393.756  ],\n",
       "       [11743.9341 ],\n",
       "       [11657.7189 ],\n",
       "       [12622.1795 ],\n",
       "       [12323.936  ],\n",
       "       [27533.9129 ],\n",
       "       [10072.05505],\n",
       "       [45008.9555 ],\n",
       "       [ 9872.701  ],\n",
       "       [10601.63225],\n",
       "       [14119.62   ],\n",
       "       [11729.6795 ],\n",
       "       [10965.446  ],\n",
       "       [12269.68865],\n",
       "       [ 8782.469  ],\n",
       "       [11576.13   ],\n",
       "       [13129.60345],\n",
       "       [ 8457.818  ],\n",
       "       [46255.1125 ],\n",
       "       [27218.43725],\n",
       "       [11945.1327 ],\n",
       "       [29330.98315],\n",
       "       [10422.91665],\n",
       "       [13555.0049 ],\n",
       "       [13063.883  ],\n",
       "       [48673.5588 ],\n",
       "       [12644.589  ],\n",
       "       [15170.069  ],\n",
       "       [14382.70905],\n",
       "       [13041.921  ],\n",
       "       [13451.122  ],\n",
       "       [13462.52   ],\n",
       "       [25333.33284],\n",
       "       [12032.326  ],\n",
       "       [13470.8044 ],\n",
       "       [12233.828  ],\n",
       "       [ 9487.6442 ],\n",
       "       [ 9549.5651 ],\n",
       "       [12982.8747 ],\n",
       "       [11674.13   ],\n",
       "       [11534.87265],\n",
       "       [47462.894  ],\n",
       "       [41999.52   ],\n",
       "       [14474.675  ],\n",
       "       [26467.09737],\n",
       "       [23967.38305],\n",
       "       [10702.6424 ],\n",
       "       [25517.11363],\n",
       "       [10118.424  ],\n",
       "       [13887.9685 ],\n",
       "       [ 9957.7216 ],\n",
       "       [36580.28216],\n",
       "       [12124.9924 ],\n",
       "       [12495.29085],\n",
       "       [ 8798.593  ],\n",
       "       [ 9850.432  ],\n",
       "       [44423.803  ],\n",
       "       [12950.0712 ],\n",
       "       [12094.478  ],\n",
       "       [11394.06555],\n",
       "       [14394.5579 ],\n",
       "       [10594.50155],\n",
       "       [11554.2236 ],\n",
       "       [48970.2476 ],\n",
       "       [14349.8544 ],\n",
       "       [10928.849  ],\n",
       "       [13974.45555],\n",
       "       [12096.6512 ],\n",
       "       [13204.28565],\n",
       "       [15161.5344 ],\n",
       "       [15019.76005],\n",
       "       [10796.35025],\n",
       "       [11353.2276 ],\n",
       "       [ 9748.9106 ],\n",
       "       [10577.087  ],\n",
       "       [11286.5387 ],\n",
       "       [11299.343  ],\n",
       "       [44641.1974 ],\n",
       "       [23045.56616],\n",
       "       [11253.421  ],\n",
       "       [11363.2832 ],\n",
       "       [10338.9316 ],\n",
       "       [10493.9458 ],\n",
       "       [11512.405  ],\n",
       "       [10807.4863 ],\n",
       "       [46661.4424 ],\n",
       "       [14254.6082 ],\n",
       "       [10214.636  ],\n",
       "       [20709.02034],\n",
       "       [ 9991.03765],\n",
       "       [11085.5868 ],\n",
       "       [ 9048.0273 ],\n",
       "       [27117.99378],\n",
       "       [ 9630.397  ],\n",
       "       [11289.10925],\n",
       "       [52590.82939],\n",
       "       [10791.96   ],\n",
       "       [12235.8392 ],\n",
       "       [10982.5013 ],\n",
       "       [11093.6229 ],\n",
       "       [23887.6627 ],\n",
       "       [13844.7972 ],\n",
       "       [13019.16105],\n",
       "       [ 9964.06   ],\n",
       "       [36910.60803],\n",
       "       [12347.172  ],\n",
       "       [10806.839  ],\n",
       "       [ 8442.667  ],\n",
       "       [10594.2257 ],\n",
       "       [11938.25595],\n",
       "       [60021.39897],\n",
       "       [12479.70895],\n",
       "       [11345.519  ],\n",
       "       [14449.8544 ],\n",
       "       [12224.35085],\n",
       "       [47269.854  ],\n",
       "       [49577.6624 ],\n",
       "       [11436.73815],\n",
       "       [11305.93455],\n",
       "       [30063.58055],\n",
       "       [10197.7722 ],\n",
       "       [26926.5144 ],\n",
       "       [10704.47   ],\n",
       "       [10959.33   ],\n",
       "       [47403.88   ],\n",
       "       [11931.12525],\n",
       "       [46718.16325],\n",
       "       [28101.33305],\n",
       "       [12981.3457 ],\n",
       "       [13143.33665],\n",
       "       [ 9377.9047 ],\n",
       "       [10325.206  ],\n",
       "       [12629.1656 ],\n",
       "       [11411.685  ],\n",
       "       [10600.5483 ],\n",
       "       [29141.3603 ]])"
      ]
     },
     "execution_count": 37,
     "metadata": {},
     "output_type": "execute_result"
    }
   ],
   "source": [
    "y"
   ]
  },
  {
   "cell_type": "code",
   "execution_count": 38,
   "id": "8d20a81b",
   "metadata": {},
   "outputs": [],
   "source": [
    "# Split data into a training set and a test set.\n",
    "\n",
    "X_train, X_test, y_train, y_test = train_test_split(X, y, test_size=0.3, random_state=0)"
   ]
  },
  {
   "cell_type": "markdown",
   "id": "dace2dac",
   "metadata": {},
   "source": [
    "### II) Regression Analysis"
   ]
  },
  {
   "cell_type": "code",
   "execution_count": 39,
   "id": "03c1c08e",
   "metadata": {},
   "outputs": [],
   "source": [
    "# Create a regression object.\n",
    "\n",
    "regression = LinearRegression()  # Regression object, which will be fit onto the training set."
   ]
  },
  {
   "cell_type": "code",
   "execution_count": 40,
   "id": "dd6e6cc7",
   "metadata": {},
   "outputs": [
    {
     "data": {
      "text/plain": [
       "LinearRegression()"
      ]
     },
     "execution_count": 40,
     "metadata": {},
     "output_type": "execute_result"
    }
   ],
   "source": [
    "# Fit the regression object onto the training set.\n",
    "\n",
    "regression.fit(X_train, y_train)"
   ]
  },
  {
   "cell_type": "code",
   "execution_count": 41,
   "id": "d60eb772",
   "metadata": {},
   "outputs": [],
   "source": [
    "# Predict the values of y using X.\n",
    "\n",
    "y_predicted = regression.predict(X_test)"
   ]
  },
  {
   "cell_type": "code",
   "execution_count": 42,
   "id": "ea7ebc63",
   "metadata": {},
   "outputs": [
    {
     "data": {
      "image/png": "[encoded data removed]",
      "text/plain": [
       "<Figure size 432x288 with 1 Axes>"
      ]
     },
     "metadata": {
      "needs_background": "light"
     },
     "output_type": "display_data"
    }
   ],
   "source": [
    "# Create a plot that shows the regression line from the model on the test set.\n",
    "\n",
    "plot_test = plt\n",
    "plot_test.scatter(X_test, y_test, color='gray', s = 15)\n",
    "plot_test.plot(X_test, y_predicted, color='purple', linewidth =3)\n",
    "plot_test.title('Age vs. Charges (Test set)')\n",
    "plot_test.xlabel('Age')\n",
    "plot_test.ylabel('Charges')\n",
    "plot_test.show()"
   ]
  },
  {
   "cell_type": "code",
   "execution_count": 43,
   "id": "2240a12c",
   "metadata": {},
   "outputs": [],
   "source": [
    "# Create objects that contain the model summary statistics.\n",
    "\n",
    "rmse = mean_squared_error(y_test, y_predicted) # This is the mean squared error\n",
    "r2 = r2_score(y_test, y_predicted) # This is the R2 score. "
   ]
  },
  {
   "cell_type": "code",
   "execution_count": 44,
   "id": "c7ef9b39",
   "metadata": {},
   "outputs": [
    {
     "name": "stdout",
     "output_type": "stream",
     "text": [
      "Slope: [[470.15810593]]\n",
      "Mean squared error:  131294796.81572613\n",
      "R2 score:  0.004897023342933182\n"
     ]
    }
   ],
   "source": [
    "# Print the model summary statistics. This is where you evaluate the performance of the model.\n",
    "\n",
    "print('Slope:' , regression.coef_)\n",
    "print('Mean squared error: ', rmse)\n",
    "print('R2 score: ', r2)"
   ]
  },
  {
   "cell_type": "code",
   "execution_count": 45,
   "id": "06f1aa12",
   "metadata": {},
   "outputs": [
    {
     "data": {
      "text/html": [
       "<div>\n",
       "<style scoped>\n",
       "    .dataframe tbody tr th:only-of-type {\n",
       "        vertical-align: middle;\n",
       "    }\n",
       "\n",
       "    .dataframe tbody tr th {\n",
       "        vertical-align: top;\n",
       "    }\n",
       "\n",
       "    .dataframe thead th {\n",
       "        text-align: right;\n",
       "    }\n",
       "</style>\n",
       "<table border=\"1\" class=\"dataframe\">\n",
       "  <thead>\n",
       "    <tr style=\"text-align: right;\">\n",
       "      <th></th>\n",
       "      <th>Actual</th>\n",
       "      <th>Predicted</th>\n",
       "    </tr>\n",
       "  </thead>\n",
       "  <tbody>\n",
       "    <tr>\n",
       "      <th>0</th>\n",
       "      <td>11729.67950</td>\n",
       "      <td>16303.091814</td>\n",
       "    </tr>\n",
       "    <tr>\n",
       "      <th>1</th>\n",
       "      <td>15019.76005</td>\n",
       "      <td>20534.514767</td>\n",
       "    </tr>\n",
       "    <tr>\n",
       "      <th>2</th>\n",
       "      <td>12643.37780</td>\n",
       "      <td>17713.566131</td>\n",
       "    </tr>\n",
       "    <tr>\n",
       "      <th>3</th>\n",
       "      <td>12044.34200</td>\n",
       "      <td>17713.566131</td>\n",
       "    </tr>\n",
       "    <tr>\n",
       "      <th>4</th>\n",
       "      <td>11244.37690</td>\n",
       "      <td>16303.091814</td>\n",
       "    </tr>\n",
       "    <tr>\n",
       "      <th>5</th>\n",
       "      <td>36580.28216</td>\n",
       "      <td>20064.356661</td>\n",
       "    </tr>\n",
       "    <tr>\n",
       "      <th>6</th>\n",
       "      <td>14394.55790</td>\n",
       "      <td>21474.830979</td>\n",
       "    </tr>\n",
       "    <tr>\n",
       "      <th>7</th>\n",
       "      <td>11165.41765</td>\n",
       "      <td>17713.566131</td>\n",
       "    </tr>\n",
       "    <tr>\n",
       "      <th>8</th>\n",
       "      <td>13974.45555</td>\n",
       "      <td>21004.672873</td>\n",
       "    </tr>\n",
       "    <tr>\n",
       "      <th>9</th>\n",
       "      <td>29523.16560</td>\n",
       "      <td>21004.672873</td>\n",
       "    </tr>\n",
       "    <tr>\n",
       "      <th>10</th>\n",
       "      <td>10965.44600</td>\n",
       "      <td>18183.724237</td>\n",
       "    </tr>\n",
       "    <tr>\n",
       "      <th>11</th>\n",
       "      <td>11381.32540</td>\n",
       "      <td>18653.882343</td>\n",
       "    </tr>\n",
       "    <tr>\n",
       "      <th>12</th>\n",
       "      <td>47305.30500</td>\n",
       "      <td>21004.672873</td>\n",
       "    </tr>\n",
       "    <tr>\n",
       "      <th>13</th>\n",
       "      <td>24393.62240</td>\n",
       "      <td>15832.933708</td>\n",
       "    </tr>\n",
       "    <tr>\n",
       "      <th>14</th>\n",
       "      <td>24520.26400</td>\n",
       "      <td>14892.617496</td>\n",
       "    </tr>\n",
       "    <tr>\n",
       "      <th>15</th>\n",
       "      <td>9748.91060</td>\n",
       "      <td>15832.933708</td>\n",
       "    </tr>\n",
       "    <tr>\n",
       "      <th>16</th>\n",
       "      <td>12646.20700</td>\n",
       "      <td>18183.724237</td>\n",
       "    </tr>\n",
       "    <tr>\n",
       "      <th>17</th>\n",
       "      <td>12495.29085</td>\n",
       "      <td>16773.249920</td>\n",
       "    </tr>\n",
       "    <tr>\n",
       "      <th>18</th>\n",
       "      <td>10106.13425</td>\n",
       "      <td>14892.617496</td>\n",
       "    </tr>\n",
       "    <tr>\n",
       "      <th>19</th>\n",
       "      <td>44423.80300</td>\n",
       "      <td>17243.408025</td>\n",
       "    </tr>\n",
       "    <tr>\n",
       "      <th>20</th>\n",
       "      <td>42856.83800</td>\n",
       "      <td>14892.617496</td>\n",
       "    </tr>\n",
       "    <tr>\n",
       "      <th>21</th>\n",
       "      <td>11987.16820</td>\n",
       "      <td>17243.408025</td>\n",
       "    </tr>\n",
       "    <tr>\n",
       "      <th>22</th>\n",
       "      <td>13470.86000</td>\n",
       "      <td>20534.514767</td>\n",
       "    </tr>\n",
       "    <tr>\n",
       "      <th>23</th>\n",
       "      <td>14901.51670</td>\n",
       "      <td>21474.830979</td>\n",
       "    </tr>\n",
       "    <tr>\n",
       "      <th>24</th>\n",
       "      <td>10422.91665</td>\n",
       "      <td>16773.249920</td>\n",
       "    </tr>\n",
       "    <tr>\n",
       "      <th>25</th>\n",
       "      <td>11362.75500</td>\n",
       "      <td>18653.882343</td>\n",
       "    </tr>\n",
       "    <tr>\n",
       "      <th>26</th>\n",
       "      <td>11658.37915</td>\n",
       "      <td>17713.566131</td>\n",
       "    </tr>\n",
       "    <tr>\n",
       "      <th>27</th>\n",
       "      <td>9377.90470</td>\n",
       "      <td>15362.775602</td>\n",
       "    </tr>\n",
       "    <tr>\n",
       "      <th>28</th>\n",
       "      <td>25656.57526</td>\n",
       "      <td>14892.617496</td>\n",
       "    </tr>\n",
       "    <tr>\n",
       "      <th>29</th>\n",
       "      <td>46718.16325</td>\n",
       "      <td>20534.514767</td>\n",
       "    </tr>\n",
       "  </tbody>\n",
       "</table>\n",
       "</div>"
      ],
      "text/plain": [
       "         Actual     Predicted\n",
       "0   11729.67950  16303.091814\n",
       "1   15019.76005  20534.514767\n",
       "2   12643.37780  17713.566131\n",
       "3   12044.34200  17713.566131\n",
       "4   11244.37690  16303.091814\n",
       "5   36580.28216  20064.356661\n",
       "6   14394.55790  21474.830979\n",
       "7   11165.41765  17713.566131\n",
       "8   13974.45555  21004.672873\n",
       "9   29523.16560  21004.672873\n",
       "10  10965.44600  18183.724237\n",
       "11  11381.32540  18653.882343\n",
       "12  47305.30500  21004.672873\n",
       "13  24393.62240  15832.933708\n",
       "14  24520.26400  14892.617496\n",
       "15   9748.91060  15832.933708\n",
       "16  12646.20700  18183.724237\n",
       "17  12495.29085  16773.249920\n",
       "18  10106.13425  14892.617496\n",
       "19  44423.80300  17243.408025\n",
       "20  42856.83800  14892.617496\n",
       "21  11987.16820  17243.408025\n",
       "22  13470.86000  20534.514767\n",
       "23  14901.51670  21474.830979\n",
       "24  10422.91665  16773.249920\n",
       "25  11362.75500  18653.882343\n",
       "26  11658.37915  17713.566131\n",
       "27   9377.90470  15362.775602\n",
       "28  25656.57526  14892.617496\n",
       "29  46718.16325  20534.514767"
      ]
     },
     "execution_count": 45,
     "metadata": {},
     "output_type": "execute_result"
    }
   ],
   "source": [
    "# Create a dataframe comparing the actual and predicted values of y.\n",
    "\n",
    "data = pd.DataFrame({'Actual': y_test.flatten(), 'Predicted': y_predicted.flatten()})\n",
    "data.head(30)"
   ]
  },
  {
   "cell_type": "markdown",
   "id": "d3453b56",
   "metadata": {},
   "source": [
    "### III) Compare how the regression fits the training set"
   ]
  },
  {
   "cell_type": "code",
   "execution_count": 46,
   "id": "d8cb215f",
   "metadata": {},
   "outputs": [],
   "source": [
    "# Predict.\n",
    "\n",
    "y_predicted_train = regression.predict(X_train) # This is predicting X_train!"
   ]
  },
  {
   "cell_type": "code",
   "execution_count": 47,
   "id": "aa5fc03a",
   "metadata": {},
   "outputs": [],
   "source": [
    "rmse = mean_squared_error(y_train, y_predicted_train)\n",
    "r2 = r2_score(y_train, y_predicted_train)"
   ]
  },
  {
   "cell_type": "code",
   "execution_count": 48,
   "id": "c0b13aac",
   "metadata": {},
   "outputs": [
    {
     "name": "stdout",
     "output_type": "stream",
     "text": [
      "Slope: [[470.15810593]]\n",
      "Mean squared error:  132091920.5967189\n",
      "R2 score:  0.029858150656020488\n"
     ]
    }
   ],
   "source": [
    "print('Slope:' , regression.coef_)\n",
    "print('Mean squared error: ', rmse)\n",
    "print('R2 score: ', r2)"
   ]
  },
  {
   "cell_type": "code",
   "execution_count": 49,
   "id": "a9ad69bf",
   "metadata": {},
   "outputs": [
    {
     "data": {
      "image/png": "[encoded data removed]",
      "text/plain": [
       "<Figure size 432x288 with 1 Axes>"
      ]
     },
     "metadata": {
      "needs_background": "light"
     },
     "output_type": "display_data"
    }
   ],
   "source": [
    "# Visualizing the training set results.\n",
    "\n",
    "plot_test = plt\n",
    "plot_test.scatter(X_train, y_train, color='lightgray', s = 15)\n",
    "plot_test.plot(X_train, y_predicted_train, color='purple', linewidth =3)\n",
    "plot_test.title('Age vs. Charges (Train set)')\n",
    "plot_test.xlabel('Age')\n",
    "plot_test.ylabel('Charges')\n",
    "plot_test.show()"
   ]
  },
  {
   "cell_type": "markdown",
   "id": "e52b2798",
   "metadata": {},
   "source": [
    "### IV) Interpretation of the new model"
   ]
  },
  {
   "cell_type": "markdown",
   "id": "4a086b47",
   "metadata": {},
   "source": [
    "The changes added to the old model (considering the whole data set) do not affect the past results. Even more, this new data set shows less relationship between both variables considering the R2 score. In this sense, age is not a good determinant of the ultimate charges a person has individually."
   ]
  },
  {
   "cell_type": "markdown",
   "id": "448ac9cf",
   "metadata": {},
   "source": [
    "---"
   ]
  },
  {
   "cell_type": "markdown",
   "id": "72de5a1c",
   "metadata": {},
   "source": [
    "## 3. B) The higher the body mass index level, the higher the cost per person."
   ]
  },
  {
   "cell_type": "markdown",
   "id": "bc6bf98c",
   "metadata": {},
   "source": [
    "### I) Data Preparation for Regression Analysis"
   ]
  },
  {
   "cell_type": "markdown",
   "id": "0bff935c",
   "metadata": {},
   "source": [
    "#### Body mass index vs. Charges"
   ]
  },
  {
   "cell_type": "code",
   "execution_count": 50,
   "id": "9162698c",
   "metadata": {},
   "outputs": [
    {
     "data": {
      "image/png": "[encoded data removed]",
      "text/plain": [
       "<Figure size 432x288 with 1 Axes>"
      ]
     },
     "metadata": {
      "needs_background": "light"
     },
     "output_type": "display_data"
    }
   ],
   "source": [
    "# Scatterplot to investigate how Age and Charges variables plot against each other.\n",
    "\n",
    "df_medical_costs.plot(x = 'Body_mass_index', y='Charges',style='o')\n",
    "plt.title('Body_mass_index vs. Charges')\n",
    "plt.xlabel('Body_mass_index')\n",
    "plt.ylabel('Charges')\n",
    "plt.show()"
   ]
  },
  {
   "cell_type": "code",
   "execution_count": 51,
   "id": "df6f3f57",
   "metadata": {},
   "outputs": [],
   "source": [
    "# Reshape the variables into NumPy arrays and put them into separate objects.\n",
    "\n",
    "X = df_medical_costs['Body_mass_index'].values.reshape(-1,1)\n",
    "y = df_medical_costs['Charges'].values.reshape(-1,1)"
   ]
  },
  {
   "cell_type": "code",
   "execution_count": 52,
   "id": "3ea99346",
   "metadata": {},
   "outputs": [
    {
     "data": {
      "text/plain": [
       "array([[27.9 ],\n",
       "       [33.77],\n",
       "       [33.  ],\n",
       "       ...,\n",
       "       [36.85],\n",
       "       [25.8 ],\n",
       "       [29.07]])"
      ]
     },
     "execution_count": 52,
     "metadata": {},
     "output_type": "execute_result"
    }
   ],
   "source": [
    "X"
   ]
  },
  {
   "cell_type": "code",
   "execution_count": 53,
   "id": "aa0a7d83",
   "metadata": {},
   "outputs": [
    {
     "data": {
      "text/plain": [
       "array([[16884.924 ],\n",
       "       [ 1725.5523],\n",
       "       [ 4449.462 ],\n",
       "       ...,\n",
       "       [ 1629.8335],\n",
       "       [ 2007.945 ],\n",
       "       [29141.3603]])"
      ]
     },
     "execution_count": 53,
     "metadata": {},
     "output_type": "execute_result"
    }
   ],
   "source": [
    "y"
   ]
  },
  {
   "cell_type": "code",
   "execution_count": 54,
   "id": "b7fcae05",
   "metadata": {},
   "outputs": [],
   "source": [
    "# Split data into a training set and a test set.\n",
    "\n",
    "X_train, X_test, y_train, y_test = train_test_split(X, y, test_size=0.3, random_state=0)"
   ]
  },
  {
   "cell_type": "markdown",
   "id": "6176f14a",
   "metadata": {},
   "source": [
    "### II) Regression Analysis"
   ]
  },
  {
   "cell_type": "code",
   "execution_count": 56,
   "id": "afdf83c3",
   "metadata": {},
   "outputs": [],
   "source": [
    "# Create a regression object.\n",
    "\n",
    "regression = LinearRegression()  # Regression object, which will be fit onto the training set."
   ]
  },
  {
   "cell_type": "code",
   "execution_count": 57,
   "id": "cec3cdfa",
   "metadata": {},
   "outputs": [
    {
     "data": {
      "text/plain": [
       "LinearRegression()"
      ]
     },
     "execution_count": 57,
     "metadata": {},
     "output_type": "execute_result"
    }
   ],
   "source": [
    "# Fit the regression object onto the training set.\n",
    "\n",
    "regression.fit(X_train, y_train)"
   ]
  },
  {
   "cell_type": "code",
   "execution_count": 58,
   "id": "92eb6431",
   "metadata": {},
   "outputs": [],
   "source": [
    "# Predict the values of y using X.\n",
    "\n",
    "y_predicted = regression.predict(X_test)"
   ]
  },
  {
   "cell_type": "code",
   "execution_count": 59,
   "id": "2f84583a",
   "metadata": {},
   "outputs": [
    {
     "data": {
      "image/png": "[encoded data removed]",
      "text/plain": [
       "<Figure size 432x288 with 1 Axes>"
      ]
     },
     "metadata": {
      "needs_background": "light"
     },
     "output_type": "display_data"
    }
   ],
   "source": [
    "# Create a plot that shows the regression line from the model on the test set.\n",
    "\n",
    "plot_test = plt\n",
    "plot_test.scatter(X_test, y_test, color='gray', s = 15)\n",
    "plot_test.plot(X_test, y_predicted, color='red', linewidth =3)\n",
    "plot_test.title('Body_mass_index vs. Charges (Test set)')\n",
    "plot_test.xlabel('Body_mass_index')\n",
    "plot_test.ylabel('Charges')\n",
    "plot_test.show()"
   ]
  },
  {
   "cell_type": "code",
   "execution_count": 60,
   "id": "067c41c4",
   "metadata": {},
   "outputs": [],
   "source": [
    "# Create objects that contain the model summary statistics.\n",
    "\n",
    "rmse = mean_squared_error(y_test, y_predicted) # This is the mean squared error\n",
    "r2 = r2_score(y_test, y_predicted) # This is the R2 score. "
   ]
  },
  {
   "cell_type": "code",
   "execution_count": 61,
   "id": "74f2af85",
   "metadata": {},
   "outputs": [
    {
     "name": "stdout",
     "output_type": "stream",
     "text": [
      "Slope: [[301.18863244]]\n",
      "Mean squared error:  154131658.7511644\n",
      "R2 score:  0.05879287466812988\n"
     ]
    }
   ],
   "source": [
    "# Print the model summary statistics. This is where you evaluate the performance of the model.\n",
    "\n",
    "print('Slope:' , regression.coef_)\n",
    "print('Mean squared error: ', rmse)\n",
    "print('R2 score: ', r2)"
   ]
  },
  {
   "cell_type": "code",
   "execution_count": 62,
   "id": "814076a9",
   "metadata": {},
   "outputs": [
    {
     "data": {
      "text/plain": [
       "array([[15772.62039644],\n",
       "       [12625.19918748],\n",
       "       [13221.55267971],\n",
       "       [12890.24518403],\n",
       "       [ 9215.74386831],\n",
       "       [ 9101.29218798],\n",
       "       [11705.06791539],\n",
       "       [ 9742.82397507],\n",
       "       [11533.3903949 ],\n",
       "       [14766.6503641 ],\n",
       "       [13155.29118057],\n",
       "       [11929.45344656],\n",
       "       [13250.16559979],\n",
       "       [12757.72218576],\n",
       "       [11580.07463293],\n",
       "       [18953.17235496],\n",
       "       [11876.74543588],\n",
       "       [13564.90772068],\n",
       "       [ 8843.77590725],\n",
       "       [13707.97232109],\n",
       "       [13221.55267971],\n",
       "       [12423.40280375],\n",
       "       [12935.42347889],\n",
       "       [13221.55267971],\n",
       "       [13950.4291702 ],\n",
       "       [15024.16664484],\n",
       "       [ 8986.84050766],\n",
       "       [13387.20642755],\n",
       "       [11531.88445174],\n",
       "       [14509.13408337],\n",
       "       [12420.39091743],\n",
       "       [16700.28138434],\n",
       "       [10435.55782968],\n",
       "       [15013.6250427 ],\n",
       "       [ 9959.67979043],\n",
       "       [13817.90617193],\n",
       "       [15275.65915292],\n",
       "       [14742.55527351],\n",
       "       [ 9673.55058961],\n",
       "       [13808.87051296],\n",
       "       [13021.26223914],\n",
       "       [12194.4994431 ],\n",
       "       [12620.681358  ],\n",
       "       [14909.71496451],\n",
       "       [14878.09015811],\n",
       "       [14878.09015811],\n",
       "       [12161.36869353],\n",
       "       [13718.51392323],\n",
       "       [15676.24003406],\n",
       "       [10617.7769523 ],\n",
       "       [11247.26119409],\n",
       "       [12191.48755678],\n",
       "       [12212.57076105],\n",
       "       [15540.70514946],\n",
       "       [16402.10463823],\n",
       "       [11619.22915515],\n",
       "       [13751.64467279],\n",
       "       [11733.68083547],\n",
       "       [14049.82141891],\n",
       "       [15997.0059276 ],\n",
       "       [10245.80899124],\n",
       "       [10303.0348314 ],\n",
       "       [12391.77799735],\n",
       "       [14652.19868378],\n",
       "       [13164.32683954],\n",
       "       [16468.36613737],\n",
       "       [ 9983.77488102],\n",
       "       [14137.16612231],\n",
       "       [10372.30821686],\n",
       "       [13078.4880793 ],\n",
       "       [14646.17491113],\n",
       "       [10961.13199328],\n",
       "       [14977.48240681],\n",
       "       [14878.09015811],\n",
       "       [11018.35783344],\n",
       "       [12077.03587645],\n",
       "       [10495.79555616],\n",
       "       [13022.7681823 ],\n",
       "       [13718.51392323],\n",
       "       [11190.03535393],\n",
       "       [12449.00383751],\n",
       "       [12391.77799735],\n",
       "       [11819.51959572],\n",
       "       [12875.18575241],\n",
       "       [14308.8436428 ],\n",
       "       [11399.36145347],\n",
       "       [13021.26223914],\n",
       "       [13135.71391946],\n",
       "       [12061.97644483],\n",
       "       [14411.24777783],\n",
       "       [14966.94080467],\n",
       "       [10446.09943181],\n",
       "       [ 8958.22758758],\n",
       "       [12161.36869353],\n",
       "       [14223.00488256],\n",
       "       [13278.77851987],\n",
       "       [12019.81003629],\n",
       "       [12019.81003629],\n",
       "       [13650.74648093],\n",
       "       [15917.19094001],\n",
       "       [12706.52011824],\n",
       "       [11819.51959572],\n",
       "       [13718.51392323],\n",
       "       [14149.21366761],\n",
       "       [13417.32529079],\n",
       "       [14082.95216847],\n",
       "       [11418.93871458],\n",
       "       [14251.61780264],\n",
       "       [14280.23072272],\n",
       "       [13658.27619674],\n",
       "       [14381.12891459],\n",
       "       [17097.85037916],\n",
       "       [12477.61675759],\n",
       "       [10360.26067157],\n",
       "       [11447.55163466],\n",
       "       [12134.26171661],\n",
       "       [12220.10047686],\n",
       "       [11790.90667564],\n",
       "       [14260.65346161],\n",
       "       [16254.52220834],\n",
       "       [14613.04416156],\n",
       "       [12992.64931906],\n",
       "       [11447.55163466],\n",
       "       [14260.65346161],\n",
       "       [12061.97644483],\n",
       "       [10917.45964157],\n",
       "       [11647.84207523],\n",
       "       [10675.00279246],\n",
       "       [15796.71548703],\n",
       "       [10706.62759887],\n",
       "       [14778.6979094 ],\n",
       "       [13950.4291702 ],\n",
       "       [11647.84207523],\n",
       "       [12191.48755678],\n",
       "       [14260.65346161],\n",
       "       [13055.89893187],\n",
       "       [11200.57695606],\n",
       "       [11333.09995433],\n",
       "       [10670.48496298],\n",
       "       [11104.19659368],\n",
       "       [14509.13408337],\n",
       "       [12849.58471865],\n",
       "       [10339.1774673 ],\n",
       "       [13650.74648093],\n",
       "       [11390.3257945 ],\n",
       "       [12483.64053024],\n",
       "       [16733.41213391],\n",
       "       [10760.84155271],\n",
       "       [13879.64984158],\n",
       "       [13507.68188052],\n",
       "       [11101.18470736],\n",
       "       [16468.36613737],\n",
       "       [12423.40280375],\n",
       "       [12634.23484646],\n",
       "       [12754.71029943],\n",
       "       [13078.4880793 ],\n",
       "       [13078.4880793 ],\n",
       "       [12625.19918748],\n",
       "       [12105.64879653],\n",
       "       [13994.10152191],\n",
       "       [10818.06739287],\n",
       "       [16335.84313909],\n",
       "       [11562.00331499],\n",
       "       [12061.97644483],\n",
       "       [13236.61211133],\n",
       "       [13908.26276166],\n",
       "       [10315.0823767 ],\n",
       "       [10560.55111214],\n",
       "       [11876.74543588],\n",
       "       [ 9788.00226994],\n",
       "       [13765.19816125],\n",
       "       [12820.97179857],\n",
       "       [13021.26223914],\n",
       "       [14579.91341199],\n",
       "       [12905.30461565],\n",
       "       [13917.29842063],\n",
       "       [13336.00436003],\n",
       "       [10360.26067157],\n",
       "       [12763.74595841],\n",
       "       [10217.19607116],\n",
       "       [17462.28862441],\n",
       "       [12757.72218576],\n",
       "       [14022.71444199],\n",
       "       [10405.43896643],\n",
       "       [10531.93819206],\n",
       "       [15495.5268546 ],\n",
       "       [13751.64467279],\n",
       "       [11730.66894915],\n",
       "       [12248.71339694],\n",
       "       [14852.48912435],\n",
       "       [13364.61728011],\n",
       "       [12790.85293532],\n",
       "       [11881.26326537],\n",
       "       [11134.31545693],\n",
       "       [13628.1573335 ],\n",
       "       [11549.95576969],\n",
       "       [12763.74595841],\n",
       "       [14709.42452394],\n",
       "       [14878.09015811],\n",
       "       [14712.43641027],\n",
       "       [13507.68188052],\n",
       "       [10107.26222032],\n",
       "       [13650.74648093],\n",
       "       [11580.07463293],\n",
       "       [14944.35165724],\n",
       "       [16549.68706812],\n",
       "       [ 9759.38934986],\n",
       "       [13477.56301728],\n",
       "       [12784.82916268],\n",
       "       [11134.31545693],\n",
       "       [12677.90719816],\n",
       "       [16468.36613737],\n",
       "       [16655.10308948],\n",
       "       [13838.9893762 ],\n",
       "       [12453.521667  ],\n",
       "       [13917.29842063],\n",
       "       [12077.03587645],\n",
       "       [10446.09943181],\n",
       "       [12161.36869353],\n",
       "       [19615.78734632],\n",
       "       [13221.55267971],\n",
       "       [10789.45447279],\n",
       "       [11664.40745001],\n",
       "       [12875.18575241],\n",
       "       [14194.39196248],\n",
       "       [15195.84416532],\n",
       "       [15076.87465551],\n",
       "       [11369.24259023],\n",
       "       [13507.68188052],\n",
       "       [11531.88445174],\n",
       "       [12105.64879653],\n",
       "       [13983.55991977],\n",
       "       [14909.71496451],\n",
       "       [16170.18939126],\n",
       "       [10360.26067157],\n",
       "       [10675.00279246],\n",
       "       [13450.45604036],\n",
       "       [13135.71391946],\n",
       "       [11190.03535393],\n",
       "       [15507.5743999 ],\n",
       "       [12754.71029943],\n",
       "       [ 9559.09890929],\n",
       "       [14953.38731621],\n",
       "       [17859.85761922],\n",
       "       [11101.18470736],\n",
       "       [13507.68188052],\n",
       "       [14823.87620427],\n",
       "       [12992.64931906],\n",
       "       [12477.61675759],\n",
       "       [13122.160431  ],\n",
       "       [10827.10305184],\n",
       "       [13477.56301728],\n",
       "       [14679.3056607 ],\n",
       "       [11333.09995433],\n",
       "       [11991.19711621],\n",
       "       [10703.61571254],\n",
       "       [11134.31545693],\n",
       "       [12823.98368489],\n",
       "       [11819.51959572],\n",
       "       [10769.87721168],\n",
       "       [ 9908.47772291],\n",
       "       [12757.72218576],\n",
       "       [13421.84312028],\n",
       "       [11562.00331499],\n",
       "       [12334.55215718],\n",
       "       [11664.40745001],\n",
       "       [11339.12372698],\n",
       "       [12964.03639898],\n",
       "       [ 9816.61519002],\n",
       "       [14149.21366761],\n",
       "       [14823.87620427],\n",
       "       [12105.64879653],\n",
       "       [11962.58419613],\n",
       "       [11848.1325158 ],\n",
       "       [14381.12891459],\n",
       "       [13650.74648093],\n",
       "       [13965.48860182],\n",
       "       [14566.35992353],\n",
       "       [12658.32993705],\n",
       "       [12327.02244137],\n",
       "       [14108.55320223],\n",
       "       [15573.83589903],\n",
       "       [13748.63278647],\n",
       "       [12105.64879653],\n",
       "       [14938.32788459],\n",
       "       [13628.1573335 ],\n",
       "       [14149.21366761],\n",
       "       [13598.03847025],\n",
       "       [12992.64931906],\n",
       "       [15653.65088663],\n",
       "       [ 9988.29271051],\n",
       "       [14738.03744402],\n",
       "       [11562.00331499],\n",
       "       [15474.44365033],\n",
       "       [12563.45551784],\n",
       "       [13536.2948006 ],\n",
       "       [12875.18575241],\n",
       "       [13598.03847025],\n",
       "       [12965.54234214],\n",
       "       [14682.31754702],\n",
       "       [12992.64931906],\n",
       "       [14594.97284362],\n",
       "       [11549.95576969],\n",
       "       [11233.70770563],\n",
       "       [12019.81003629],\n",
       "       [11676.45499531],\n",
       "       [13486.59867625],\n",
       "       [10140.39296989],\n",
       "       [13793.81108134],\n",
       "       [12293.89169181],\n",
       "       [11821.02553888],\n",
       "       [12363.16507727],\n",
       "       [10531.93819206],\n",
       "       [11037.93509455],\n",
       "       [10194.60692373],\n",
       "       [15405.17026487],\n",
       "       [11104.19659368],\n",
       "       [13585.99092496],\n",
       "       [14140.17800864],\n",
       "       [12784.82916268],\n",
       "       [14194.39196248],\n",
       "       [13536.2948006 ],\n",
       "       [10013.89374427],\n",
       "       [13817.90617193],\n",
       "       [11941.50099186],\n",
       "       [10637.35421341],\n",
       "       [13959.46482918],\n",
       "       [13078.4880793 ],\n",
       "       [10703.61571254],\n",
       "       [10388.87359165],\n",
       "       [11104.19659368],\n",
       "       [12260.76094224],\n",
       "       [12823.98368489],\n",
       "       [10074.13147075],\n",
       "       [15281.68292557],\n",
       "       [12691.46068662],\n",
       "       [10417.48651173],\n",
       "       [11188.52941077],\n",
       "       [13364.61728011],\n",
       "       [10474.71235189],\n",
       "       [12592.06843792],\n",
       "       [14652.19868378],\n",
       "       [11390.3257945 ],\n",
       "       [11565.01520131],\n",
       "       [13086.01779511],\n",
       "       [11670.43122266],\n",
       "       [12790.85293532],\n",
       "       [10531.93819206],\n",
       "       [12019.81003629],\n",
       "       [13164.32683954],\n",
       "       [15706.3588973 ],\n",
       "       [15275.65915292],\n",
       "       [14165.77904239],\n",
       "       [13287.81417884],\n",
       "       [13078.4880793 ],\n",
       "       [14079.94028215],\n",
       "       [16468.36613737],\n",
       "       [15110.00540508],\n",
       "       [13354.07567798],\n",
       "       [13450.45604036],\n",
       "       [12162.8746367 ],\n",
       "       [12092.09530807],\n",
       "       [13336.00436003],\n",
       "       [14823.87620427],\n",
       "       [14082.95216847],\n",
       "       [10331.64775149],\n",
       "       [11218.64827401],\n",
       "       [11218.64827401],\n",
       "       [14537.74700345],\n",
       "       [14509.13408337],\n",
       "       [12506.22967767],\n",
       "       [16402.10463823],\n",
       "       [11619.22915515],\n",
       "       [14909.71496451],\n",
       "       [10041.00072118],\n",
       "       [16225.90928826],\n",
       "       [11333.09995433],\n",
       "       [14079.94028215],\n",
       "       [10796.9841886 ],\n",
       "       [12845.06688916],\n",
       "       [13278.77851987],\n",
       "       [12506.22967767],\n",
       "       [12964.03639898],\n",
       "       [13822.42400142],\n",
       "       [14613.04416156],\n",
       "       [13049.87515922],\n",
       "       [10345.20123994],\n",
       "       [ 9873.84103018],\n",
       "       [ 9301.58262855],\n",
       "       [12248.71339694],\n",
       "       [15164.21935892],\n",
       "       [12935.42347889],\n",
       "       [11489.7180432 ],\n",
       "       [11465.62295261],\n",
       "       [16225.90928826],\n",
       "       [17694.20387138],\n",
       "       [13965.48860182],\n",
       "       [13135.71391946],\n",
       "       [15308.78990249],\n",
       "       [14909.71496451],\n",
       "       [12792.35887849],\n",
       "       [12277.32631702]])"
      ]
     },
     "execution_count": 62,
     "metadata": {},
     "output_type": "execute_result"
    }
   ],
   "source": [
    "y_predicted"
   ]
  },
  {
   "cell_type": "code",
   "execution_count": 63,
   "id": "be31e1fe",
   "metadata": {},
   "outputs": [
    {
     "data": {
      "text/html": [
       "<div>\n",
       "<style scoped>\n",
       "    .dataframe tbody tr th:only-of-type {\n",
       "        vertical-align: middle;\n",
       "    }\n",
       "\n",
       "    .dataframe tbody tr th {\n",
       "        vertical-align: top;\n",
       "    }\n",
       "\n",
       "    .dataframe thead th {\n",
       "        text-align: right;\n",
       "    }\n",
       "</style>\n",
       "<table border=\"1\" class=\"dataframe\">\n",
       "  <thead>\n",
       "    <tr style=\"text-align: right;\">\n",
       "      <th></th>\n",
       "      <th>Actual</th>\n",
       "      <th>Predicted</th>\n",
       "    </tr>\n",
       "  </thead>\n",
       "  <tbody>\n",
       "    <tr>\n",
       "      <th>0</th>\n",
       "      <td>1633.96180</td>\n",
       "      <td>15772.620396</td>\n",
       "    </tr>\n",
       "    <tr>\n",
       "      <th>1</th>\n",
       "      <td>8547.69130</td>\n",
       "      <td>12625.199187</td>\n",
       "    </tr>\n",
       "    <tr>\n",
       "      <th>2</th>\n",
       "      <td>9290.13950</td>\n",
       "      <td>13221.552680</td>\n",
       "    </tr>\n",
       "    <tr>\n",
       "      <th>3</th>\n",
       "      <td>32548.34050</td>\n",
       "      <td>12890.245184</td>\n",
       "    </tr>\n",
       "    <tr>\n",
       "      <th>4</th>\n",
       "      <td>9644.25250</td>\n",
       "      <td>9215.743868</td>\n",
       "    </tr>\n",
       "    <tr>\n",
       "      <th>5</th>\n",
       "      <td>2680.94930</td>\n",
       "      <td>9101.292188</td>\n",
       "    </tr>\n",
       "    <tr>\n",
       "      <th>6</th>\n",
       "      <td>2198.18985</td>\n",
       "      <td>11705.067915</td>\n",
       "    </tr>\n",
       "    <tr>\n",
       "      <th>7</th>\n",
       "      <td>1241.56500</td>\n",
       "      <td>9742.823975</td>\n",
       "    </tr>\n",
       "    <tr>\n",
       "      <th>8</th>\n",
       "      <td>2710.82855</td>\n",
       "      <td>11533.390395</td>\n",
       "    </tr>\n",
       "    <tr>\n",
       "      <th>9</th>\n",
       "      <td>12235.83920</td>\n",
       "      <td>14766.650364</td>\n",
       "    </tr>\n",
       "    <tr>\n",
       "      <th>10</th>\n",
       "      <td>8280.62270</td>\n",
       "      <td>13155.291181</td>\n",
       "    </tr>\n",
       "    <tr>\n",
       "      <th>11</th>\n",
       "      <td>17043.34140</td>\n",
       "      <td>11929.453447</td>\n",
       "    </tr>\n",
       "    <tr>\n",
       "      <th>12</th>\n",
       "      <td>13974.45555</td>\n",
       "      <td>13250.165600</td>\n",
       "    </tr>\n",
       "    <tr>\n",
       "      <th>13</th>\n",
       "      <td>8219.20390</td>\n",
       "      <td>12757.722186</td>\n",
       "    </tr>\n",
       "    <tr>\n",
       "      <th>14</th>\n",
       "      <td>5472.44900</td>\n",
       "      <td>11580.074633</td>\n",
       "    </tr>\n",
       "    <tr>\n",
       "      <th>15</th>\n",
       "      <td>2438.05520</td>\n",
       "      <td>18953.172355</td>\n",
       "    </tr>\n",
       "    <tr>\n",
       "      <th>16</th>\n",
       "      <td>5267.81815</td>\n",
       "      <td>11876.745436</td>\n",
       "    </tr>\n",
       "    <tr>\n",
       "      <th>17</th>\n",
       "      <td>3490.54910</td>\n",
       "      <td>13564.907721</td>\n",
       "    </tr>\n",
       "    <tr>\n",
       "      <th>18</th>\n",
       "      <td>6640.54485</td>\n",
       "      <td>8843.775907</td>\n",
       "    </tr>\n",
       "    <tr>\n",
       "      <th>19</th>\n",
       "      <td>14692.66935</td>\n",
       "      <td>13707.972321</td>\n",
       "    </tr>\n",
       "    <tr>\n",
       "      <th>20</th>\n",
       "      <td>1622.18850</td>\n",
       "      <td>13221.552680</td>\n",
       "    </tr>\n",
       "    <tr>\n",
       "      <th>21</th>\n",
       "      <td>13224.69300</td>\n",
       "      <td>12423.402804</td>\n",
       "    </tr>\n",
       "    <tr>\n",
       "      <th>22</th>\n",
       "      <td>1256.29900</td>\n",
       "      <td>12935.423479</td>\n",
       "    </tr>\n",
       "    <tr>\n",
       "      <th>23</th>\n",
       "      <td>2643.26850</td>\n",
       "      <td>13221.552680</td>\n",
       "    </tr>\n",
       "    <tr>\n",
       "      <th>24</th>\n",
       "      <td>1674.63230</td>\n",
       "      <td>13950.429170</td>\n",
       "    </tr>\n",
       "    <tr>\n",
       "      <th>25</th>\n",
       "      <td>4667.60765</td>\n",
       "      <td>15024.166645</td>\n",
       "    </tr>\n",
       "    <tr>\n",
       "      <th>26</th>\n",
       "      <td>3732.62510</td>\n",
       "      <td>8986.840508</td>\n",
       "    </tr>\n",
       "    <tr>\n",
       "      <th>27</th>\n",
       "      <td>11552.90400</td>\n",
       "      <td>13387.206428</td>\n",
       "    </tr>\n",
       "    <tr>\n",
       "      <th>28</th>\n",
       "      <td>3756.62160</td>\n",
       "      <td>11531.884452</td>\n",
       "    </tr>\n",
       "    <tr>\n",
       "      <th>29</th>\n",
       "      <td>37465.34375</td>\n",
       "      <td>14509.134083</td>\n",
       "    </tr>\n",
       "  </tbody>\n",
       "</table>\n",
       "</div>"
      ],
      "text/plain": [
       "         Actual     Predicted\n",
       "0    1633.96180  15772.620396\n",
       "1    8547.69130  12625.199187\n",
       "2    9290.13950  13221.552680\n",
       "3   32548.34050  12890.245184\n",
       "4    9644.25250   9215.743868\n",
       "5    2680.94930   9101.292188\n",
       "6    2198.18985  11705.067915\n",
       "7    1241.56500   9742.823975\n",
       "8    2710.82855  11533.390395\n",
       "9   12235.83920  14766.650364\n",
       "10   8280.62270  13155.291181\n",
       "11  17043.34140  11929.453447\n",
       "12  13974.45555  13250.165600\n",
       "13   8219.20390  12757.722186\n",
       "14   5472.44900  11580.074633\n",
       "15   2438.05520  18953.172355\n",
       "16   5267.81815  11876.745436\n",
       "17   3490.54910  13564.907721\n",
       "18   6640.54485   8843.775907\n",
       "19  14692.66935  13707.972321\n",
       "20   1622.18850  13221.552680\n",
       "21  13224.69300  12423.402804\n",
       "22   1256.29900  12935.423479\n",
       "23   2643.26850  13221.552680\n",
       "24   1674.63230  13950.429170\n",
       "25   4667.60765  15024.166645\n",
       "26   3732.62510   8986.840508\n",
       "27  11552.90400  13387.206428\n",
       "28   3756.62160  11531.884452\n",
       "29  37465.34375  14509.134083"
      ]
     },
     "execution_count": 63,
     "metadata": {},
     "output_type": "execute_result"
    }
   ],
   "source": [
    "# Create a dataframe comparing the actual and predicted values of y.\n",
    "\n",
    "data = pd.DataFrame({'Actual': y_test.flatten(), 'Predicted': y_predicted.flatten()})\n",
    "data.head(30)"
   ]
  },
  {
   "cell_type": "markdown",
   "id": "0bd37782",
   "metadata": {},
   "source": [
    "### III) Partial Interpretation"
   ]
  },
  {
   "cell_type": "markdown",
   "id": "8abdd894",
   "metadata": {},
   "source": [
    "Following the summary results we got, we say that we have a positive relationship, extremely high MSE and a low R2 square. It seems that we are not able to say that the higher the body mass index level, the higher the cost per person."
   ]
  },
  {
   "cell_type": "markdown",
   "id": "2c1d5b6c",
   "metadata": {},
   "source": [
    "### IV) Compare how the regression fits the training set"
   ]
  },
  {
   "cell_type": "code",
   "execution_count": 64,
   "id": "b26aa10f",
   "metadata": {},
   "outputs": [],
   "source": [
    "# Predict.\n",
    "\n",
    "y_predicted_train = regression.predict(X_train) # This is predicting X_train!"
   ]
  },
  {
   "cell_type": "code",
   "execution_count": 65,
   "id": "38f77331",
   "metadata": {},
   "outputs": [],
   "source": [
    "rmse = mean_squared_error(y_train, y_predicted_train)\n",
    "r2 = r2_score(y_train, y_predicted_train)"
   ]
  },
  {
   "cell_type": "code",
   "execution_count": 66,
   "id": "60e96279",
   "metadata": {},
   "outputs": [
    {
     "name": "stdout",
     "output_type": "stream",
     "text": [
      "Slope: [[301.18863244]]\n",
      "Mean squared error:  135599557.42526153\n",
      "R2 score:  0.02444033897433817\n"
     ]
    }
   ],
   "source": [
    "print('Slope:' , regression.coef_)\n",
    "print('Mean squared error: ', rmse)\n",
    "print('R2 score: ', r2)"
   ]
  },
  {
   "cell_type": "code",
   "execution_count": 67,
   "id": "f2dc6a33",
   "metadata": {},
   "outputs": [
    {
     "data": {
      "image/png": "[encoded data removed]",
      "text/plain": [
       "<Figure size 432x288 with 1 Axes>"
      ]
     },
     "metadata": {
      "needs_background": "light"
     },
     "output_type": "display_data"
    }
   ],
   "source": [
    "# Visualizing the training set results.\n",
    "\n",
    "plot_test = plt\n",
    "plot_test.scatter(X_train, y_train, color='green', s = 15)\n",
    "plot_test.plot(X_train, y_predicted_train, color='red', linewidth =3)\n",
    "plot_test.title('Body mass index vs. Charges (Train set)')\n",
    "plot_test.xlabel('Body_mass_index')\n",
    "plot_test.ylabel('Charges')\n",
    "plot_test.show()"
   ]
  },
  {
   "cell_type": "markdown",
   "id": "3165fccf",
   "metadata": {},
   "source": [
    "#### Compare the predicted y values with the actual y values in a dataframe.\n",
    "\n",
    "The models' outcome on the training set is similar to that of the one we have in the test set. Even more, the data points are more separated here than in the other set. This confirms that the model is not applicable either."
   ]
  },
  {
   "cell_type": "markdown",
   "id": "2a5d61e7",
   "metadata": {},
   "source": [
    "---"
   ]
  },
  {
   "cell_type": "markdown",
   "id": "e6681619",
   "metadata": {},
   "source": [
    "# 4. Final Conclusions"
   ]
  },
  {
   "cell_type": "markdown",
   "id": "60ef479c",
   "metadata": {},
   "source": [
    "We are not able to affirm that age or body mass index are determinant when establishing charges to pay pro person. Even changing the model to specifying only in ederly people did not work either. Is possible that we need to have more data points in order to make better assumpions since the data set we got discriminating by ederly people was not enough. In fact, there are other factors that could be considered in establishing the total insurance charges for each person."
   ]
  },
  {
   "cell_type": "markdown",
   "id": "124f0703",
   "metadata": {},
   "source": [
    "---"
   ]
  },
  {
   "cell_type": "markdown",
   "id": "df879a8d",
   "metadata": {},
   "source": [
    "# 5.  Exporting Data"
   ]
  },
  {
   "cell_type": "code",
   "execution_count": 68,
   "id": "2e5cc774",
   "metadata": {},
   "outputs": [],
   "source": [
    "# Export df_medical_costs as .pkl\n",
    "\n",
    "df_medical_costs.to_pickle(os.path.join(path, 'medical_costs_regresion.pkl'))"
   ]
  }
 ],
 "metadata": {
  "kernelspec": {
   "display_name": "Python 3 (ipykernel)",
   "language": "python",
   "name": "python3"
  },
  "language_info": {
   "codemirror_mode": {
    "name": "ipython",
    "version": 3
   },
   "file_extension": ".py",
   "mimetype": "text/x-python",
   "name": "python",
   "nbconvert_exporter": "python",
   "pygments_lexer": "ipython3",
   "version": "3.9.7"
  }
 },
 "nbformat": 4,
 "nbformat_minor": 5
}
