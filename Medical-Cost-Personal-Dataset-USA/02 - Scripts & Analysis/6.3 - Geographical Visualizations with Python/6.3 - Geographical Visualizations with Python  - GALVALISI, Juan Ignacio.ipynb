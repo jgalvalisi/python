{
 "cells": [
  {
   "cell_type": "markdown",
   "id": "8ce08d97",
   "metadata": {},
   "source": [
    "# 6.3 - Geographical Visualizations with Python"
   ]
  },
  {
   "cell_type": "markdown",
   "id": "2479c35c",
   "metadata": {},
   "source": [
    "### This script contains the following points:\n",
    "\n",
    "* 1 - Import Data & Libraries\n",
    "* 2 - Data Wrangling\n",
    "    * I) Data Consistency\n",
    "    * II) Duplicates\n",
    "    * III) Extreme Values\n",
    "* 3 - Plotting a Choropleth\n",
    "* 4 - Partial Results\n",
    "* 5 - Exporting Data & Visualizations"
   ]
  },
  {
   "cell_type": "markdown",
   "id": "c03866c5",
   "metadata": {},
   "source": [
    "---"
   ]
  },
  {
   "cell_type": "markdown",
   "id": "fd4576e9",
   "metadata": {},
   "source": [
    "## 1. Import Data & Libraries"
   ]
  },
  {
   "cell_type": "code",
   "execution_count": 25,
   "id": "dda8c3f3",
   "metadata": {},
   "outputs": [],
   "source": [
    "# Import libraries\n",
    "\n",
    "import pandas as pd\n",
    "import numpy as np\n",
    "import datetime as dt\n",
    "import seaborn as sns\n",
    "import matplotlib.pyplot as plt\n",
    "import matplotlib\n",
    "import os\n",
    "import folium\n",
    "import json"
   ]
  },
  {
   "cell_type": "code",
   "execution_count": 26,
   "id": "2460ceac",
   "metadata": {},
   "outputs": [],
   "source": [
    "# This command propts matplotlib visuals to appear in the notebook \n",
    "\n",
    "%matplotlib inline"
   ]
  },
  {
   "cell_type": "code",
   "execution_count": 27,
   "id": "505feb70",
   "metadata": {},
   "outputs": [],
   "source": [
    "# Import JSON file for the U.S. regions\n",
    "\n",
    "us_regions_geo = r'/Users/juanigalvalisi/Desktop/Data Analyst/Achievement 6/6.3 - Geographical Visualizations with Python/geoJSON_us_regions.json'"
   ]
  },
  {
   "cell_type": "code",
   "execution_count": 28,
   "id": "a67dd622",
   "metadata": {},
   "outputs": [
    {
     "name": "stdout",
     "output_type": "stream",
     "text": [
      "{'type': 'Feature', 'properties': {'name': 'northwest'}, 'geometry': {'type': 'Polygon', 'coordinates': [[[-104.32617187499999, 49.03786794532644], [-103.974609375, 41.04621681452063], [-101.6015625, 41.04621681452063], [-102.48046875, 37.020098201368114], [-94.5703125, 37.09023980307208], [-93.603515625, 36.4566360115962], [-89.296875, 37.23032838760387], [-87.71484375, 38.272688535980976], [-85.4296875, 38.54816542304656], [-84.638671875, 39.16414104768742], [-83.232421875, 38.75408327579141], [-82.177734375, 38.685509760012], [-80.85937499999999, 39.842286020743394], [-80.595703125, 41.57436130598913], [-83.583984375, 41.96765920367816], [-82.79296874999999, 42.4234565179383], [-82.705078125, 43.389081939117496], [-83.232421875, 43.70759350405294], [-84.111328125, 43.96119063892024], [-83.49609375, 44.653024159812], [-84.55078125, 45.460130637921004], [-85.4296875, 45.1510532655634], [-86.396484375, 44.213709909702054], [-86.220703125, 43.389081939117496], [-86.220703125, 42.16340342422401], [-87.1875, 41.64007838467894], [-87.62695312499999, 42.35854391749705], [-87.890625, 43.51668853502906], [-87.5390625, 44.5278427984555], [-87.62695312499999, 45.089035564831036], [-88.330078125, 45.89000815866184], [-91.0546875, 46.86019101567027], [-92.63671875, 46.558860303117164], [-90.17578124999999, 48.16608541901253], [-91.669921875, 48.16608541901253], [-94.658203125, 48.69096039092549], [-95.537109375, 49.15296965617042], [-104.32617187499999, 49.03786794532644]]]}}\n",
      "{'type': 'Feature', 'properties': {'name': 'northeast'}, 'geometry': {'type': 'Polygon', 'coordinates': [[[-80.57373046875, 41.590796851056005], [-80.85937499999999, 39.791654835253425], [-75.8056640625, 39.690280594818034], [-75.4541015625, 39.67337039176558], [-74.794921875, 39.06184913429154], [-74.06982421875, 40.16208338164617], [-74.267578125, 40.44694705960048], [-74.24560546875, 40.613952441166596], [-72.1142578125, 40.94671366508002], [-73.47656249999999, 41.09591205639546], [-72.1142578125, 41.409775832009565], [-71.56494140625, 41.393294288784865], [-71.38916015625, 41.705728515237524], [-71.12548828125, 41.5579215778042], [-70.81787109374999, 41.68932225997044], [-70.59814453125, 41.75492216766298], [-70.48828125, 41.52502957323801], [-70.0048828125, 41.60722821271717], [-70.7958984375, 42.13082130188811], [-71.015625, 42.50450285299051], [-70.7958984375, 42.97250158602597], [-70.15869140625, 43.77109381775651], [-69.345703125, 43.91372326852401], [-68.97216796875, 44.213709909702054], [-68.79638671875, 44.68427737181225], [-68.48876953125, 44.512176171071054], [-68.31298828125, 44.6061127451739], [-68.115234375, 44.41808794374846], [-66.81884765625, 44.731125592643274], [-67.30224609375, 45.22848059584359], [-67.78564453125, 46.057985244793024], [-67.78564453125, 46.70973594407157], [-68.13720703125, 47.338822694822], [-68.97216796875, 47.14489748555398], [-69.2578125, 47.42808726171425], [-69.9609375, 46.81509864599243], [-70.13671875, 46.255846818480315], [-70.400390625, 45.706179285330855], [-70.751953125, 45.3521452458518], [-71.1474609375, 45.182036837015886], [-71.4990234375, 45.10454630976873], [-71.4990234375, 44.99588261816546], [-74.794921875, 45.042478050891546], [-75.87158203125, 44.41808794374846], [-76.13525390624999, 44.08758502824516], [-76.00341796875, 43.67581809328341], [-76.201171875, 43.54854811091286], [-76.88232421875, 43.34116005412307], [-77.1240234375, 43.18114705939968], [-77.54150390625, 43.27720532212024], [-78.79394531249999, 43.29320031385282], [-79.07958984375, 43.14909399920127], [-78.79394531249999, 42.8115217450979], [-78.94775390625, 42.56926437219384], [-79.73876953125, 42.114523952464246], [-80.33203125, 41.82045509614034], [-80.57373046875, 41.590796851056005]]]}}\n",
      "{'type': 'Feature', 'properties': {'name': 'southeast'}, 'geometry': {'type': 'Polygon', 'coordinates': [[[-102.48046875, 37.125286284966805], [-103.0078125, 37.125286284966805], [-102.9638671875, 32.0639555946604], [-106.6552734375, 31.914867503276223], [-105.16113281249999, 30.751277776257812], [-104.4140625, 29.611670115197377], [-103.22753906249999, 29.036960648558267], [-102.3046875, 30.29701788337205], [-101.337890625, 29.6880527498568], [-99.6240234375, 27.488781168937997], [-98.96484375, 26.352497858154024], [-98.0419921875, 26.194876675795218], [-97.20703125, 25.958044673317843], [-97.5146484375, 27.0982539061379], [-97.470703125, 27.994401411046148], [-96.8994140625, 28.497660832963472], [-95.6689453125, 28.92163128242129], [-95.00976562499999, 29.19053283229458], [-95.00976562499999, 29.84064389983441], [-94.3505859375, 29.611670115197377], [-93.55957031249999, 29.80251790576445], [-93.3837890625, 29.878755346037977], [-92.28515625, 29.57345707301757], [-91.93359375, 29.954934549656144], [-91.40625, 29.6880527498568], [-91.40625, 30.107117887092357], [-91.1865234375, 29.6880527498568], [-90.791015625, 29.305561325527698], [-89.9560546875, 29.49698759653577], [-89.8681640625, 30.06909396443887], [-89.5166015625, 30.29701788337205], [-87.978515625, 30.600093873550072], [-86.7919921875, 30.44867367928756], [-86.220703125, 30.44867367928756], [-85.7373046875, 30.107117887092357], [-85.0341796875, 29.878755346037977], [-83.9794921875, 30.14512718337613], [-83.232421875, 29.305561325527698], [-82.529296875, 28.729130483430154], [-82.5732421875, 27.877928333679495], [-82.44140625, 27.293689224852407], [-81.82617187499999, 26.509904531413927], [-81.0791015625, 25.878994400196202], [-80.85937499999999, 25.284437746983055], [-80.15625, 25.522614647623293], [-79.9365234375, 26.54922257769204], [-80.15625, 27.254629577800063], [-80.5078125, 28.14950321154457], [-81.1669921875, 29.458731185355344], [-81.4306640625, 30.183121842195515], [-81.650390625, 30.90222470517144], [-81.474609375, 31.615965936476076], [-80.9912109375, 32.0639555946604], [-79.98046875, 32.84267363195431], [-79.40917968749999, 33.358061612778876], [-77.6953125, 34.27083595165], [-76.81640625, 34.813803317113155], [-76.81640625, 35.496456056584165], [-75.76171875, 35.67514743608467], [-76.1572265625, 35.96022296929667], [-76.640625, 36.10237644873644], [-76.201171875, 36.35052700542763], [-76.11328125, 37.020098201368114], [-76.6845703125, 37.37015718405753], [-76.46484375, 37.71859032558816], [-75.89355468749999, 37.405073750176925], [-75.234375, 38.30718056188316], [-75.8056640625, 39.67337039176558], [-80.85937499999999, 39.774769485295465], [-82.08984375, 38.61687046392973], [-84.4189453125, 39.06184913429154], [-85.60546875, 38.54816542304656], [-87.890625, 38.30718056188316], [-89.1650390625, 37.19533058280065], [-93.603515625, 36.421282443649496], [-94.7021484375, 37.020098201368114], [-102.48046875, 37.125286284966805]]]}}\n",
      "{'type': 'Feature', 'properties': {'name': 'southwest'}, 'geometry': {'type': 'Polygon', 'coordinates': [[[-104.3701171875, 49.03786794532644], [-123.134765625, 49.03786794532644], [-122.3876953125, 48.37084770238366], [-122.08007812499999, 47.78363463526376], [-122.29980468749999, 47.487513008956554], [-122.51953124999999, 47.30903424774781], [-122.73925781250001, 47.12995075666307], [-123.04687499999999, 47.635783590864854], [-123.00292968749999, 48.10743118848039], [-123.8818359375, 48.16608541901253], [-124.541015625, 48.45835188280866], [-124.5849609375, 47.87214396888731], [-124.1015625, 47.07012182383309], [-123.96972656249999, 46.10370875598026], [-124.541015625, 42.97250158602597], [-124.1455078125, 41.77131167976407], [-124.365234375, 40.94671366508002], [-124.365234375, 40.3130432088809], [-123.662109375, 38.993572058209466], [-122.51953124999999, 37.85750715625203], [-122.03613281249999, 37.125286284966805], [-121.9482421875, 36.56260003738545], [-120.5419921875, 34.415973384481866], [-118.7841796875, 34.08906131584994], [-117.72949218749999, 33.7243396617476], [-117.158203125, 32.62087018318113], [-114.78515624999999, 32.76880048488168], [-111.005859375, 31.466153715024294], [-108.10546875, 31.466153715024294], [-107.9736328125, 31.80289258670676], [-106.5234375, 31.765537409484374], [-103.0078125, 32.10118973232094], [-103.1396484375, 37.125286284966805], [-102.568359375, 37.19533058280065], [-101.7333984375, 40.97989806962013], [-104.0185546875, 41.07935114946899], [-104.3701171875, 49.03786794532644]]]}}\n"
     ]
    }
   ],
   "source": [
    "# Look at the JSON file contents\n",
    "\n",
    "json_us_regions = open(us_regions_geo)\n",
    "  \n",
    "# returns JSON object as a dictionary\n",
    "data = json.load(json_us_regions)\n",
    "  \n",
    "# Iterating through the json list\n",
    "for i in data['features']:\n",
    "    print(i)"
   ]
  },
  {
   "cell_type": "code",
   "execution_count": 29,
   "id": "3e61a1e1",
   "metadata": {},
   "outputs": [],
   "source": [
    "# Define path\n",
    "\n",
    "path = r'/Users/juanigalvalisi/Desktop/Data Analyst/Achievement 6/'"
   ]
  },
  {
   "cell_type": "code",
   "execution_count": 30,
   "id": "073b0411",
   "metadata": {},
   "outputs": [],
   "source": [
    "# Import .PKL\n",
    "\n",
    "df_medical_costs = pd.read_pickle(os.path.join(path, 'medical_cost_categories.pkl'))"
   ]
  },
  {
   "cell_type": "code",
   "execution_count": 31,
   "id": "d412771f",
   "metadata": {},
   "outputs": [
    {
     "data": {
      "text/html": [
       "<div>\n",
       "<style scoped>\n",
       "    .dataframe tbody tr th:only-of-type {\n",
       "        vertical-align: middle;\n",
       "    }\n",
       "\n",
       "    .dataframe tbody tr th {\n",
       "        vertical-align: top;\n",
       "    }\n",
       "\n",
       "    .dataframe thead th {\n",
       "        text-align: right;\n",
       "    }\n",
       "</style>\n",
       "<table border=\"1\" class=\"dataframe\">\n",
       "  <thead>\n",
       "    <tr style=\"text-align: right;\">\n",
       "      <th></th>\n",
       "      <th>Age</th>\n",
       "      <th>Sex</th>\n",
       "      <th>Body_mass_index</th>\n",
       "      <th>Children</th>\n",
       "      <th>Smoker</th>\n",
       "      <th>Region</th>\n",
       "      <th>Charges</th>\n",
       "      <th>Age_range</th>\n",
       "      <th>Cost_category</th>\n",
       "    </tr>\n",
       "  </thead>\n",
       "  <tbody>\n",
       "    <tr>\n",
       "      <th>0</th>\n",
       "      <td>19</td>\n",
       "      <td>female</td>\n",
       "      <td>27.900</td>\n",
       "      <td>0</td>\n",
       "      <td>yes</td>\n",
       "      <td>southwest</td>\n",
       "      <td>16884.92400</td>\n",
       "      <td>Young</td>\n",
       "      <td>Middle cost</td>\n",
       "    </tr>\n",
       "    <tr>\n",
       "      <th>1</th>\n",
       "      <td>18</td>\n",
       "      <td>male</td>\n",
       "      <td>33.770</td>\n",
       "      <td>1</td>\n",
       "      <td>no</td>\n",
       "      <td>southeast</td>\n",
       "      <td>1725.55230</td>\n",
       "      <td>Young</td>\n",
       "      <td>Low cost</td>\n",
       "    </tr>\n",
       "    <tr>\n",
       "      <th>2</th>\n",
       "      <td>28</td>\n",
       "      <td>male</td>\n",
       "      <td>33.000</td>\n",
       "      <td>3</td>\n",
       "      <td>no</td>\n",
       "      <td>southeast</td>\n",
       "      <td>4449.46200</td>\n",
       "      <td>Young</td>\n",
       "      <td>Low cost</td>\n",
       "    </tr>\n",
       "    <tr>\n",
       "      <th>3</th>\n",
       "      <td>33</td>\n",
       "      <td>male</td>\n",
       "      <td>22.705</td>\n",
       "      <td>0</td>\n",
       "      <td>no</td>\n",
       "      <td>northwest</td>\n",
       "      <td>21984.47061</td>\n",
       "      <td>Adult</td>\n",
       "      <td>Middle cost</td>\n",
       "    </tr>\n",
       "    <tr>\n",
       "      <th>4</th>\n",
       "      <td>32</td>\n",
       "      <td>male</td>\n",
       "      <td>28.880</td>\n",
       "      <td>0</td>\n",
       "      <td>no</td>\n",
       "      <td>northwest</td>\n",
       "      <td>3866.85520</td>\n",
       "      <td>Adult</td>\n",
       "      <td>Low cost</td>\n",
       "    </tr>\n",
       "  </tbody>\n",
       "</table>\n",
       "</div>"
      ],
      "text/plain": [
       "   Age     Sex  Body_mass_index  Children Smoker     Region      Charges  \\\n",
       "0   19  female           27.900         0    yes  southwest  16884.92400   \n",
       "1   18    male           33.770         1     no  southeast   1725.55230   \n",
       "2   28    male           33.000         3     no  southeast   4449.46200   \n",
       "3   33    male           22.705         0     no  northwest  21984.47061   \n",
       "4   32    male           28.880         0     no  northwest   3866.85520   \n",
       "\n",
       "  Age_range Cost_category  \n",
       "0     Young   Middle cost  \n",
       "1     Young      Low cost  \n",
       "2     Young      Low cost  \n",
       "3     Adult   Middle cost  \n",
       "4     Adult      Low cost  "
      ]
     },
     "execution_count": 31,
     "metadata": {},
     "output_type": "execute_result"
    }
   ],
   "source": [
    "# Check the output of df_medical_costs\n",
    "\n",
    "df_medical_costs.head()"
   ]
  },
  {
   "cell_type": "code",
   "execution_count": 32,
   "id": "9023460a",
   "metadata": {},
   "outputs": [
    {
     "data": {
      "text/plain": [
       "(1337, 9)"
      ]
     },
     "execution_count": 32,
     "metadata": {},
     "output_type": "execute_result"
    }
   ],
   "source": [
    "# Check the output of df_medical_costs\n",
    "\n",
    "df_medical_costs.shape"
   ]
  },
  {
   "cell_type": "code",
   "execution_count": 33,
   "id": "6765cc4b",
   "metadata": {},
   "outputs": [
    {
     "name": "stdout",
     "output_type": "stream",
     "text": [
      "<class 'pandas.core.frame.DataFrame'>\n",
      "Int64Index: 1337 entries, 0 to 1337\n",
      "Data columns (total 9 columns):\n",
      " #   Column           Non-Null Count  Dtype  \n",
      "---  ------           --------------  -----  \n",
      " 0   Age              1337 non-null   int64  \n",
      " 1   Sex              1337 non-null   object \n",
      " 2   Body_mass_index  1337 non-null   float64\n",
      " 3   Children         1337 non-null   int64  \n",
      " 4   Smoker           1337 non-null   object \n",
      " 5   Region           1337 non-null   object \n",
      " 6   Charges          1337 non-null   float64\n",
      " 7   Age_range        1337 non-null   object \n",
      " 8   Cost_category    1337 non-null   object \n",
      "dtypes: float64(2), int64(2), object(5)\n",
      "memory usage: 104.5+ KB\n"
     ]
    }
   ],
   "source": [
    "# Check the output of df_medical_costs\n",
    "\n",
    "df_medical_costs.info()"
   ]
  },
  {
   "cell_type": "markdown",
   "id": "7d3d444b",
   "metadata": {},
   "source": [
    "---"
   ]
  },
  {
   "cell_type": "markdown",
   "id": "33520b23",
   "metadata": {},
   "source": [
    "## 2. Data Wrangling & Cleaning"
   ]
  },
  {
   "cell_type": "markdown",
   "id": "d77ad8e3",
   "metadata": {},
   "source": [
    "### I) Data Consistency"
   ]
  },
  {
   "cell_type": "code",
   "execution_count": 34,
   "id": "2dc6bfa7",
   "metadata": {},
   "outputs": [
    {
     "data": {
      "text/plain": [
       "Age                0\n",
       "Sex                0\n",
       "Body_mass_index    0\n",
       "Children           0\n",
       "Smoker             0\n",
       "Region             0\n",
       "Charges            0\n",
       "Age_range          0\n",
       "Cost_category      0\n",
       "dtype: int64"
      ]
     },
     "execution_count": 34,
     "metadata": {},
     "output_type": "execute_result"
    }
   ],
   "source": [
    "# Check for missing values\n",
    "\n",
    "df_medical_costs.isnull().sum()"
   ]
  },
  {
   "cell_type": "markdown",
   "id": "a10caf9b",
   "metadata": {},
   "source": [
    "### II) Duplicates"
   ]
  },
  {
   "cell_type": "code",
   "execution_count": 35,
   "id": "1f1c952c",
   "metadata": {},
   "outputs": [],
   "source": [
    "dups = df_medical_costs.duplicated()"
   ]
  },
  {
   "cell_type": "code",
   "execution_count": 36,
   "id": "8a9663cb",
   "metadata": {},
   "outputs": [
    {
     "data": {
      "text/plain": [
       "(1337,)"
      ]
     },
     "execution_count": 36,
     "metadata": {},
     "output_type": "execute_result"
    }
   ],
   "source": [
    "dups.shape # no dups"
   ]
  },
  {
   "cell_type": "markdown",
   "id": "896fe0e1",
   "metadata": {},
   "source": [
    "### III) Extreme Values"
   ]
  },
  {
   "cell_type": "code",
   "execution_count": 37,
   "id": "596ff338",
   "metadata": {},
   "outputs": [
    {
     "data": {
      "text/plain": [
       "<AxesSubplot:xlabel='Age', ylabel='Count'>"
      ]
     },
     "execution_count": 37,
     "metadata": {},
     "output_type": "execute_result"
    },
    {
     "data": {
      "image/png": "[encoded data removed]",
      "text/plain": [
       "<Figure size 432x288 with 1 Axes>"
      ]
     },
     "metadata": {
      "needs_background": "light"
     },
     "output_type": "display_data"
    }
   ],
   "source": [
    "sns.histplot(df_medical_costs['Age'], bins=20, kde = True) # shows extreme values for 'Age'"
   ]
  },
  {
   "cell_type": "code",
   "execution_count": 38,
   "id": "6d2b9b5f",
   "metadata": {},
   "outputs": [
    {
     "data": {
      "text/plain": [
       "<AxesSubplot:xlabel='Charges', ylabel='Count'>"
      ]
     },
     "execution_count": 38,
     "metadata": {},
     "output_type": "execute_result"
    },
    {
     "data": {
      "image/png": "[encoded data removed]",
      "text/plain": [
       "<Figure size 432x288 with 1 Axes>"
      ]
     },
     "metadata": {
      "needs_background": "light"
     },
     "output_type": "display_data"
    }
   ],
   "source": [
    "sns.histplot(df_medical_costs['Charges'], bins=20, kde = True) # shows extreme values for 'Charges'"
   ]
  },
  {
   "cell_type": "code",
   "execution_count": 39,
   "id": "d75b03d4",
   "metadata": {},
   "outputs": [
    {
     "data": {
      "text/plain": [
       "<AxesSubplot:xlabel='Body_mass_index', ylabel='Count'>"
      ]
     },
     "execution_count": 39,
     "metadata": {},
     "output_type": "execute_result"
    },
    {
     "data": {
      "image/png": "[encoded data removed]",
      "text/plain": [
       "<Figure size 432x288 with 1 Axes>"
      ]
     },
     "metadata": {
      "needs_background": "light"
     },
     "output_type": "display_data"
    }
   ],
   "source": [
    "sns.histplot(df_medical_costs['Body_mass_index'], bins=20, kde = True) # shows extreme values for 'Body mass index'"
   ]
  },
  {
   "cell_type": "code",
   "execution_count": 40,
   "id": "e7b61453",
   "metadata": {},
   "outputs": [
    {
     "data": {
      "text/plain": [
       "<AxesSubplot:xlabel='Children', ylabel='Count'>"
      ]
     },
     "execution_count": 40,
     "metadata": {},
     "output_type": "execute_result"
    },
    {
     "data": {
      "image/png": "[encoded data removed]",
      "text/plain": [
       "<Figure size 432x288 with 1 Axes>"
      ]
     },
     "metadata": {
      "needs_background": "light"
     },
     "output_type": "display_data"
    }
   ],
   "source": [
    "sns.histplot(df_medical_costs['Children'], bins=20, kde = True) # shows extreme values for 'Children'"
   ]
  },
  {
   "cell_type": "markdown",
   "id": "88aed304",
   "metadata": {},
   "source": [
    "# 3. Plotting a Choropleth"
   ]
  },
  {
   "cell_type": "code",
   "execution_count": 41,
   "id": "51496942",
   "metadata": {},
   "outputs": [
    {
     "data": {
      "text/html": [
       "<div>\n",
       "<style scoped>\n",
       "    .dataframe tbody tr th:only-of-type {\n",
       "        vertical-align: middle;\n",
       "    }\n",
       "\n",
       "    .dataframe tbody tr th {\n",
       "        vertical-align: top;\n",
       "    }\n",
       "\n",
       "    .dataframe thead th {\n",
       "        text-align: right;\n",
       "    }\n",
       "</style>\n",
       "<table border=\"1\" class=\"dataframe\">\n",
       "  <thead>\n",
       "    <tr style=\"text-align: right;\">\n",
       "      <th></th>\n",
       "      <th>Region</th>\n",
       "      <th>Age</th>\n",
       "      <th>Body_mass_index</th>\n",
       "      <th>Children</th>\n",
       "      <th>Charges</th>\n",
       "    </tr>\n",
       "  </thead>\n",
       "  <tbody>\n",
       "    <tr>\n",
       "      <th>0</th>\n",
       "      <td>northeast</td>\n",
       "      <td>39.268519</td>\n",
       "      <td>29.173503</td>\n",
       "      <td>1.046296</td>\n",
       "      <td>13406.384516</td>\n",
       "    </tr>\n",
       "    <tr>\n",
       "      <th>1</th>\n",
       "      <td>northwest</td>\n",
       "      <td>39.259259</td>\n",
       "      <td>29.195494</td>\n",
       "      <td>1.151235</td>\n",
       "      <td>12450.840844</td>\n",
       "    </tr>\n",
       "    <tr>\n",
       "      <th>2</th>\n",
       "      <td>southeast</td>\n",
       "      <td>38.939560</td>\n",
       "      <td>33.355989</td>\n",
       "      <td>1.049451</td>\n",
       "      <td>14735.411438</td>\n",
       "    </tr>\n",
       "    <tr>\n",
       "      <th>3</th>\n",
       "      <td>southwest</td>\n",
       "      <td>39.455385</td>\n",
       "      <td>30.596615</td>\n",
       "      <td>1.141538</td>\n",
       "      <td>12346.937377</td>\n",
       "    </tr>\n",
       "  </tbody>\n",
       "</table>\n",
       "</div>"
      ],
      "text/plain": [
       "      Region        Age  Body_mass_index  Children       Charges\n",
       "0  northeast  39.268519        29.173503  1.046296  13406.384516\n",
       "1  northwest  39.259259        29.195494  1.151235  12450.840844\n",
       "2  southeast  38.939560        33.355989  1.049451  14735.411438\n",
       "3  southwest  39.455385        30.596615  1.141538  12346.937377"
      ]
     },
     "execution_count": 41,
     "metadata": {},
     "output_type": "execute_result"
    }
   ],
   "source": [
    "# Create a subset data\n",
    "\n",
    "#data_to_plot = df_medical_costs.groupby('Region').count().reset_index()\n",
    "#data_to_plot = df_medical_costs.groupby('Region').agg(mean_charges =('Charges', 'mean'), mean_age=('Age', 'mean'))\n",
    "data_to_plot = df_medical_costs.groupby(['Region']).mean().reset_index()                                                      \n",
    "\n",
    "data_to_plot"
   ]
  },
  {
   "cell_type": "code",
   "execution_count": 42,
   "id": "3ba5910d",
   "metadata": {},
   "outputs": [
    {
     "data": {
      "text/plain": [
       "Region             0\n",
       "Age                0\n",
       "Body_mass_index    0\n",
       "Children           0\n",
       "Charges            0\n",
       "dtype: int64"
      ]
     },
     "execution_count": 42,
     "metadata": {},
     "output_type": "execute_result"
    }
   ],
   "source": [
    "# Checking subset for nulls\n",
    "\n",
    "data_to_plot.isnull().sum()"
   ]
  },
  {
   "cell_type": "code",
   "execution_count": 43,
   "id": "624dea50",
   "metadata": {
    "scrolled": false
   },
   "outputs": [
    {
     "data": {
      "text/html": [
       "<div style=\"width:100%;\"><div style=\"position:relative;width:100%;height:0;padding-bottom:60%;\"><span style=\"color:#565656\">Make this Notebook Trusted to load map: File -> Trust Notebook</span><iframe srcdoc=\"&lt;!DOCTYPE html&gt;\n",
       "&lt;html&gt;\n",
       "&lt;head&gt;\n",
       "    \n",
       "    &lt;meta http-equiv=&quot;content-type&quot; content=&quot;text/html; charset=UTF-8&quot; /&gt;\n",
       "    \n",
       "        &lt;script&gt;\n",
       "            L_NO_TOUCH = false;\n",
       "            L_DISABLE_3D = false;\n",
       "        &lt;/script&gt;\n",
       "    \n",
       "    &lt;style&gt;html, body {width: 100%;height: 100%;margin: 0;padding: 0;}&lt;/style&gt;\n",
       "    &lt;style&gt;#map {position:absolute;top:0;bottom:0;right:0;left:0;}&lt;/style&gt;\n",
       "    &lt;script src=&quot;https://cdn.jsdelivr.net/npm/leaflet@1.9.3/dist/leaflet.js&quot;&gt;&lt;/script&gt;\n",
       "    &lt;script src=&quot;https://code.jquery.com/jquery-1.12.4.min.js&quot;&gt;&lt;/script&gt;\n",
       "    &lt;script src=&quot;https://cdn.jsdelivr.net/npm/bootstrap@5.2.2/dist/js/bootstrap.bundle.min.js&quot;&gt;&lt;/script&gt;\n",
       "    &lt;script src=&quot;https://cdnjs.cloudflare.com/ajax/libs/Leaflet.awesome-markers/2.0.2/leaflet.awesome-markers.js&quot;&gt;&lt;/script&gt;\n",
       "    &lt;link rel=&quot;stylesheet&quot; href=&quot;https://cdn.jsdelivr.net/npm/leaflet@1.9.3/dist/leaflet.css&quot;/&gt;\n",
       "    &lt;link rel=&quot;stylesheet&quot; href=&quot;https://cdn.jsdelivr.net/npm/bootstrap@5.2.2/dist/css/bootstrap.min.css&quot;/&gt;\n",
       "    &lt;link rel=&quot;stylesheet&quot; href=&quot;https://netdna.bootstrapcdn.com/bootstrap/3.0.0/css/bootstrap.min.css&quot;/&gt;\n",
       "    &lt;link rel=&quot;stylesheet&quot; href=&quot;https://cdn.jsdelivr.net/npm/@fortawesome/fontawesome-free@6.2.0/css/all.min.css&quot;/&gt;\n",
       "    &lt;link rel=&quot;stylesheet&quot; href=&quot;https://cdnjs.cloudflare.com/ajax/libs/Leaflet.awesome-markers/2.0.2/leaflet.awesome-markers.css&quot;/&gt;\n",
       "    &lt;link rel=&quot;stylesheet&quot; href=&quot;https://cdn.jsdelivr.net/gh/python-visualization/folium/folium/templates/leaflet.awesome.rotate.min.css&quot;/&gt;\n",
       "    \n",
       "            &lt;meta name=&quot;viewport&quot; content=&quot;width=device-width,\n",
       "                initial-scale=1.0, maximum-scale=1.0, user-scalable=no&quot; /&gt;\n",
       "            &lt;style&gt;\n",
       "                #map_7421aee7ece3186dce09c6a605313334 {\n",
       "                    position: relative;\n",
       "                    width: 100.0%;\n",
       "                    height: 100.0%;\n",
       "                    left: 0.0%;\n",
       "                    top: 0.0%;\n",
       "                }\n",
       "                .leaflet-container { font-size: 1rem; }\n",
       "            &lt;/style&gt;\n",
       "        \n",
       "    &lt;script src=&quot;https://cdnjs.cloudflare.com/ajax/libs/d3/3.5.5/d3.min.js&quot;&gt;&lt;/script&gt;\n",
       "&lt;/head&gt;\n",
       "&lt;body&gt;\n",
       "    \n",
       "    \n",
       "            &lt;div class=&quot;folium-map&quot; id=&quot;map_7421aee7ece3186dce09c6a605313334&quot; &gt;&lt;/div&gt;\n",
       "        \n",
       "&lt;/body&gt;\n",
       "&lt;script&gt;\n",
       "    \n",
       "    \n",
       "            var map_7421aee7ece3186dce09c6a605313334 = L.map(\n",
       "                &quot;map_7421aee7ece3186dce09c6a605313334&quot;,\n",
       "                {\n",
       "                    center: [100.0, 1.0],\n",
       "                    crs: L.CRS.EPSG3857,\n",
       "                    zoom: 1,\n",
       "                    zoomControl: true,\n",
       "                    preferCanvas: false,\n",
       "                    bins: 1,\n",
       "                }\n",
       "            );\n",
       "\n",
       "            \n",
       "\n",
       "        \n",
       "    \n",
       "            var tile_layer_24117aa6fedf284c36008f10fa82068d = L.tileLayer(\n",
       "                &quot;https://{s}.tile.openstreetmap.org/{z}/{x}/{y}.png&quot;,\n",
       "                {&quot;attribution&quot;: &quot;Data by \\u0026copy; \\u003ca target=\\&quot;_blank\\&quot; href=\\&quot;http://openstreetmap.org\\&quot;\\u003eOpenStreetMap\\u003c/a\\u003e, under \\u003ca target=\\&quot;_blank\\&quot; href=\\&quot;http://www.openstreetmap.org/copyright\\&quot;\\u003eODbL\\u003c/a\\u003e.&quot;, &quot;detectRetina&quot;: false, &quot;maxNativeZoom&quot;: 18, &quot;maxZoom&quot;: 18, &quot;minZoom&quot;: 0, &quot;noWrap&quot;: false, &quot;opacity&quot;: 1, &quot;subdomains&quot;: &quot;abc&quot;, &quot;tms&quot;: false}\n",
       "            ).addTo(map_7421aee7ece3186dce09c6a605313334);\n",
       "        \n",
       "    \n",
       "            var choropleth_9e5467e159868bdd58edd2ef452b1fe9 = L.featureGroup(\n",
       "                {}\n",
       "            ).addTo(map_7421aee7ece3186dce09c6a605313334);\n",
       "        \n",
       "    \n",
       "        function geo_json_46f85a6030c2bb394bbf4bc467f5cfde_styler(feature) {\n",
       "            switch(feature.properties.name) {\n",
       "                case &quot;northwest&quot;: \n",
       "                    return {&quot;color&quot;: &quot;black&quot;, &quot;fillColor&quot;: &quot;#fecc5c&quot;, &quot;fillOpacity&quot;: 0.6, &quot;opacity&quot;: 0.5, &quot;weight&quot;: 1};\n",
       "                case &quot;northeast&quot;: \n",
       "                    return {&quot;color&quot;: &quot;black&quot;, &quot;fillColor&quot;: &quot;#f03b20&quot;, &quot;fillOpacity&quot;: 0.6, &quot;opacity&quot;: 0.5, &quot;weight&quot;: 1};\n",
       "                case &quot;southeast&quot;: \n",
       "                    return {&quot;color&quot;: &quot;black&quot;, &quot;fillColor&quot;: &quot;#bd0026&quot;, &quot;fillOpacity&quot;: 0.6, &quot;opacity&quot;: 0.5, &quot;weight&quot;: 1};\n",
       "                default:\n",
       "                    return {&quot;color&quot;: &quot;black&quot;, &quot;fillColor&quot;: &quot;#ffffb2&quot;, &quot;fillOpacity&quot;: 0.6, &quot;opacity&quot;: 0.5, &quot;weight&quot;: 1};\n",
       "            }\n",
       "        }\n",
       "\n",
       "        function geo_json_46f85a6030c2bb394bbf4bc467f5cfde_onEachFeature(feature, layer) {\n",
       "            layer.on({\n",
       "            });\n",
       "        };\n",
       "        var geo_json_46f85a6030c2bb394bbf4bc467f5cfde = L.geoJson(null, {\n",
       "                onEachFeature: geo_json_46f85a6030c2bb394bbf4bc467f5cfde_onEachFeature,\n",
       "            \n",
       "                style: geo_json_46f85a6030c2bb394bbf4bc467f5cfde_styler,\n",
       "        });\n",
       "\n",
       "        function geo_json_46f85a6030c2bb394bbf4bc467f5cfde_add (data) {\n",
       "            geo_json_46f85a6030c2bb394bbf4bc467f5cfde\n",
       "                .addData(data)\n",
       "                .addTo(choropleth_9e5467e159868bdd58edd2ef452b1fe9);\n",
       "        }\n",
       "            geo_json_46f85a6030c2bb394bbf4bc467f5cfde_add({&quot;features&quot;: [{&quot;geometry&quot;: {&quot;coordinates&quot;: [[[-104.32617187499999, 49.03786794532644], [-103.974609375, 41.04621681452063], [-101.6015625, 41.04621681452063], [-102.48046875, 37.020098201368114], [-94.5703125, 37.09023980307208], [-93.603515625, 36.4566360115962], [-89.296875, 37.23032838760387], [-87.71484375, 38.272688535980976], [-85.4296875, 38.54816542304656], [-84.638671875, 39.16414104768742], [-83.232421875, 38.75408327579141], [-82.177734375, 38.685509760012], [-80.85937499999999, 39.842286020743394], [-80.595703125, 41.57436130598913], [-83.583984375, 41.96765920367816], [-82.79296874999999, 42.4234565179383], [-82.705078125, 43.389081939117496], [-83.232421875, 43.70759350405294], [-84.111328125, 43.96119063892024], [-83.49609375, 44.653024159812], [-84.55078125, 45.460130637921004], [-85.4296875, 45.1510532655634], [-86.396484375, 44.213709909702054], [-86.220703125, 43.389081939117496], [-86.220703125, 42.16340342422401], [-87.1875, 41.64007838467894], [-87.62695312499999, 42.35854391749705], [-87.890625, 43.51668853502906], [-87.5390625, 44.5278427984555], [-87.62695312499999, 45.089035564831036], [-88.330078125, 45.89000815866184], [-91.0546875, 46.86019101567027], [-92.63671875, 46.558860303117164], [-90.17578124999999, 48.16608541901253], [-91.669921875, 48.16608541901253], [-94.658203125, 48.69096039092549], [-95.537109375, 49.15296965617042], [-104.32617187499999, 49.03786794532644]]], &quot;type&quot;: &quot;Polygon&quot;}, &quot;properties&quot;: {&quot;name&quot;: &quot;northwest&quot;}, &quot;type&quot;: &quot;Feature&quot;}, {&quot;geometry&quot;: {&quot;coordinates&quot;: [[[-80.57373046875, 41.590796851056005], [-80.85937499999999, 39.791654835253425], [-75.8056640625, 39.690280594818034], [-75.4541015625, 39.67337039176558], [-74.794921875, 39.06184913429154], [-74.06982421875, 40.16208338164617], [-74.267578125, 40.44694705960048], [-74.24560546875, 40.613952441166596], [-72.1142578125, 40.94671366508002], [-73.47656249999999, 41.09591205639546], [-72.1142578125, 41.409775832009565], [-71.56494140625, 41.393294288784865], [-71.38916015625, 41.705728515237524], [-71.12548828125, 41.5579215778042], [-70.81787109374999, 41.68932225997044], [-70.59814453125, 41.75492216766298], [-70.48828125, 41.52502957323801], [-70.0048828125, 41.60722821271717], [-70.7958984375, 42.13082130188811], [-71.015625, 42.50450285299051], [-70.7958984375, 42.97250158602597], [-70.15869140625, 43.77109381775651], [-69.345703125, 43.91372326852401], [-68.97216796875, 44.213709909702054], [-68.79638671875, 44.68427737181225], [-68.48876953125, 44.512176171071054], [-68.31298828125, 44.6061127451739], [-68.115234375, 44.41808794374846], [-66.81884765625, 44.731125592643274], [-67.30224609375, 45.22848059584359], [-67.78564453125, 46.057985244793024], [-67.78564453125, 46.70973594407157], [-68.13720703125, 47.338822694822], [-68.97216796875, 47.14489748555398], [-69.2578125, 47.42808726171425], [-69.9609375, 46.81509864599243], [-70.13671875, 46.255846818480315], [-70.400390625, 45.706179285330855], [-70.751953125, 45.3521452458518], [-71.1474609375, 45.182036837015886], [-71.4990234375, 45.10454630976873], [-71.4990234375, 44.99588261816546], [-74.794921875, 45.042478050891546], [-75.87158203125, 44.41808794374846], [-76.13525390624999, 44.08758502824516], [-76.00341796875, 43.67581809328341], [-76.201171875, 43.54854811091286], [-76.88232421875, 43.34116005412307], [-77.1240234375, 43.18114705939968], [-77.54150390625, 43.27720532212024], [-78.79394531249999, 43.29320031385282], [-79.07958984375, 43.14909399920127], [-78.79394531249999, 42.8115217450979], [-78.94775390625, 42.56926437219384], [-79.73876953125, 42.114523952464246], [-80.33203125, 41.82045509614034], [-80.57373046875, 41.590796851056005]]], &quot;type&quot;: &quot;Polygon&quot;}, &quot;properties&quot;: {&quot;name&quot;: &quot;northeast&quot;}, &quot;type&quot;: &quot;Feature&quot;}, {&quot;geometry&quot;: {&quot;coordinates&quot;: [[[-102.48046875, 37.125286284966805], [-103.0078125, 37.125286284966805], [-102.9638671875, 32.0639555946604], [-106.6552734375, 31.914867503276223], [-105.16113281249999, 30.751277776257812], [-104.4140625, 29.611670115197377], [-103.22753906249999, 29.036960648558267], [-102.3046875, 30.29701788337205], [-101.337890625, 29.6880527498568], [-99.6240234375, 27.488781168937997], [-98.96484375, 26.352497858154024], [-98.0419921875, 26.194876675795218], [-97.20703125, 25.958044673317843], [-97.5146484375, 27.0982539061379], [-97.470703125, 27.994401411046148], [-96.8994140625, 28.497660832963472], [-95.6689453125, 28.92163128242129], [-95.00976562499999, 29.19053283229458], [-95.00976562499999, 29.84064389983441], [-94.3505859375, 29.611670115197377], [-93.55957031249999, 29.80251790576445], [-93.3837890625, 29.878755346037977], [-92.28515625, 29.57345707301757], [-91.93359375, 29.954934549656144], [-91.40625, 29.6880527498568], [-91.40625, 30.107117887092357], [-91.1865234375, 29.6880527498568], [-90.791015625, 29.305561325527698], [-89.9560546875, 29.49698759653577], [-89.8681640625, 30.06909396443887], [-89.5166015625, 30.29701788337205], [-87.978515625, 30.600093873550072], [-86.7919921875, 30.44867367928756], [-86.220703125, 30.44867367928756], [-85.7373046875, 30.107117887092357], [-85.0341796875, 29.878755346037977], [-83.9794921875, 30.14512718337613], [-83.232421875, 29.305561325527698], [-82.529296875, 28.729130483430154], [-82.5732421875, 27.877928333679495], [-82.44140625, 27.293689224852407], [-81.82617187499999, 26.509904531413927], [-81.0791015625, 25.878994400196202], [-80.85937499999999, 25.284437746983055], [-80.15625, 25.522614647623293], [-79.9365234375, 26.54922257769204], [-80.15625, 27.254629577800063], [-80.5078125, 28.14950321154457], [-81.1669921875, 29.458731185355344], [-81.4306640625, 30.183121842195515], [-81.650390625, 30.90222470517144], [-81.474609375, 31.615965936476076], [-80.9912109375, 32.0639555946604], [-79.98046875, 32.84267363195431], [-79.40917968749999, 33.358061612778876], [-77.6953125, 34.27083595165], [-76.81640625, 34.813803317113155], [-76.81640625, 35.496456056584165], [-75.76171875, 35.67514743608467], [-76.1572265625, 35.96022296929667], [-76.640625, 36.10237644873644], [-76.201171875, 36.35052700542763], [-76.11328125, 37.020098201368114], [-76.6845703125, 37.37015718405753], [-76.46484375, 37.71859032558816], [-75.89355468749999, 37.405073750176925], [-75.234375, 38.30718056188316], [-75.8056640625, 39.67337039176558], [-80.85937499999999, 39.774769485295465], [-82.08984375, 38.61687046392973], [-84.4189453125, 39.06184913429154], [-85.60546875, 38.54816542304656], [-87.890625, 38.30718056188316], [-89.1650390625, 37.19533058280065], [-93.603515625, 36.421282443649496], [-94.7021484375, 37.020098201368114], [-102.48046875, 37.125286284966805]]], &quot;type&quot;: &quot;Polygon&quot;}, &quot;properties&quot;: {&quot;name&quot;: &quot;southeast&quot;}, &quot;type&quot;: &quot;Feature&quot;}, {&quot;geometry&quot;: {&quot;coordinates&quot;: [[[-104.3701171875, 49.03786794532644], [-123.134765625, 49.03786794532644], [-122.3876953125, 48.37084770238366], [-122.08007812499999, 47.78363463526376], [-122.29980468749999, 47.487513008956554], [-122.51953124999999, 47.30903424774781], [-122.73925781250001, 47.12995075666307], [-123.04687499999999, 47.635783590864854], [-123.00292968749999, 48.10743118848039], [-123.8818359375, 48.16608541901253], [-124.541015625, 48.45835188280866], [-124.5849609375, 47.87214396888731], [-124.1015625, 47.07012182383309], [-123.96972656249999, 46.10370875598026], [-124.541015625, 42.97250158602597], [-124.1455078125, 41.77131167976407], [-124.365234375, 40.94671366508002], [-124.365234375, 40.3130432088809], [-123.662109375, 38.993572058209466], [-122.51953124999999, 37.85750715625203], [-122.03613281249999, 37.125286284966805], [-121.9482421875, 36.56260003738545], [-120.5419921875, 34.415973384481866], [-118.7841796875, 34.08906131584994], [-117.72949218749999, 33.7243396617476], [-117.158203125, 32.62087018318113], [-114.78515624999999, 32.76880048488168], [-111.005859375, 31.466153715024294], [-108.10546875, 31.466153715024294], [-107.9736328125, 31.80289258670676], [-106.5234375, 31.765537409484374], [-103.0078125, 32.10118973232094], [-103.1396484375, 37.125286284966805], [-102.568359375, 37.19533058280065], [-101.7333984375, 40.97989806962013], [-104.0185546875, 41.07935114946899], [-104.3701171875, 49.03786794532644]]], &quot;type&quot;: &quot;Polygon&quot;}, &quot;properties&quot;: {&quot;name&quot;: &quot;southwest&quot;}, &quot;type&quot;: &quot;Feature&quot;}], &quot;type&quot;: &quot;FeatureCollection&quot;});\n",
       "\n",
       "        \n",
       "    \n",
       "    var color_map_a108a00e3bd2fc19cb453d5c091d3fdb = {};\n",
       "\n",
       "    \n",
       "    color_map_a108a00e3bd2fc19cb453d5c091d3fdb.color = d3.scale.threshold()\n",
       "              .domain([12346.937377292308, 12351.72389845527, 12356.510419618231, 12361.29694078119, 12366.083461944152, 12370.869983107114, 12375.656504270075, 12380.443025433036, 12385.229546595996, 12390.016067758957, 12394.802588921919, 12399.58911008488, 12404.375631247842, 12409.162152410801, 12413.948673573763, 12418.735194736724, 12423.521715899686, 12428.308237062647, 12433.094758225609, 12437.881279388568, 12442.66780055153, 12447.454321714491, 12452.240842877452, 12457.027364040414, 12461.813885203374, 12466.600406366335, 12471.386927529296, 12476.173448692258, 12480.95996985522, 12485.746491018179, 12490.53301218114, 12495.319533344102, 12500.106054507063, 12504.892575670025, 12509.679096832984, 12514.465617995946, 12519.252139158907, 12524.038660321869, 12528.82518148483, 12533.61170264779, 12538.398223810751, 12543.184744973712, 12547.971266136674, 12552.757787299635, 12557.544308462597, 12562.330829625556, 12567.117350788518, 12571.90387195148, 12576.69039311444, 12581.476914277402, 12586.263435440362, 12591.049956603323, 12595.836477766285, 12600.622998929246, 12605.409520092207, 12610.196041255167, 12614.982562418129, 12619.76908358109, 12624.555604744051, 12629.342125907013, 12634.128647069972, 12638.915168232934, 12643.701689395895, 12648.488210558857, 12653.274731721818, 12658.061252884778, 12662.84777404774, 12667.6342952107, 12672.420816373662, 12677.207337536624, 12681.993858699585, 12686.780379862545, 12691.566901025506, 12696.353422188467, 12701.139943351429, 12705.92646451439, 12710.71298567735, 12715.499506840311, 12720.286028003273, 12725.072549166234, 12729.859070329196, 12734.645591492155, 12739.432112655117, 12744.218633818078, 12749.00515498104, 12753.791676144001, 12758.57819730696, 12763.364718469922, 12768.151239632884, 12772.937760795845, 12777.724281958806, 12782.510803121768, 12787.297324284727, 12792.083845447689, 12796.87036661065, 12801.656887773612, 12806.443408936573, 12811.229930099533, 12816.016451262494, 12820.802972425456, 12825.589493588417, 12830.376014751379, 12835.162535914338, 12839.9490570773, 12844.735578240261, 12849.522099403222, 12854.308620566184, 12859.095141729144, 12863.881662892105, 12868.668184055066, 12873.454705218028, 12878.24122638099, 12883.027747543949, 12887.81426870691, 12892.600789869872, 12897.387311032833, 12902.173832195795, 12906.960353358754, 12911.746874521716, 12916.533395684677, 12921.319916847639, 12926.1064380106, 12930.892959173561, 12935.679480336521, 12940.466001499482, 12945.252522662444, 12950.039043825405, 12954.825564988367, 12959.612086151326, 12964.398607314288, 12969.18512847725, 12973.97164964021, 12978.758170803172, 12983.544691966132, 12988.331213129093, 12993.117734292055, 12997.904255455016, 13002.690776617977, 13007.477297780937, 13012.263818943899, 13017.05034010686, 13021.836861269821, 13026.623382432783, 13031.409903595744, 13036.196424758704, 13040.982945921665, 13045.769467084627, 13050.555988247588, 13055.34250941055, 13060.12903057351, 13064.91555173647, 13069.702072899432, 13074.488594062394, 13079.275115225355, 13084.061636388315, 13088.848157551276, 13093.634678714237, 13098.421199877199, 13103.20772104016, 13107.99424220312, 13112.780763366081, 13117.567284529043, 13122.353805692004, 13127.140326854966, 13131.926848017927, 13136.713369180887, 13141.499890343848, 13146.28641150681, 13151.072932669771, 13155.85945383273, 13160.645974995692, 13165.432496158654, 13170.219017321615, 13175.005538484576, 13179.792059647538, 13184.578580810497, 13189.365101973459, 13194.15162313642, 13198.938144299382, 13203.724665462343, 13208.511186625303, 13213.297707788264, 13218.084228951226, 13222.870750114187, 13227.657271277149, 13232.443792440108, 13237.23031360307, 13242.016834766031, 13246.803355928992, 13251.589877091954, 13256.376398254914, 13261.162919417875, 13265.949440580836, 13270.735961743798, 13275.52248290676, 13280.30900406972, 13285.09552523268, 13289.882046395642, 13294.668567558603, 13299.455088721565, 13304.241609884524, 13309.028131047486, 13313.814652210447, 13318.601173373409, 13323.38769453637, 13328.174215699331, 13332.960736862291, 13337.747258025252, 13342.533779188214, 13347.320300351175, 13352.106821514137, 13356.893342677096, 13361.679863840058, 13366.46638500302, 13371.25290616598, 13376.039427328942, 13380.825948491904, 13385.612469654863, 13390.398990817825, 13395.185511980786, 13399.972033143747, 13404.758554306707, 13409.545075469669, 13414.33159663263, 13419.118117795591, 13423.904638958553, 13428.691160121514, 13433.477681284474, 13438.264202447435, 13443.050723610397, 13447.837244773358, 13452.62376593632, 13457.41028709928, 13462.19680826224, 13466.983329425202, 13471.769850588164, 13476.556371751125, 13481.342892914085, 13486.129414077046, 13490.915935240007, 13495.702456402969, 13500.48897756593, 13505.27549872889, 13510.062019891851, 13514.848541054813, 13519.635062217774, 13524.421583380736, 13529.208104543697, 13533.994625706657, 13538.781146869618, 13543.56766803258, 13548.354189195541, 13553.1407103585, 13557.927231521462, 13562.713752684424, 13567.500273847385, 13572.286795010346, 13577.073316173308, 13581.859837336267, 13586.646358499229, 13591.43287966219, 13596.219400825152, 13601.005921988113, 13605.792443151073, 13610.578964314034, 13615.365485476996, 13620.152006639957, 13624.938527802919, 13629.725048965878, 13634.51157012884, 13639.298091291801, 13644.084612454762, 13648.871133617724, 13653.657654780684, 13658.444175943645, 13663.230697106606, 13668.017218269568, 13672.80373943253, 13677.59026059549, 13682.37678175845, 13687.163302921412, 13691.949824084373, 13696.736345247335, 13701.522866410296, 13706.309387573256, 13711.095908736217, 13715.882429899179, 13720.66895106214, 13725.455472225101, 13730.241993388063, 13735.028514551022, 13739.815035713984, 13744.601556876945, 13749.388078039907, 13754.174599202866, 13758.961120365828, 13763.74764152879, 13768.53416269175, 13773.320683854712, 13778.107205017674, 13782.893726180633, 13787.680247343595, 13792.466768506556, 13797.253289669517, 13802.039810832477, 13806.826331995439, 13811.6128531584, 13816.399374321361, 13821.185895484323, 13825.972416647284, 13830.758937810244, 13835.545458973205, 13840.331980136167, 13845.118501299128, 13849.90502246209, 13854.69154362505, 13859.47806478801, 13864.264585950972, 13869.051107113934, 13873.837628276895, 13878.624149439855, 13883.410670602816, 13888.197191765777, 13892.983712928739, 13897.7702340917, 13902.55675525466, 13907.343276417621, 13912.129797580583, 13916.916318743544, 13921.702839906506, 13926.489361069467, 13931.275882232427, 13936.062403395388, 13940.84892455835, 13945.635445721311, 13950.42196688427, 13955.208488047232, 13959.995009210194, 13964.781530373155, 13969.568051536116, 13974.354572699078, 13979.141093862037, 13983.927615024999, 13988.71413618796, 13993.500657350922, 13998.287178513883, 14003.073699676843, 14007.860220839804, 14012.646742002766, 14017.433263165727, 14022.219784328689, 14027.006305491648, 14031.79282665461, 14036.579347817571, 14041.365868980532, 14046.152390143494, 14050.938911306454, 14055.725432469415, 14060.511953632376, 14065.298474795338, 14070.0849959583, 14074.87151712126, 14079.65803828422, 14084.444559447182, 14089.231080610143, 14094.017601773105, 14098.804122936066, 14103.590644099026, 14108.377165261987, 14113.163686424949, 14117.95020758791, 14122.736728750871, 14127.523249913833, 14132.309771076792, 14137.096292239754, 14141.882813402715, 14146.669334565677, 14151.455855728636, 14156.242376891598, 14161.02889805456, 14165.81541921752, 14170.601940380482, 14175.388461543444, 14180.174982706403, 14184.961503869365, 14189.748025032326, 14194.534546195287, 14199.321067358247, 14204.107588521209, 14208.89410968417, 14213.680630847131, 14218.467152010093, 14223.253673173054, 14228.040194336014, 14232.826715498975, 14237.613236661937, 14242.399757824898, 14247.18627898786, 14251.97280015082, 14256.75932131378, 14261.545842476742, 14266.332363639704, 14271.118884802665, 14275.905405965626, 14280.691927128586, 14285.478448291547, 14290.264969454509, 14295.05149061747, 14299.83801178043, 14304.624532943391, 14309.411054106353, 14314.197575269314, 14318.984096432276, 14323.770617595237, 14328.557138758197, 14333.343659921158, 14338.13018108412, 14342.916702247081, 14347.70322341004, 14352.489744573002, 14357.276265735964, 14362.062786898925, 14366.849308061886, 14371.635829224848, 14376.42235038781, 14381.208871550769, 14385.99539271373, 14390.781913876692, 14395.568435039653, 14400.354956202613, 14405.141477365574, 14409.927998528536, 14414.714519691497, 14419.501040854459, 14424.28756201742, 14429.07408318038, 14433.860604343341, 14438.647125506302, 14443.433646669264, 14448.220167832224, 14453.006688995185, 14457.793210158146, 14462.579731321108, 14467.36625248407, 14472.15277364703, 14476.939294809992, 14481.725815972952, 14486.512337135913, 14491.298858298875, 14496.085379461834, 14500.871900624796, 14505.658421787757, 14510.444942950719, 14515.23146411368, 14520.017985276641, 14524.804506439601, 14529.591027602562, 14534.377548765524, 14539.164069928485, 14543.950591091447, 14548.737112254406, 14553.523633417368, 14558.31015458033, 14563.09667574329, 14567.883196906252, 14572.669718069214, 14577.456239232173, 14582.242760395135, 14587.029281558096, 14591.815802721057, 14596.602323884019, 14601.388845046979, 14606.17536620994, 14610.961887372901, 14615.748408535863, 14620.534929698824, 14625.321450861786, 14630.107972024745, 14634.894493187707, 14639.681014350668, 14644.46753551363, 14649.25405667659, 14654.04057783955, 14658.827099002512, 14663.613620165474, 14668.400141328435, 14673.186662491396, 14677.973183654356, 14682.759704817317, 14687.546225980279, 14692.332747143239, 14697.1192683062, 14701.905789469161, 14706.692310632123, 14711.478831795084, 14716.265352958046, 14721.051874121007, 14725.838395283969, 14730.624916446928, 14735.41143760989])\n",
       "              .range([&#x27;#ffffb2ff&#x27;, &#x27;#ffffb2ff&#x27;, &#x27;#ffffb2ff&#x27;, &#x27;#ffffb2ff&#x27;, &#x27;#ffffb2ff&#x27;, &#x27;#ffffb2ff&#x27;, &#x27;#ffffb2ff&#x27;, &#x27;#ffffb2ff&#x27;, &#x27;#ffffb2ff&#x27;, &#x27;#ffffb2ff&#x27;, &#x27;#ffffb2ff&#x27;, &#x27;#ffffb2ff&#x27;, &#x27;#ffffb2ff&#x27;, &#x27;#ffffb2ff&#x27;, &#x27;#fecc5cff&#x27;, &#x27;#fecc5cff&#x27;, &#x27;#fecc5cff&#x27;, &#x27;#fecc5cff&#x27;, &#x27;#fecc5cff&#x27;, &#x27;#fecc5cff&#x27;, &#x27;#fecc5cff&#x27;, &#x27;#fecc5cff&#x27;, &#x27;#fecc5cff&#x27;, &#x27;#fecc5cff&#x27;, &#x27;#fecc5cff&#x27;, &#x27;#fecc5cff&#x27;, &#x27;#fecc5cff&#x27;, &#x27;#fecc5cff&#x27;, &#x27;#fecc5cff&#x27;, &#x27;#fecc5cff&#x27;, &#x27;#fecc5cff&#x27;, &#x27;#fecc5cff&#x27;, &#x27;#fecc5cff&#x27;, &#x27;#fecc5cff&#x27;, &#x27;#fecc5cff&#x27;, &#x27;#fecc5cff&#x27;, &#x27;#fecc5cff&#x27;, &#x27;#fecc5cff&#x27;, &#x27;#fecc5cff&#x27;, &#x27;#fecc5cff&#x27;, &#x27;#fecc5cff&#x27;, &#x27;#fecc5cff&#x27;, &#x27;#fecc5cff&#x27;, &#x27;#fecc5cff&#x27;, &#x27;#fecc5cff&#x27;, &#x27;#fecc5cff&#x27;, &#x27;#fecc5cff&#x27;, &#x27;#fecc5cff&#x27;, &#x27;#fecc5cff&#x27;, &#x27;#fecc5cff&#x27;, &#x27;#fecc5cff&#x27;, &#x27;#fecc5cff&#x27;, &#x27;#fecc5cff&#x27;, &#x27;#fecc5cff&#x27;, &#x27;#fecc5cff&#x27;, &#x27;#fecc5cff&#x27;, &#x27;#fecc5cff&#x27;, &#x27;#fecc5cff&#x27;, &#x27;#fecc5cff&#x27;, &#x27;#fecc5cff&#x27;, &#x27;#fecc5cff&#x27;, &#x27;#fecc5cff&#x27;, &#x27;#fd8d3cff&#x27;, &#x27;#fd8d3cff&#x27;, &#x27;#fd8d3cff&#x27;, &#x27;#fd8d3cff&#x27;, &#x27;#fd8d3cff&#x27;, &#x27;#fd8d3cff&#x27;, &#x27;#fd8d3cff&#x27;, &#x27;#fd8d3cff&#x27;, &#x27;#fd8d3cff&#x27;, &#x27;#fd8d3cff&#x27;, &#x27;#fd8d3cff&#x27;, &#x27;#fd8d3cff&#x27;, &#x27;#fd8d3cff&#x27;, &#x27;#fd8d3cff&#x27;, &#x27;#fd8d3cff&#x27;, &#x27;#fd8d3cff&#x27;, &#x27;#fd8d3cff&#x27;, &#x27;#fd8d3cff&#x27;, &#x27;#fd8d3cff&#x27;, &#x27;#fd8d3cff&#x27;, &#x27;#fd8d3cff&#x27;, &#x27;#fd8d3cff&#x27;, &#x27;#fd8d3cff&#x27;, &#x27;#fd8d3cff&#x27;, &#x27;#fd8d3cff&#x27;, &#x27;#fd8d3cff&#x27;, &#x27;#fd8d3cff&#x27;, &#x27;#fd8d3cff&#x27;, &#x27;#fd8d3cff&#x27;, &#x27;#fd8d3cff&#x27;, &#x27;#fd8d3cff&#x27;, &#x27;#fd8d3cff&#x27;, &#x27;#fd8d3cff&#x27;, &#x27;#fd8d3cff&#x27;, &#x27;#fd8d3cff&#x27;, &#x27;#fd8d3cff&#x27;, &#x27;#fd8d3cff&#x27;, &#x27;#fd8d3cff&#x27;, &#x27;#fd8d3cff&#x27;, &#x27;#fd8d3cff&#x27;, &#x27;#fd8d3cff&#x27;, &#x27;#fd8d3cff&#x27;, &#x27;#fd8d3cff&#x27;, &#x27;#fd8d3cff&#x27;, &#x27;#fd8d3cff&#x27;, &#x27;#fd8d3cff&#x27;, &#x27;#fd8d3cff&#x27;, &#x27;#fd8d3cff&#x27;, &#x27;#fd8d3cff&#x27;, &#x27;#fd8d3cff&#x27;, &#x27;#fd8d3cff&#x27;, &#x27;#fd8d3cff&#x27;, &#x27;#fd8d3cff&#x27;, &#x27;#fd8d3cff&#x27;, &#x27;#fd8d3cff&#x27;, &#x27;#fd8d3cff&#x27;, &#x27;#fd8d3cff&#x27;, &#x27;#fd8d3cff&#x27;, &#x27;#fd8d3cff&#x27;, &#x27;#fd8d3cff&#x27;, &#x27;#fd8d3cff&#x27;, &#x27;#fd8d3cff&#x27;, &#x27;#fd8d3cff&#x27;, &#x27;#fd8d3cff&#x27;, &#x27;#fd8d3cff&#x27;, &#x27;#fd8d3cff&#x27;, &#x27;#fd8d3cff&#x27;, &#x27;#fd8d3cff&#x27;, &#x27;#fd8d3cff&#x27;, &#x27;#fd8d3cff&#x27;, &#x27;#fd8d3cff&#x27;, &#x27;#fd8d3cff&#x27;, &#x27;#fd8d3cff&#x27;, &#x27;#fd8d3cff&#x27;, &#x27;#fd8d3cff&#x27;, &#x27;#fd8d3cff&#x27;, &#x27;#fd8d3cff&#x27;, &#x27;#fd8d3cff&#x27;, &#x27;#fd8d3cff&#x27;, &#x27;#fd8d3cff&#x27;, &#x27;#fd8d3cff&#x27;, &#x27;#fd8d3cff&#x27;, &#x27;#fd8d3cff&#x27;, &#x27;#fd8d3cff&#x27;, &#x27;#fd8d3cff&#x27;, &#x27;#fd8d3cff&#x27;, &#x27;#fd8d3cff&#x27;, &#x27;#fd8d3cff&#x27;, &#x27;#fd8d3cff&#x27;, &#x27;#fd8d3cff&#x27;, &#x27;#fd8d3cff&#x27;, &#x27;#fd8d3cff&#x27;, &#x27;#fd8d3cff&#x27;, &#x27;#fd8d3cff&#x27;, &#x27;#fd8d3cff&#x27;, &#x27;#fd8d3cff&#x27;, &#x27;#fd8d3cff&#x27;, &#x27;#fd8d3cff&#x27;, &#x27;#fd8d3cff&#x27;, &#x27;#fd8d3cff&#x27;, &#x27;#fd8d3cff&#x27;, &#x27;#fd8d3cff&#x27;, &#x27;#fd8d3cff&#x27;, &#x27;#fd8d3cff&#x27;, &#x27;#fd8d3cff&#x27;, &#x27;#fd8d3cff&#x27;, &#x27;#fd8d3cff&#x27;, &#x27;#fd8d3cff&#x27;, &#x27;#fd8d3cff&#x27;, &#x27;#fd8d3cff&#x27;, &#x27;#fd8d3cff&#x27;, &#x27;#fd8d3cff&#x27;, &#x27;#fd8d3cff&#x27;, &#x27;#fd8d3cff&#x27;, &#x27;#fd8d3cff&#x27;, &#x27;#fd8d3cff&#x27;, &#x27;#fd8d3cff&#x27;, &#x27;#fd8d3cff&#x27;, &#x27;#fd8d3cff&#x27;, &#x27;#fd8d3cff&#x27;, &#x27;#f03b20ff&#x27;, &#x27;#f03b20ff&#x27;, &#x27;#f03b20ff&#x27;, &#x27;#f03b20ff&#x27;, &#x27;#f03b20ff&#x27;, &#x27;#f03b20ff&#x27;, &#x27;#f03b20ff&#x27;, &#x27;#f03b20ff&#x27;, &#x27;#f03b20ff&#x27;, &#x27;#f03b20ff&#x27;, &#x27;#f03b20ff&#x27;, &#x27;#f03b20ff&#x27;, &#x27;#f03b20ff&#x27;, &#x27;#f03b20ff&#x27;, &#x27;#f03b20ff&#x27;, &#x27;#f03b20ff&#x27;, &#x27;#f03b20ff&#x27;, &#x27;#f03b20ff&#x27;, &#x27;#f03b20ff&#x27;, &#x27;#f03b20ff&#x27;, &#x27;#f03b20ff&#x27;, &#x27;#f03b20ff&#x27;, &#x27;#f03b20ff&#x27;, &#x27;#f03b20ff&#x27;, &#x27;#f03b20ff&#x27;, &#x27;#f03b20ff&#x27;, &#x27;#f03b20ff&#x27;, &#x27;#f03b20ff&#x27;, &#x27;#f03b20ff&#x27;, &#x27;#f03b20ff&#x27;, &#x27;#f03b20ff&#x27;, &#x27;#f03b20ff&#x27;, &#x27;#f03b20ff&#x27;, &#x27;#f03b20ff&#x27;, &#x27;#f03b20ff&#x27;, &#x27;#f03b20ff&#x27;, &#x27;#f03b20ff&#x27;, &#x27;#f03b20ff&#x27;, &#x27;#f03b20ff&#x27;, &#x27;#f03b20ff&#x27;, &#x27;#f03b20ff&#x27;, &#x27;#f03b20ff&#x27;, &#x27;#f03b20ff&#x27;, &#x27;#f03b20ff&#x27;, &#x27;#f03b20ff&#x27;, &#x27;#f03b20ff&#x27;, &#x27;#f03b20ff&#x27;, &#x27;#f03b20ff&#x27;, &#x27;#f03b20ff&#x27;, &#x27;#f03b20ff&#x27;, &#x27;#f03b20ff&#x27;, &#x27;#f03b20ff&#x27;, &#x27;#f03b20ff&#x27;, &#x27;#f03b20ff&#x27;, &#x27;#f03b20ff&#x27;, &#x27;#f03b20ff&#x27;, &#x27;#f03b20ff&#x27;, &#x27;#f03b20ff&#x27;, &#x27;#f03b20ff&#x27;, &#x27;#f03b20ff&#x27;, &#x27;#f03b20ff&#x27;, &#x27;#f03b20ff&#x27;, &#x27;#f03b20ff&#x27;, &#x27;#f03b20ff&#x27;, &#x27;#f03b20ff&#x27;, &#x27;#f03b20ff&#x27;, &#x27;#f03b20ff&#x27;, &#x27;#f03b20ff&#x27;, &#x27;#f03b20ff&#x27;, &#x27;#f03b20ff&#x27;, &#x27;#f03b20ff&#x27;, &#x27;#f03b20ff&#x27;, &#x27;#f03b20ff&#x27;, &#x27;#f03b20ff&#x27;, &#x27;#f03b20ff&#x27;, &#x27;#f03b20ff&#x27;, &#x27;#f03b20ff&#x27;, &#x27;#f03b20ff&#x27;, &#x27;#f03b20ff&#x27;, &#x27;#f03b20ff&#x27;, &#x27;#f03b20ff&#x27;, &#x27;#f03b20ff&#x27;, &#x27;#f03b20ff&#x27;, &#x27;#f03b20ff&#x27;, &#x27;#f03b20ff&#x27;, &#x27;#f03b20ff&#x27;, &#x27;#f03b20ff&#x27;, &#x27;#f03b20ff&#x27;, &#x27;#f03b20ff&#x27;, &#x27;#f03b20ff&#x27;, &#x27;#f03b20ff&#x27;, &#x27;#f03b20ff&#x27;, &#x27;#f03b20ff&#x27;, &#x27;#f03b20ff&#x27;, &#x27;#f03b20ff&#x27;, &#x27;#f03b20ff&#x27;, &#x27;#f03b20ff&#x27;, &#x27;#f03b20ff&#x27;, &#x27;#f03b20ff&#x27;, &#x27;#f03b20ff&#x27;, &#x27;#f03b20ff&#x27;, &#x27;#f03b20ff&#x27;, &#x27;#f03b20ff&#x27;, &#x27;#f03b20ff&#x27;, &#x27;#f03b20ff&#x27;, &#x27;#f03b20ff&#x27;, &#x27;#f03b20ff&#x27;, &#x27;#f03b20ff&#x27;, &#x27;#f03b20ff&#x27;, &#x27;#f03b20ff&#x27;, &#x27;#f03b20ff&#x27;, &#x27;#f03b20ff&#x27;, &#x27;#f03b20ff&#x27;, &#x27;#f03b20ff&#x27;, &#x27;#f03b20ff&#x27;, &#x27;#f03b20ff&#x27;, &#x27;#f03b20ff&#x27;, &#x27;#f03b20ff&#x27;, &#x27;#f03b20ff&#x27;, &#x27;#f03b20ff&#x27;, &#x27;#f03b20ff&#x27;, &#x27;#f03b20ff&#x27;, &#x27;#f03b20ff&#x27;, &#x27;#f03b20ff&#x27;, &#x27;#f03b20ff&#x27;, &#x27;#f03b20ff&#x27;, &#x27;#f03b20ff&#x27;, &#x27;#f03b20ff&#x27;, &#x27;#f03b20ff&#x27;, &#x27;#f03b20ff&#x27;, &#x27;#f03b20ff&#x27;, &#x27;#f03b20ff&#x27;, &#x27;#f03b20ff&#x27;, &#x27;#f03b20ff&#x27;, &#x27;#f03b20ff&#x27;, &#x27;#f03b20ff&#x27;, &#x27;#f03b20ff&#x27;, &#x27;#f03b20ff&#x27;, &#x27;#f03b20ff&#x27;, &#x27;#f03b20ff&#x27;, &#x27;#f03b20ff&#x27;, &#x27;#f03b20ff&#x27;, &#x27;#f03b20ff&#x27;, &#x27;#f03b20ff&#x27;, &#x27;#f03b20ff&#x27;, &#x27;#f03b20ff&#x27;, &#x27;#f03b20ff&#x27;, &#x27;#f03b20ff&#x27;, &#x27;#f03b20ff&#x27;, &#x27;#f03b20ff&#x27;, &#x27;#f03b20ff&#x27;, &#x27;#bd0026ff&#x27;, &#x27;#bd0026ff&#x27;, &#x27;#bd0026ff&#x27;, &#x27;#bd0026ff&#x27;, &#x27;#bd0026ff&#x27;, &#x27;#bd0026ff&#x27;, &#x27;#bd0026ff&#x27;, &#x27;#bd0026ff&#x27;, &#x27;#bd0026ff&#x27;, &#x27;#bd0026ff&#x27;, &#x27;#bd0026ff&#x27;, &#x27;#bd0026ff&#x27;, &#x27;#bd0026ff&#x27;, &#x27;#bd0026ff&#x27;, &#x27;#bd0026ff&#x27;, &#x27;#bd0026ff&#x27;, &#x27;#bd0026ff&#x27;, &#x27;#bd0026ff&#x27;, &#x27;#bd0026ff&#x27;, &#x27;#bd0026ff&#x27;, &#x27;#bd0026ff&#x27;, &#x27;#bd0026ff&#x27;, &#x27;#bd0026ff&#x27;, &#x27;#bd0026ff&#x27;, &#x27;#bd0026ff&#x27;, &#x27;#bd0026ff&#x27;, &#x27;#bd0026ff&#x27;, &#x27;#bd0026ff&#x27;, &#x27;#bd0026ff&#x27;, &#x27;#bd0026ff&#x27;, &#x27;#bd0026ff&#x27;, &#x27;#bd0026ff&#x27;, &#x27;#bd0026ff&#x27;, &#x27;#bd0026ff&#x27;, &#x27;#bd0026ff&#x27;, &#x27;#bd0026ff&#x27;, &#x27;#bd0026ff&#x27;, &#x27;#bd0026ff&#x27;, &#x27;#bd0026ff&#x27;, &#x27;#bd0026ff&#x27;, &#x27;#bd0026ff&#x27;, &#x27;#bd0026ff&#x27;, &#x27;#bd0026ff&#x27;, &#x27;#bd0026ff&#x27;, &#x27;#bd0026ff&#x27;, &#x27;#bd0026ff&#x27;, &#x27;#bd0026ff&#x27;, &#x27;#bd0026ff&#x27;, &#x27;#bd0026ff&#x27;, &#x27;#bd0026ff&#x27;, &#x27;#bd0026ff&#x27;, &#x27;#bd0026ff&#x27;, &#x27;#bd0026ff&#x27;, &#x27;#bd0026ff&#x27;, &#x27;#bd0026ff&#x27;, &#x27;#bd0026ff&#x27;, &#x27;#bd0026ff&#x27;, &#x27;#bd0026ff&#x27;, &#x27;#bd0026ff&#x27;, &#x27;#bd0026ff&#x27;, &#x27;#bd0026ff&#x27;, &#x27;#bd0026ff&#x27;, &#x27;#bd0026ff&#x27;, &#x27;#bd0026ff&#x27;, &#x27;#bd0026ff&#x27;, &#x27;#bd0026ff&#x27;, &#x27;#bd0026ff&#x27;, &#x27;#bd0026ff&#x27;, &#x27;#bd0026ff&#x27;, &#x27;#bd0026ff&#x27;, &#x27;#bd0026ff&#x27;, &#x27;#bd0026ff&#x27;, &#x27;#bd0026ff&#x27;, &#x27;#bd0026ff&#x27;, &#x27;#bd0026ff&#x27;, &#x27;#bd0026ff&#x27;, &#x27;#bd0026ff&#x27;, &#x27;#bd0026ff&#x27;, &#x27;#bd0026ff&#x27;, &#x27;#bd0026ff&#x27;, &#x27;#bd0026ff&#x27;, &#x27;#bd0026ff&#x27;, &#x27;#bd0026ff&#x27;, &#x27;#bd0026ff&#x27;, &#x27;#bd0026ff&#x27;, &#x27;#bd0026ff&#x27;, &#x27;#bd0026ff&#x27;, &#x27;#bd0026ff&#x27;, &#x27;#bd0026ff&#x27;, &#x27;#bd0026ff&#x27;, &#x27;#bd0026ff&#x27;, &#x27;#bd0026ff&#x27;, &#x27;#bd0026ff&#x27;, &#x27;#bd0026ff&#x27;, &#x27;#bd0026ff&#x27;, &#x27;#bd0026ff&#x27;, &#x27;#bd0026ff&#x27;, &#x27;#bd0026ff&#x27;, &#x27;#bd0026ff&#x27;, &#x27;#bd0026ff&#x27;, &#x27;#bd0026ff&#x27;, &#x27;#bd0026ff&#x27;, &#x27;#bd0026ff&#x27;, &#x27;#bd0026ff&#x27;, &#x27;#bd0026ff&#x27;, &#x27;#bd0026ff&#x27;, &#x27;#bd0026ff&#x27;, &#x27;#bd0026ff&#x27;, &#x27;#bd0026ff&#x27;, &#x27;#bd0026ff&#x27;, &#x27;#bd0026ff&#x27;, &#x27;#bd0026ff&#x27;, &#x27;#bd0026ff&#x27;, &#x27;#bd0026ff&#x27;, &#x27;#bd0026ff&#x27;, &#x27;#bd0026ff&#x27;, &#x27;#bd0026ff&#x27;, &#x27;#bd0026ff&#x27;, &#x27;#bd0026ff&#x27;, &#x27;#bd0026ff&#x27;, &#x27;#bd0026ff&#x27;, &#x27;#bd0026ff&#x27;, &#x27;#bd0026ff&#x27;, &#x27;#bd0026ff&#x27;, &#x27;#bd0026ff&#x27;, &#x27;#bd0026ff&#x27;, &#x27;#bd0026ff&#x27;, &#x27;#bd0026ff&#x27;, &#x27;#bd0026ff&#x27;, &#x27;#bd0026ff&#x27;, &#x27;#bd0026ff&#x27;, &#x27;#bd0026ff&#x27;, &#x27;#bd0026ff&#x27;, &#x27;#bd0026ff&#x27;, &#x27;#bd0026ff&#x27;, &#x27;#bd0026ff&#x27;, &#x27;#bd0026ff&#x27;, &#x27;#bd0026ff&#x27;, &#x27;#bd0026ff&#x27;, &#x27;#bd0026ff&#x27;, &#x27;#bd0026ff&#x27;, &#x27;#bd0026ff&#x27;, &#x27;#bd0026ff&#x27;, &#x27;#bd0026ff&#x27;, &#x27;#bd0026ff&#x27;, &#x27;#bd0026ff&#x27;, &#x27;#bd0026ff&#x27;, &#x27;#bd0026ff&#x27;, &#x27;#bd0026ff&#x27;, &#x27;#bd0026ff&#x27;, &#x27;#bd0026ff&#x27;, &#x27;#bd0026ff&#x27;, &#x27;#bd0026ff&#x27;, &#x27;#bd0026ff&#x27;, &#x27;#bd0026ff&#x27;, &#x27;#bd0026ff&#x27;, &#x27;#bd0026ff&#x27;, &#x27;#bd0026ff&#x27;, &#x27;#bd0026ff&#x27;, &#x27;#bd0026ff&#x27;, &#x27;#bd0026ff&#x27;, &#x27;#bd0026ff&#x27;, &#x27;#bd0026ff&#x27;, &#x27;#bd0026ff&#x27;, &#x27;#bd0026ff&#x27;, &#x27;#bd0026ff&#x27;, &#x27;#bd0026ff&#x27;]);\n",
       "    \n",
       "\n",
       "    color_map_a108a00e3bd2fc19cb453d5c091d3fdb.x = d3.scale.linear()\n",
       "              .domain([12346.937377292308, 14735.41143760989])\n",
       "              .range([0, 450 - 50]);\n",
       "\n",
       "    color_map_a108a00e3bd2fc19cb453d5c091d3fdb.legend = L.control({position: &#x27;topright&#x27;});\n",
       "    color_map_a108a00e3bd2fc19cb453d5c091d3fdb.legend.onAdd = function (map) {var div = L.DomUtil.create(&#x27;div&#x27;, &#x27;legend&#x27;); return div};\n",
       "    color_map_a108a00e3bd2fc19cb453d5c091d3fdb.legend.addTo(map_7421aee7ece3186dce09c6a605313334);\n",
       "\n",
       "    color_map_a108a00e3bd2fc19cb453d5c091d3fdb.xAxis = d3.svg.axis()\n",
       "        .scale(color_map_a108a00e3bd2fc19cb453d5c091d3fdb.x)\n",
       "        .orient(&quot;top&quot;)\n",
       "        .tickSize(1)\n",
       "        .tickValues([12346.937377292308, 12409.279457287294, 12641.949578437654, 13215.275781898767, 13937.995284875438, 14735.41143760989]);\n",
       "\n",
       "    color_map_a108a00e3bd2fc19cb453d5c091d3fdb.svg = d3.select(&quot;.legend.leaflet-control&quot;).append(&quot;svg&quot;)\n",
       "        .attr(&quot;id&quot;, &#x27;legend&#x27;)\n",
       "        .attr(&quot;width&quot;, 450)\n",
       "        .attr(&quot;height&quot;, 40);\n",
       "\n",
       "    color_map_a108a00e3bd2fc19cb453d5c091d3fdb.g = color_map_a108a00e3bd2fc19cb453d5c091d3fdb.svg.append(&quot;g&quot;)\n",
       "        .attr(&quot;class&quot;, &quot;key&quot;)\n",
       "        .attr(&quot;transform&quot;, &quot;translate(25,16)&quot;);\n",
       "\n",
       "    color_map_a108a00e3bd2fc19cb453d5c091d3fdb.g.selectAll(&quot;rect&quot;)\n",
       "        .data(color_map_a108a00e3bd2fc19cb453d5c091d3fdb.color.range().map(function(d, i) {\n",
       "          return {\n",
       "            x0: i ? color_map_a108a00e3bd2fc19cb453d5c091d3fdb.x(color_map_a108a00e3bd2fc19cb453d5c091d3fdb.color.domain()[i - 1]) : color_map_a108a00e3bd2fc19cb453d5c091d3fdb.x.range()[0],\n",
       "            x1: i &lt; color_map_a108a00e3bd2fc19cb453d5c091d3fdb.color.domain().length ? color_map_a108a00e3bd2fc19cb453d5c091d3fdb.x(color_map_a108a00e3bd2fc19cb453d5c091d3fdb.color.domain()[i]) : color_map_a108a00e3bd2fc19cb453d5c091d3fdb.x.range()[1],\n",
       "            z: d\n",
       "          };\n",
       "        }))\n",
       "      .enter().append(&quot;rect&quot;)\n",
       "        .attr(&quot;height&quot;, 40 - 30)\n",
       "        .attr(&quot;x&quot;, function(d) { return d.x0; })\n",
       "        .attr(&quot;width&quot;, function(d) { return d.x1 - d.x0; })\n",
       "        .style(&quot;fill&quot;, function(d) { return d.z; });\n",
       "\n",
       "    color_map_a108a00e3bd2fc19cb453d5c091d3fdb.g.call(color_map_a108a00e3bd2fc19cb453d5c091d3fdb.xAxis).append(&quot;text&quot;)\n",
       "        .attr(&quot;class&quot;, &quot;caption&quot;)\n",
       "        .attr(&quot;y&quot;, 21)\n",
       "        .text(&quot;Region&quot;);\n",
       "    \n",
       "            var layer_control_c70c977390238011468ed122a72d8a69 = {\n",
       "                base_layers : {\n",
       "                    &quot;openstreetmap&quot; : tile_layer_24117aa6fedf284c36008f10fa82068d,\n",
       "                },\n",
       "                overlays :  {\n",
       "                    &quot;macro_element_9e5467e159868bdd58edd2ef452b1fe9&quot; : choropleth_9e5467e159868bdd58edd2ef452b1fe9,\n",
       "                },\n",
       "            };\n",
       "            L.control.layers(\n",
       "                layer_control_c70c977390238011468ed122a72d8a69.base_layers,\n",
       "                layer_control_c70c977390238011468ed122a72d8a69.overlays,\n",
       "                {&quot;autoZIndex&quot;: true, &quot;collapsed&quot;: true, &quot;position&quot;: &quot;topright&quot;}\n",
       "            ).addTo(map_7421aee7ece3186dce09c6a605313334);\n",
       "        \n",
       "&lt;/script&gt;\n",
       "&lt;/html&gt;\" style=\"position:absolute;width:100%;height:100%;left:0;top:0;border:none !important;\" allowfullscreen webkitallowfullscreen mozallowfullscreen></iframe></div></div>"
      ],
      "text/plain": [
       "<folium.folium.Map at 0x7fb308408b20>"
      ]
     },
     "execution_count": 43,
     "metadata": {},
     "output_type": "execute_result"
    }
   ],
   "source": [
    "# 1) Setup a folium map at a high-level zoom\n",
    "\n",
    "map = folium.Map(location = [100, 1], zoom_start = 1, bins = 1)\n",
    "\n",
    "# Set colors\n",
    "\n",
    "custom_scale = (data_to_plot['Charges'].quantile((0,0.2,0.4,0.6,0.8,1))).tolist()\n",
    "\n",
    "# 2) Choropleth maps bind Pandas Data Frames and json geometries\n",
    "folium.Choropleth(\n",
    "    geo_data = data, \n",
    "    data = data_to_plot,\n",
    "    columns = ['Region', 'Charges'],\n",
    "    key_on = 'feature.properties.name', # check your json file to see where the KEY is located\n",
    "    threshold_scale = custom_scale, #use the custom scale we created for legend\n",
    "    fill_color = 'YlOrRd', fill_opacity=0.6, line_opacity=0.5,\n",
    "    legend_name = 'Region',\n",
    "    label = \"Region\").add_to(map)\n",
    "\n",
    "# 3) Apply the chosen argument settings to the map. \n",
    "folium.LayerControl().add_to(map)\n",
    "\n",
    "map"
   ]
  },
  {
   "cell_type": "markdown",
   "id": "2d0a67cc",
   "metadata": {},
   "source": [
    "---"
   ]
  },
  {
   "cell_type": "markdown",
   "id": "47fdfb02",
   "metadata": {},
   "source": [
    "# 4. Partial Results"
   ]
  },
  {
   "cell_type": "markdown",
   "id": "4d9ec89d",
   "metadata": {},
   "source": [
    "### Initial question:\n",
    "\n",
    "###### Which region has the highest costs? Are any relevant correlations between one region and another concerning a more significant number of the elderly population?\n",
    "\n",
    "Considering the results of each region, the mean detail is the following:\n",
    "\n",
    "    * northeast\t13406.384516\n",
    "    * northwest\t12450.840844\n",
    "    * southeast\t14735.411438\n",
    "    * southwest\t12346.937377\n",
    "\n",
    "In this sense, the **southeast region** has the highest average charges among the other regions. At a glance, we cannot say that a more significant number of the elderly population is associated with a greater number of charges. Further investigation should be carried out to clarify this correlation."
   ]
  },
  {
   "cell_type": "markdown",
   "id": "f27fe533",
   "metadata": {},
   "source": [
    "---"
   ]
  },
  {
   "cell_type": "markdown",
   "id": "a1925ebd",
   "metadata": {},
   "source": [
    "# 5.  Exporting Data & Visualizations"
   ]
  },
  {
   "cell_type": "code",
   "execution_count": 44,
   "id": "804cd6ca",
   "metadata": {},
   "outputs": [],
   "source": [
    "# Export df_medical_costs as .pkl\n",
    "\n",
    "df_medical_costs.to_pickle(os.path.join(path, 'medical_cost_geo_viz.pkl'))"
   ]
  }
 ],
 "metadata": {
  "kernelspec": {
   "display_name": "Python 3 (ipykernel)",
   "language": "python",
   "name": "python3"
  },
  "language_info": {
   "codemirror_mode": {
    "name": "ipython",
    "version": 3
   },
   "file_extension": ".py",
   "mimetype": "text/x-python",
   "name": "python",
   "nbconvert_exporter": "python",
   "pygments_lexer": "ipython3",
   "version": "3.9.7"
  }
 },
 "nbformat": 4,
 "nbformat_minor": 5
}
